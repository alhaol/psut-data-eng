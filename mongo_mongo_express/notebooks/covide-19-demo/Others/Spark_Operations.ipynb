{
 "cells": [
  {
   "cell_type": "markdown",
   "metadata": {
    "id": "dwqKU-PhhC58"
   },
   "source": [
    "##Apache Spark with Google Colab\n",
    "\n",
    "\n",
    "Setting up  Spark 2.4.7 with all dependencies on google colab. \n",
    "\n",
    "* Installing Java in the Google Colaboratory\n",
    "* Setting up Spark 2.4.7  in the Google Colaboratory\n",
    "* A test example\n",
    "\n",
    "\n"
   ]
  },
  {
   "cell_type": "markdown",
   "metadata": {
    "id": "2COZzvqcf-Pg"
   },
   "source": [
    "# Setting up Spark 2.4.7 the Google Colaboratory\n",
    "\n",
    "This notebook comprises the instructions to run pyspark on google Colab. \n",
    "\n",
    "We will install the following OS tools \n",
    "\n",
    "* Java 8\n",
    "* spark-2.4.7\n",
    "* Hadoop2.7\n",
    "* [Findspark](https://github.com/minrk/findspark)\n",
    "\n",
    "\n",
    "> Make sure the spark-version you are downloading is availbale on target link\n",
    "\n"
   ]
  },
  {
   "cell_type": "code",
   "execution_count": null,
   "metadata": {
    "colab": {
     "base_uri": "https://localhost:8080/"
    },
    "executionInfo": {
     "elapsed": 13781,
     "status": "ok",
     "timestamp": 1606837251558,
     "user": {
      "displayName": "Ibrahim Abu Alhaol",
      "photoUrl": "https://lh3.googleusercontent.com/a-/AOh14GjRvrebxMDZgnHVVgf2jggVAk9E6ufnpjzPPcXJ=s64",
      "userId": "00373072729262931595"
     },
     "user_tz": -120
    },
    "id": "3MZdDu9LhLwN",
    "outputId": "82b3fd02-3e6a-48e6-9516-c55a493f06a5"
   },
   "outputs": [
    {
     "name": "stdout",
     "output_type": "stream",
     "text": [
      "\n",
      "It took 10.741833686828613 seconds to install all dependencies for spark to run on Google Colab. \n",
      "\n"
     ]
    }
   ],
   "source": [
    "import time\n",
    "\n",
    "Start=time.time()\n",
    "# Download and install tools \n",
    "\n",
    "# Install Java\n",
    "!apt-get install openjdk-8-jdk-headless -qq > /dev/null\n",
    "\n",
    "# Download and Install Spark\n",
    "!wget  -q http://apache.osuosl.org/spark/spark-2.4.7/spark-2.4.7-bin-hadoop2.7.tgz\n",
    "!tar xf spark-2.4.7-bin-hadoop2.7.tgz\n",
    "\n",
    "# Install findspark\n",
    "!pip install -q findspark\n",
    "\n",
    "print(f\"\\nIt took {(time.time()-Start)} seconds to install all dependencies for spark to run on Google Colab. \\n\")\n"
   ]
  },
  {
   "cell_type": "markdown",
   "metadata": {
    "id": "0esBcuIC8SX5"
   },
   "source": []
  },
  {
   "cell_type": "code",
   "execution_count": null,
   "metadata": {
    "id": "sit9TX0chlNF"
   },
   "outputs": [],
   "source": [
    "# Set environment variables\n",
    "import os\n",
    "os.environ[\"JAVA_HOME\"] = \"/usr/lib/jvm/java-8-openjdk-amd64\"\n",
    "os.environ[\"SPARK_HOME\"] = \"/content/spark-2.4.7-bin-hadoop2.7\""
   ]
  },
  {
   "cell_type": "markdown",
   "metadata": {
    "id": "da7M2Wi1jC1c"
   },
   "source": [
    "## Spark Installation test\n",
    "Lets test the installation of spark in our google colab environment. "
   ]
  },
  {
   "cell_type": "markdown",
   "metadata": {
    "id": "tEvyS32QLaHD"
   },
   "source": [
    "```python \n",
    "\n",
    "import findspark\n",
    "import numpy as np\n",
    "findspark.init()\n",
    "\n",
    "from pyspark.sql import SparkSession\n",
    "\n",
    "spark = SparkSession.builder.master(\"local[*]\").getOrCreate()\n",
    "# Test the spark \n",
    "NameList = ['Ahmad', 'Salem', 'Noor', 'Heba']\n",
    "\n",
    "NumberOfSamples=int(1000)\n",
    "\n",
    "df = spark.createDataFrame([{\"Column1\": np.random.randint(1,100), \n",
    "                             \"Column2\":np.random.randint(24,35), \n",
    "                             \"Column3\":np.random.random(),\n",
    "                             \"Name\":str(np.random.choice(NameList,p=[.5,.2,.1,.2])),\n",
    "                             }\n",
    "                              for i in range(NumberOfSamples)])\n",
    "```"
   ]
  },
  {
   "cell_type": "code",
   "execution_count": null,
   "metadata": {
    "id": "GHWZpFEqLRXX"
   },
   "outputs": [],
   "source": []
  },
  {
   "cell_type": "code",
   "execution_count": null,
   "metadata": {
    "colab": {
     "base_uri": "https://localhost:8080/"
    },
    "executionInfo": {
     "elapsed": 2924,
     "status": "ok",
     "timestamp": 1606837292889,
     "user": {
      "displayName": "Ibrahim Abu Alhaol",
      "photoUrl": "https://lh3.googleusercontent.com/a-/AOh14GjRvrebxMDZgnHVVgf2jggVAk9E6ufnpjzPPcXJ=s64",
      "userId": "00373072729262931595"
     },
     "user_tz": -120
    },
    "id": "Y18KVg34jkXj",
    "outputId": "c798877a-1fe1-46a9-a753-4e03bd71aae7"
   },
   "outputs": [
    {
     "name": "stderr",
     "output_type": "stream",
     "text": [
      "/content/spark-2.4.7-bin-hadoop2.7/python/pyspark/sql/session.py:346: UserWarning: inferring schema from dict is deprecated,please use pyspark.sql.Row instead\n",
      "  warnings.warn(\"inferring schema from dict is deprecated,\"\n"
     ]
    },
    {
     "name": "stdout",
     "output_type": "stream",
     "text": [
      "+-------+-------+------------------+-----+\n",
      "|Column1|Column2|Column3           |Name |\n",
      "+-------+-------+------------------+-----+\n",
      "|14     |32     |0.7450478648089105|Ahmad|\n",
      "|78     |33     |0.6252066002346331|Heba |\n",
      "|1      |24     |0.7735847706241884|Salem|\n",
      "+-------+-------+------------------+-----+\n",
      "only showing top 3 rows\n",
      "\n"
     ]
    }
   ],
   "source": [
    "import findspark\n",
    "import numpy as np\n",
    "findspark.init()\n",
    "\n",
    "from pyspark.sql import SparkSession\n",
    "\n",
    "spark = SparkSession.builder.master(\"local[*]\").getOrCreate()\n",
    "# Test the spark \n",
    "NameList = ['Ahmad', 'Salem', 'Noor', 'Heba']\n",
    "\n",
    "NumberOfSamples=int(1000)\n",
    "\n",
    "df = spark.createDataFrame([{\"Column1\": np.random.randint(1,100), \n",
    "                             \"Column2\":np.random.randint(24,35), \n",
    "                             \"Column3\":np.random.random(),\n",
    "                             \"Name\":str(np.random.choice(NameList,p=[.5,.2,.1,.2])),\n",
    "                             }\n",
    "                              for i in range(NumberOfSamples)])\n",
    "\n",
    "df.show(3, False)\n",
    "\n",
    "#spark.stop()"
   ]
  },
  {
   "cell_type": "markdown",
   "metadata": {
    "id": "coa-Lp2Yyc2V"
   },
   "source": [
    "##Actions"
   ]
  },
  {
   "cell_type": "markdown",
   "metadata": {
    "id": "uY4iV5xe1YOM"
   },
   "source": [
    "####PrintSchem Prints out the schema in the tree format.\t"
   ]
  },
  {
   "cell_type": "code",
   "execution_count": null,
   "metadata": {
    "id": "FVk_mJCf-TKV"
   },
   "outputs": [],
   "source": [
    "df.printSchema?"
   ]
  },
  {
   "cell_type": "code",
   "execution_count": null,
   "metadata": {
    "colab": {
     "base_uri": "https://localhost:8080/"
    },
    "executionInfo": {
     "elapsed": 2918,
     "status": "ok",
     "timestamp": 1606824271981,
     "user": {
      "displayName": "Ibrahim Abu Alhaol",
      "photoUrl": "https://lh3.googleusercontent.com/a-/AOh14GjRvrebxMDZgnHVVgf2jggVAk9E6ufnpjzPPcXJ=s64",
      "userId": "00373072729262931595"
     },
     "user_tz": -120
    },
    "id": "0TiyN-6tyRbR",
    "outputId": "6ccb93fd-cf24-415a-8184-116b55601cc1"
   },
   "outputs": [
    {
     "name": "stdout",
     "output_type": "stream",
     "text": [
      "root\n",
      " |-- Column1: long (nullable = true)\n",
      " |-- Column2: long (nullable = true)\n",
      " |-- Column3: double (nullable = true)\n",
      " |-- Name: string (nullable = true)\n",
      "\n"
     ]
    }
   ],
   "source": [
    "df.printSchema()"
   ]
  },
  {
   "cell_type": "markdown",
   "metadata": {
    "id": "O4qNl82d1d1M"
   },
   "source": [
    "####collect: Returns all the records as a list of rows..\t"
   ]
  },
  {
   "cell_type": "code",
   "execution_count": null,
   "metadata": {
    "id": "Yuj7tqoQ1d1M"
   },
   "outputs": [],
   "source": [
    "df.collect() # Very heavy and will consume the RAM"
   ]
  },
  {
   "cell_type": "markdown",
   "metadata": {
    "id": "3IhSNgzl2MOb"
   },
   "source": [
    "####show: Prints the first n rows to the console.\t"
   ]
  },
  {
   "cell_type": "code",
   "execution_count": null,
   "metadata": {
    "colab": {
     "base_uri": "https://localhost:8080/"
    },
    "executionInfo": {
     "elapsed": 2099,
     "status": "ok",
     "timestamp": 1606837679945,
     "user": {
      "displayName": "Ibrahim Abu Alhaol",
      "photoUrl": "https://lh3.googleusercontent.com/a-/AOh14GjRvrebxMDZgnHVVgf2jggVAk9E6ufnpjzPPcXJ=s64",
      "userId": "00373072729262931595"
     },
     "user_tz": -120
    },
    "id": "4lfKOy18_RL9",
    "outputId": "28f2c2ad-641c-49f7-9af6-e128f4cee485"
   },
   "outputs": [
    {
     "name": "stdout",
     "output_type": "stream",
     "text": [
      "+-------+-------+------------------+-----+\n",
      "|Column1|Column2|           Column3| Name|\n",
      "+-------+-------+------------------+-----+\n",
      "|     14|     32|0.7450478648089105|Ahmad|\n",
      "|     78|     33|0.6252066002346331| Heba|\n",
      "|      1|     24|0.7735847706241884|Salem|\n",
      "+-------+-------+------------------+-----+\n",
      "only showing top 3 rows\n",
      "\n"
     ]
    }
   ],
   "source": [
    "df.show(3)"
   ]
  },
  {
   "cell_type": "code",
   "execution_count": null,
   "metadata": {
    "colab": {
     "base_uri": "https://localhost:8080/"
    },
    "executionInfo": {
     "elapsed": 1973,
     "status": "ok",
     "timestamp": 1606837722277,
     "user": {
      "displayName": "Ibrahim Abu Alhaol",
      "photoUrl": "https://lh3.googleusercontent.com/a-/AOh14GjRvrebxMDZgnHVVgf2jggVAk9E6ufnpjzPPcXJ=s64",
      "userId": "00373072729262931595"
     },
     "user_tz": -120
    },
    "id": "0ITNqg_I2MOb",
    "outputId": "0f94ca77-f179-4bb2-8821-6d2b54fdea88"
   },
   "outputs": [
    {
     "name": "stdout",
     "output_type": "stream",
     "text": [
      "-RECORD 0---------------------\n",
      " Column1 | 14                 \n",
      " Column2 | 32                 \n",
      " Column3 | 0.7450478648089105 \n",
      " Name    | Ahmad              \n",
      "-RECORD 1---------------------\n",
      " Column1 | 78                 \n",
      " Column2 | 33                 \n",
      " Column3 | 0.6252066002346331 \n",
      " Name    | Heba               \n",
      "-RECORD 2---------------------\n",
      " Column1 | 1                  \n",
      " Column2 | 24                 \n",
      " Column3 | 0.7735847706241884 \n",
      " Name    | Salem              \n",
      "only showing top 3 rows\n",
      "\n"
     ]
    }
   ],
   "source": [
    "df.show(3,vertical=True)"
   ]
  },
  {
   "cell_type": "markdown",
   "metadata": {
    "id": "wORYeqCH2y7h"
   },
   "source": [
    "####take: Returns the first ``num`` rows as a :class:`list` of :class:`Row`."
   ]
  },
  {
   "cell_type": "code",
   "execution_count": null,
   "metadata": {
    "colab": {
     "base_uri": "https://localhost:8080/"
    },
    "executionInfo": {
     "elapsed": 2580,
     "status": "ok",
     "timestamp": 1606824272965,
     "user": {
      "displayName": "Ibrahim Abu Alhaol",
      "photoUrl": "https://lh3.googleusercontent.com/a-/AOh14GjRvrebxMDZgnHVVgf2jggVAk9E6ufnpjzPPcXJ=s64",
      "userId": "00373072729262931595"
     },
     "user_tz": -120
    },
    "id": "X1Aj2rec2y7h",
    "outputId": "9bf06c05-a701-42e5-c7b9-6a91a75b4210"
   },
   "outputs": [
    {
     "data": {
      "text/plain": [
       "[Row(Column1=11, Column2=26, Column3=0.7575907507340062, Name='Ahmad'),\n",
       " Row(Column1=70, Column2=31, Column3=0.17963818734322423, Name='Ahmad'),\n",
       " Row(Column1=31, Column2=33, Column3=0.30812033890731083, Name='Ahmad'),\n",
       " Row(Column1=69, Column2=34, Column3=0.10622605366645588, Name='Ahmad'),\n",
       " Row(Column1=74, Column2=30, Column3=0.613734613707287, Name='Noor'),\n",
       " Row(Column1=70, Column2=32, Column3=0.7539031179555397, Name='Heba'),\n",
       " Row(Column1=14, Column2=26, Column3=0.1516206273853422, Name='Salem'),\n",
       " Row(Column1=3, Column2=24, Column3=0.021956155600000193, Name='Heba'),\n",
       " Row(Column1=86, Column2=29, Column3=0.9601741879157639, Name='Ahmad'),\n",
       " Row(Column1=36, Column2=26, Column3=0.44203699216050985, Name='Heba')]"
      ]
     },
     "execution_count": 7,
     "metadata": {
      "tags": []
     },
     "output_type": "execute_result"
    }
   ],
   "source": [
    "df.take(10)\n"
   ]
  },
  {
   "cell_type": "code",
   "execution_count": null,
   "metadata": {
    "colab": {
     "base_uri": "https://localhost:8080/"
    },
    "executionInfo": {
     "elapsed": 1935,
     "status": "ok",
     "timestamp": 1606837816634,
     "user": {
      "displayName": "Ibrahim Abu Alhaol",
      "photoUrl": "https://lh3.googleusercontent.com/a-/AOh14GjRvrebxMDZgnHVVgf2jggVAk9E6ufnpjzPPcXJ=s64",
      "userId": "00373072729262931595"
     },
     "user_tz": -120
    },
    "id": "vVg-X11Q2Vnq",
    "outputId": "2af4a2ce-0ab5-4f61-eb32-b2f6e0dc8fdd"
   },
   "outputs": [
    {
     "name": "stdout",
     "output_type": "stream",
     "text": [
      "+-------+-------+-------------------+-----+\n",
      "|Column1|Column2|            Column3| Name|\n",
      "+-------+-------+-------------------+-----+\n",
      "|     14|     32| 0.7450478648089105|Ahmad|\n",
      "|     78|     33| 0.6252066002346331| Heba|\n",
      "|      1|     24| 0.7735847706241884|Salem|\n",
      "|     62|     32|0.03857488466435954|Ahmad|\n",
      "|      6|     29| 0.9144743569281736|Salem|\n",
      "|      2|     27|0.27016203510613923| Noor|\n",
      "|     17|     27|0.07240106604230823|Salem|\n",
      "|     16|     28| 0.3942327952082627|Ahmad|\n",
      "|     82|     33| 0.0989762432650948|Ahmad|\n",
      "|     77|     29|0.45762229801327703|Salem|\n",
      "+-------+-------+-------------------+-----+\n",
      "\n"
     ]
    }
   ],
   "source": [
    "df1 = spark.createDataFrame(df.take(10))\n",
    "df1.show(20)"
   ]
  },
  {
   "cell_type": "markdown",
   "metadata": {
    "id": "8myzCCz-3ju-"
   },
   "source": [
    "####head: Returns the first ``n`` rows."
   ]
  },
  {
   "cell_type": "code",
   "execution_count": null,
   "metadata": {
    "colab": {
     "base_uri": "https://localhost:8080/"
    },
    "executionInfo": {
     "elapsed": 1517,
     "status": "ok",
     "timestamp": 1606837911132,
     "user": {
      "displayName": "Ibrahim Abu Alhaol",
      "photoUrl": "https://lh3.googleusercontent.com/a-/AOh14GjRvrebxMDZgnHVVgf2jggVAk9E6ufnpjzPPcXJ=s64",
      "userId": "00373072729262931595"
     },
     "user_tz": -120
    },
    "id": "cjHLhSOf3ju-",
    "outputId": "4af5bd27-2eba-4f9a-d754-4ea650856e5e"
   },
   "outputs": [
    {
     "data": {
      "text/plain": [
       "[Row(Column1=14, Column2=32, Column3=0.7450478648089105, Name='Ahmad'),\n",
       " Row(Column1=78, Column2=33, Column3=0.6252066002346331, Name='Heba'),\n",
       " Row(Column1=1, Column2=24, Column3=0.7735847706241884, Name='Salem'),\n",
       " Row(Column1=62, Column2=32, Column3=0.03857488466435954, Name='Ahmad'),\n",
       " Row(Column1=6, Column2=29, Column3=0.9144743569281736, Name='Salem'),\n",
       " Row(Column1=2, Column2=27, Column3=0.27016203510613923, Name='Noor'),\n",
       " Row(Column1=17, Column2=27, Column3=0.07240106604230823, Name='Salem'),\n",
       " Row(Column1=16, Column2=28, Column3=0.3942327952082627, Name='Ahmad'),\n",
       " Row(Column1=82, Column2=33, Column3=0.0989762432650948, Name='Ahmad'),\n",
       " Row(Column1=77, Column2=29, Column3=0.45762229801327703, Name='Salem')]"
      ]
     },
     "execution_count": 45,
     "metadata": {
      "tags": []
     },
     "output_type": "execute_result"
    }
   ],
   "source": [
    "df.head(10)\n"
   ]
  },
  {
   "cell_type": "code",
   "execution_count": null,
   "metadata": {
    "colab": {
     "base_uri": "https://localhost:8080/"
    },
    "executionInfo": {
     "elapsed": 1552,
     "status": "ok",
     "timestamp": 1606824273487,
     "user": {
      "displayName": "Ibrahim Abu Alhaol",
      "photoUrl": "https://lh3.googleusercontent.com/a-/AOh14GjRvrebxMDZgnHVVgf2jggVAk9E6ufnpjzPPcXJ=s64",
      "userId": "00373072729262931595"
     },
     "user_tz": -120
    },
    "id": "s6Z0jG0d3qPH",
    "outputId": "1530184a-06b1-4d3a-939f-1151ec17376a"
   },
   "outputs": [
    {
     "name": "stdout",
     "output_type": "stream",
     "text": [
      "+-------+-------+--------------------+-----+\n",
      "|Column1|Column2|             Column3| Name|\n",
      "+-------+-------+--------------------+-----+\n",
      "|     11|     26|  0.7575907507340062|Ahmad|\n",
      "|     70|     31| 0.17963818734322423|Ahmad|\n",
      "|     31|     33| 0.30812033890731083|Ahmad|\n",
      "|     69|     34| 0.10622605366645588|Ahmad|\n",
      "|     74|     30|   0.613734613707287| Noor|\n",
      "|     70|     32|  0.7539031179555397| Heba|\n",
      "|     14|     26|  0.1516206273853422|Salem|\n",
      "|      3|     24|0.021956155600000193| Heba|\n",
      "|     86|     29|  0.9601741879157639|Ahmad|\n",
      "|     36|     26| 0.44203699216050985| Heba|\n",
      "+-------+-------+--------------------+-----+\n",
      "\n"
     ]
    }
   ],
   "source": [
    "df2 = spark.createDataFrame(df.head(10))\n",
    "df2.show(100)"
   ]
  },
  {
   "cell_type": "markdown",
   "metadata": {
    "id": "1-wrFbJI4K3k"
   },
   "source": [
    "####count: Returns the number of rows in this :class:`DataFrame`."
   ]
  },
  {
   "cell_type": "code",
   "execution_count": null,
   "metadata": {
    "id": "VcLTm8F6AcUw"
   },
   "outputs": [],
   "source": [
    "df.take?"
   ]
  },
  {
   "cell_type": "code",
   "execution_count": null,
   "metadata": {
    "id": "yyqSAlc_4K3k"
   },
   "outputs": [],
   "source": [
    "df.head?"
   ]
  },
  {
   "cell_type": "markdown",
   "metadata": {
    "id": "AuzwQZwJ4x7C"
   },
   "source": [
    "####first: Returns the first row as a :class:`Row`."
   ]
  },
  {
   "cell_type": "code",
   "execution_count": null,
   "metadata": {
    "colab": {
     "base_uri": "https://localhost:8080/"
    },
    "executionInfo": {
     "elapsed": 805,
     "status": "ok",
     "timestamp": 1606838103410,
     "user": {
      "displayName": "Ibrahim Abu Alhaol",
      "photoUrl": "https://lh3.googleusercontent.com/a-/AOh14GjRvrebxMDZgnHVVgf2jggVAk9E6ufnpjzPPcXJ=s64",
      "userId": "00373072729262931595"
     },
     "user_tz": -120
    },
    "id": "VN3zl0O24x7D",
    "outputId": "884e7f3a-8736-4690-fd45-69418dbd9e07"
   },
   "outputs": [
    {
     "data": {
      "text/plain": [
       "Row(Column1=14, Column2=32, Column3=0.7450478648089105, Name='Ahmad')"
      ]
     },
     "execution_count": 50,
     "metadata": {
      "tags": []
     },
     "output_type": "execute_result"
    }
   ],
   "source": [
    "df.first()"
   ]
  },
  {
   "cell_type": "code",
   "execution_count": null,
   "metadata": {
    "colab": {
     "base_uri": "https://localhost:8080/"
    },
    "executionInfo": {
     "elapsed": 1318,
     "status": "ok",
     "timestamp": 1606824275970,
     "user": {
      "displayName": "Ibrahim Abu Alhaol",
      "photoUrl": "https://lh3.googleusercontent.com/a-/AOh14GjRvrebxMDZgnHVVgf2jggVAk9E6ufnpjzPPcXJ=s64",
      "userId": "00373072729262931595"
     },
     "user_tz": -120
    },
    "id": "RsaJJ0m23VcZ",
    "outputId": "55ed9a10-ca61-4186-a059-b10288b23113"
   },
   "outputs": [
    {
     "data": {
      "text/plain": [
       "Row(Column1=11, Column2=26, Column3=0.7575907507340062, Name='Ahmad')"
      ]
     },
     "execution_count": 13,
     "metadata": {
      "tags": []
     },
     "output_type": "execute_result"
    }
   ],
   "source": [
    "df.first()"
   ]
  },
  {
   "cell_type": "markdown",
   "metadata": {
    "id": "-wVtin1Q5Pvi"
   },
   "source": [
    "####toPandas: Returns the contents of this :class:`DataFrame` as Pandas ``pandas.DataFrame``."
   ]
  },
  {
   "cell_type": "code",
   "execution_count": null,
   "metadata": {
    "colab": {
     "base_uri": "https://localhost:8080/"
    },
    "executionInfo": {
     "elapsed": 844,
     "status": "ok",
     "timestamp": 1606838397237,
     "user": {
      "displayName": "Ibrahim Abu Alhaol",
      "photoUrl": "https://lh3.googleusercontent.com/a-/AOh14GjRvrebxMDZgnHVVgf2jggVAk9E6ufnpjzPPcXJ=s64",
      "userId": "00373072729262931595"
     },
     "user_tz": -120
    },
    "id": "u4NZH2ynCAgy",
    "outputId": "e3b3bc35-a4f4-447f-d84f-52d076030459"
   },
   "outputs": [
    {
     "data": {
      "text/plain": [
       "1000"
      ]
     },
     "execution_count": 57,
     "metadata": {
      "tags": []
     },
     "output_type": "execute_result"
    }
   ],
   "source": [
    "df.count()"
   ]
  },
  {
   "cell_type": "code",
   "execution_count": null,
   "metadata": {
    "id": "ETQkESAT5Pvi"
   },
   "outputs": [],
   "source": [
    "DF=df.toPandas()"
   ]
  },
  {
   "cell_type": "code",
   "execution_count": null,
   "metadata": {
    "colab": {
     "base_uri": "https://localhost:8080/"
    },
    "executionInfo": {
     "elapsed": 2583,
     "status": "ok",
     "timestamp": 1606838493859,
     "user": {
      "displayName": "Ibrahim Abu Alhaol",
      "photoUrl": "https://lh3.googleusercontent.com/a-/AOh14GjRvrebxMDZgnHVVgf2jggVAk9E6ufnpjzPPcXJ=s64",
      "userId": "00373072729262931595"
     },
     "user_tz": -120
    },
    "id": "ch2l3rNNCMch",
    "outputId": "7d01f460-0fd2-446b-d64e-e610cb0846c9"
   },
   "outputs": [
    {
     "data": {
      "text/plain": [
       "1000"
      ]
     },
     "execution_count": 63,
     "metadata": {
      "tags": []
     },
     "output_type": "execute_result"
    }
   ],
   "source": [
    "len(DF)"
   ]
  },
  {
   "cell_type": "code",
   "execution_count": null,
   "metadata": {
    "colab": {
     "base_uri": "https://localhost:8080/",
     "height": 203
    },
    "executionInfo": {
     "elapsed": 2286,
     "status": "ok",
     "timestamp": 1606838493860,
     "user": {
      "displayName": "Ibrahim Abu Alhaol",
      "photoUrl": "https://lh3.googleusercontent.com/a-/AOh14GjRvrebxMDZgnHVVgf2jggVAk9E6ufnpjzPPcXJ=s64",
      "userId": "00373072729262931595"
     },
     "user_tz": -120
    },
    "id": "94W6kutd5Sgr",
    "outputId": "3952061e-9284-46e0-beec-085f3030949f"
   },
   "outputs": [
    {
     "data": {
      "text/html": [
       "<div>\n",
       "<style scoped>\n",
       "    .dataframe tbody tr th:only-of-type {\n",
       "        vertical-align: middle;\n",
       "    }\n",
       "\n",
       "    .dataframe tbody tr th {\n",
       "        vertical-align: top;\n",
       "    }\n",
       "\n",
       "    .dataframe thead th {\n",
       "        text-align: right;\n",
       "    }\n",
       "</style>\n",
       "<table border=\"1\" class=\"dataframe\">\n",
       "  <thead>\n",
       "    <tr style=\"text-align: right;\">\n",
       "      <th></th>\n",
       "      <th>Column1</th>\n",
       "      <th>Column2</th>\n",
       "      <th>Column3</th>\n",
       "      <th>Name</th>\n",
       "    </tr>\n",
       "  </thead>\n",
       "  <tbody>\n",
       "    <tr>\n",
       "      <th>0</th>\n",
       "      <td>14</td>\n",
       "      <td>32</td>\n",
       "      <td>0.745048</td>\n",
       "      <td>Ahmad</td>\n",
       "    </tr>\n",
       "    <tr>\n",
       "      <th>1</th>\n",
       "      <td>78</td>\n",
       "      <td>33</td>\n",
       "      <td>0.625207</td>\n",
       "      <td>Heba</td>\n",
       "    </tr>\n",
       "    <tr>\n",
       "      <th>2</th>\n",
       "      <td>1</td>\n",
       "      <td>24</td>\n",
       "      <td>0.773585</td>\n",
       "      <td>Salem</td>\n",
       "    </tr>\n",
       "    <tr>\n",
       "      <th>3</th>\n",
       "      <td>62</td>\n",
       "      <td>32</td>\n",
       "      <td>0.038575</td>\n",
       "      <td>Ahmad</td>\n",
       "    </tr>\n",
       "    <tr>\n",
       "      <th>4</th>\n",
       "      <td>6</td>\n",
       "      <td>29</td>\n",
       "      <td>0.914474</td>\n",
       "      <td>Salem</td>\n",
       "    </tr>\n",
       "  </tbody>\n",
       "</table>\n",
       "</div>"
      ],
      "text/plain": [
       "   Column1  Column2   Column3   Name\n",
       "0       14       32  0.745048  Ahmad\n",
       "1       78       33  0.625207   Heba\n",
       "2        1       24  0.773585  Salem\n",
       "3       62       32  0.038575  Ahmad\n",
       "4        6       29  0.914474  Salem"
      ]
     },
     "execution_count": 64,
     "metadata": {
      "tags": []
     },
     "output_type": "execute_result"
    }
   ],
   "source": [
    "DF.head()"
   ]
  },
  {
   "cell_type": "code",
   "execution_count": null,
   "metadata": {
    "colab": {
     "base_uri": "https://localhost:8080/",
     "height": 203
    },
    "executionInfo": {
     "elapsed": 2391,
     "status": "ok",
     "timestamp": 1606838495403,
     "user": {
      "displayName": "Ibrahim Abu Alhaol",
      "photoUrl": "https://lh3.googleusercontent.com/a-/AOh14GjRvrebxMDZgnHVVgf2jggVAk9E6ufnpjzPPcXJ=s64",
      "userId": "00373072729262931595"
     },
     "user_tz": -120
    },
    "id": "7j4wCJHQ5jPR",
    "outputId": "68e16fb1-7bd4-4160-c625-4d9b11a85dac"
   },
   "outputs": [
    {
     "data": {
      "text/html": [
       "<div>\n",
       "<style scoped>\n",
       "    .dataframe tbody tr th:only-of-type {\n",
       "        vertical-align: middle;\n",
       "    }\n",
       "\n",
       "    .dataframe tbody tr th {\n",
       "        vertical-align: top;\n",
       "    }\n",
       "\n",
       "    .dataframe thead th {\n",
       "        text-align: right;\n",
       "    }\n",
       "</style>\n",
       "<table border=\"1\" class=\"dataframe\">\n",
       "  <thead>\n",
       "    <tr style=\"text-align: right;\">\n",
       "      <th></th>\n",
       "      <th>Column1</th>\n",
       "      <th>Column2</th>\n",
       "      <th>Column3</th>\n",
       "      <th>Name</th>\n",
       "    </tr>\n",
       "  </thead>\n",
       "  <tbody>\n",
       "    <tr>\n",
       "      <th>995</th>\n",
       "      <td>26</td>\n",
       "      <td>32</td>\n",
       "      <td>0.410487</td>\n",
       "      <td>Salem</td>\n",
       "    </tr>\n",
       "    <tr>\n",
       "      <th>996</th>\n",
       "      <td>63</td>\n",
       "      <td>30</td>\n",
       "      <td>0.058987</td>\n",
       "      <td>Ahmad</td>\n",
       "    </tr>\n",
       "    <tr>\n",
       "      <th>997</th>\n",
       "      <td>74</td>\n",
       "      <td>30</td>\n",
       "      <td>0.762356</td>\n",
       "      <td>Ahmad</td>\n",
       "    </tr>\n",
       "    <tr>\n",
       "      <th>998</th>\n",
       "      <td>4</td>\n",
       "      <td>30</td>\n",
       "      <td>0.648594</td>\n",
       "      <td>Heba</td>\n",
       "    </tr>\n",
       "    <tr>\n",
       "      <th>999</th>\n",
       "      <td>29</td>\n",
       "      <td>26</td>\n",
       "      <td>0.995177</td>\n",
       "      <td>Ahmad</td>\n",
       "    </tr>\n",
       "  </tbody>\n",
       "</table>\n",
       "</div>"
      ],
      "text/plain": [
       "     Column1  Column2   Column3   Name\n",
       "995       26       32  0.410487  Salem\n",
       "996       63       30  0.058987  Ahmad\n",
       "997       74       30  0.762356  Ahmad\n",
       "998        4       30  0.648594   Heba\n",
       "999       29       26  0.995177  Ahmad"
      ]
     },
     "execution_count": 65,
     "metadata": {
      "tags": []
     },
     "output_type": "execute_result"
    }
   ],
   "source": [
    "DF.tail()"
   ]
  },
  {
   "cell_type": "code",
   "execution_count": null,
   "metadata": {
    "colab": {
     "base_uri": "https://localhost:8080/",
     "height": 295
    },
    "executionInfo": {
     "elapsed": 1464,
     "status": "ok",
     "timestamp": 1606838496339,
     "user": {
      "displayName": "Ibrahim Abu Alhaol",
      "photoUrl": "https://lh3.googleusercontent.com/a-/AOh14GjRvrebxMDZgnHVVgf2jggVAk9E6ufnpjzPPcXJ=s64",
      "userId": "00373072729262931595"
     },
     "user_tz": -120
    },
    "id": "C7HaaZvl5k9b",
    "outputId": "cdd41be9-caf9-437d-e82f-c6dea2b56d4a"
   },
   "outputs": [
    {
     "data": {
      "text/html": [
       "<div>\n",
       "<style scoped>\n",
       "    .dataframe tbody tr th:only-of-type {\n",
       "        vertical-align: middle;\n",
       "    }\n",
       "\n",
       "    .dataframe tbody tr th {\n",
       "        vertical-align: top;\n",
       "    }\n",
       "\n",
       "    .dataframe thead th {\n",
       "        text-align: right;\n",
       "    }\n",
       "</style>\n",
       "<table border=\"1\" class=\"dataframe\">\n",
       "  <thead>\n",
       "    <tr style=\"text-align: right;\">\n",
       "      <th></th>\n",
       "      <th>Column1</th>\n",
       "      <th>Column2</th>\n",
       "      <th>Column3</th>\n",
       "    </tr>\n",
       "  </thead>\n",
       "  <tbody>\n",
       "    <tr>\n",
       "      <th>count</th>\n",
       "      <td>1000.000000</td>\n",
       "      <td>1000.000000</td>\n",
       "      <td>1000.000000</td>\n",
       "    </tr>\n",
       "    <tr>\n",
       "      <th>mean</th>\n",
       "      <td>49.732000</td>\n",
       "      <td>29.000000</td>\n",
       "      <td>0.500327</td>\n",
       "    </tr>\n",
       "    <tr>\n",
       "      <th>std</th>\n",
       "      <td>28.585719</td>\n",
       "      <td>3.183101</td>\n",
       "      <td>0.291783</td>\n",
       "    </tr>\n",
       "    <tr>\n",
       "      <th>min</th>\n",
       "      <td>1.000000</td>\n",
       "      <td>24.000000</td>\n",
       "      <td>0.001998</td>\n",
       "    </tr>\n",
       "    <tr>\n",
       "      <th>25%</th>\n",
       "      <td>24.000000</td>\n",
       "      <td>26.000000</td>\n",
       "      <td>0.241798</td>\n",
       "    </tr>\n",
       "    <tr>\n",
       "      <th>50%</th>\n",
       "      <td>50.000000</td>\n",
       "      <td>29.000000</td>\n",
       "      <td>0.495784</td>\n",
       "    </tr>\n",
       "    <tr>\n",
       "      <th>75%</th>\n",
       "      <td>74.000000</td>\n",
       "      <td>32.000000</td>\n",
       "      <td>0.756981</td>\n",
       "    </tr>\n",
       "    <tr>\n",
       "      <th>max</th>\n",
       "      <td>99.000000</td>\n",
       "      <td>34.000000</td>\n",
       "      <td>0.999374</td>\n",
       "    </tr>\n",
       "  </tbody>\n",
       "</table>\n",
       "</div>"
      ],
      "text/plain": [
       "           Column1      Column2      Column3\n",
       "count  1000.000000  1000.000000  1000.000000\n",
       "mean     49.732000    29.000000     0.500327\n",
       "std      28.585719     3.183101     0.291783\n",
       "min       1.000000    24.000000     0.001998\n",
       "25%      24.000000    26.000000     0.241798\n",
       "50%      50.000000    29.000000     0.495784\n",
       "75%      74.000000    32.000000     0.756981\n",
       "max      99.000000    34.000000     0.999374"
      ]
     },
     "execution_count": 66,
     "metadata": {
      "tags": []
     },
     "output_type": "execute_result"
    }
   ],
   "source": [
    "DF.describe()"
   ]
  },
  {
   "cell_type": "code",
   "execution_count": null,
   "metadata": {
    "colab": {
     "base_uri": "https://localhost:8080/"
    },
    "executionInfo": {
     "elapsed": 1523,
     "status": "ok",
     "timestamp": 1606838511859,
     "user": {
      "displayName": "Ibrahim Abu Alhaol",
      "photoUrl": "https://lh3.googleusercontent.com/a-/AOh14GjRvrebxMDZgnHVVgf2jggVAk9E6ufnpjzPPcXJ=s64",
      "userId": "00373072729262931595"
     },
     "user_tz": -120
    },
    "id": "4oIHom5b5nCT",
    "outputId": "1fc9c389-c2a8-4b69-a5fc-5b089890b3a2"
   },
   "outputs": [
    {
     "name": "stdout",
     "output_type": "stream",
     "text": [
      "<class 'pandas.core.frame.DataFrame'>\n",
      "RangeIndex: 1000 entries, 0 to 999\n",
      "Data columns (total 4 columns):\n",
      " #   Column   Non-Null Count  Dtype  \n",
      "---  ------   --------------  -----  \n",
      " 0   Column1  1000 non-null   int64  \n",
      " 1   Column2  1000 non-null   int64  \n",
      " 2   Column3  1000 non-null   float64\n",
      " 3   Name     1000 non-null   object \n",
      "dtypes: float64(1), int64(2), object(1)\n",
      "memory usage: 31.4+ KB\n"
     ]
    }
   ],
   "source": [
    "DF.info()"
   ]
  },
  {
   "cell_type": "code",
   "execution_count": null,
   "metadata": {
    "colab": {
     "base_uri": "https://localhost:8080/",
     "height": 141
    },
    "executionInfo": {
     "elapsed": 1747,
     "status": "ok",
     "timestamp": 1606838540426,
     "user": {
      "displayName": "Ibrahim Abu Alhaol",
      "photoUrl": "https://lh3.googleusercontent.com/a-/AOh14GjRvrebxMDZgnHVVgf2jggVAk9E6ufnpjzPPcXJ=s64",
      "userId": "00373072729262931595"
     },
     "user_tz": -120
    },
    "id": "ww7uvfsV5vft",
    "outputId": "f3dd8b59-bd22-4cb4-cf88-17418b5fcaf9"
   },
   "outputs": [
    {
     "data": {
      "text/html": [
       "<div>\n",
       "<style scoped>\n",
       "    .dataframe tbody tr th:only-of-type {\n",
       "        vertical-align: middle;\n",
       "    }\n",
       "\n",
       "    .dataframe tbody tr th {\n",
       "        vertical-align: top;\n",
       "    }\n",
       "\n",
       "    .dataframe thead th {\n",
       "        text-align: right;\n",
       "    }\n",
       "</style>\n",
       "<table border=\"1\" class=\"dataframe\">\n",
       "  <thead>\n",
       "    <tr style=\"text-align: right;\">\n",
       "      <th></th>\n",
       "      <th>Column1</th>\n",
       "      <th>Column2</th>\n",
       "      <th>Column3</th>\n",
       "      <th>Name</th>\n",
       "      <th>Column5</th>\n",
       "    </tr>\n",
       "  </thead>\n",
       "  <tbody>\n",
       "    <tr>\n",
       "      <th>0</th>\n",
       "      <td>14</td>\n",
       "      <td>32</td>\n",
       "      <td>0.745048</td>\n",
       "      <td>Ahmad</td>\n",
       "      <td>1.2</td>\n",
       "    </tr>\n",
       "    <tr>\n",
       "      <th>1</th>\n",
       "      <td>78</td>\n",
       "      <td>33</td>\n",
       "      <td>0.625207</td>\n",
       "      <td>Heba</td>\n",
       "      <td>1.3</td>\n",
       "    </tr>\n",
       "    <tr>\n",
       "      <th>2</th>\n",
       "      <td>1</td>\n",
       "      <td>24</td>\n",
       "      <td>0.773585</td>\n",
       "      <td>Salem</td>\n",
       "      <td>0.4</td>\n",
       "    </tr>\n",
       "  </tbody>\n",
       "</table>\n",
       "</div>"
      ],
      "text/plain": [
       "   Column1  Column2   Column3   Name  Column5\n",
       "0       14       32  0.745048  Ahmad      1.2\n",
       "1       78       33  0.625207   Heba      1.3\n",
       "2        1       24  0.773585  Salem      0.4"
      ]
     },
     "execution_count": 68,
     "metadata": {
      "tags": []
     },
     "output_type": "execute_result"
    }
   ],
   "source": [
    "DF['Column5']=DF['Column2'].apply(lambda x : (x/10)-2)\n",
    "DF.head(3)"
   ]
  },
  {
   "cell_type": "code",
   "execution_count": null,
   "metadata": {
    "colab": {
     "base_uri": "https://localhost:8080/",
     "height": 141
    },
    "executionInfo": {
     "elapsed": 3322,
     "status": "ok",
     "timestamp": 1606824282400,
     "user": {
      "displayName": "Ibrahim Abu Alhaol",
      "photoUrl": "https://lh3.googleusercontent.com/a-/AOh14GjRvrebxMDZgnHVVgf2jggVAk9E6ufnpjzPPcXJ=s64",
      "userId": "00373072729262931595"
     },
     "user_tz": -120
    },
    "id": "EMdZ6vNe6Aqr",
    "outputId": "b7d99695-734b-476d-d2a4-b21d2ec508ab"
   },
   "outputs": [
    {
     "data": {
      "text/html": [
       "<div>\n",
       "<style scoped>\n",
       "    .dataframe tbody tr th:only-of-type {\n",
       "        vertical-align: middle;\n",
       "    }\n",
       "\n",
       "    .dataframe tbody tr th {\n",
       "        vertical-align: top;\n",
       "    }\n",
       "\n",
       "    .dataframe thead th {\n",
       "        text-align: right;\n",
       "    }\n",
       "</style>\n",
       "<table border=\"1\" class=\"dataframe\">\n",
       "  <thead>\n",
       "    <tr style=\"text-align: right;\">\n",
       "      <th></th>\n",
       "      <th>Column1</th>\n",
       "      <th>Column2</th>\n",
       "      <th>Column3</th>\n",
       "      <th>Name</th>\n",
       "      <th>Column5</th>\n",
       "      <th>Column6</th>\n",
       "    </tr>\n",
       "  </thead>\n",
       "  <tbody>\n",
       "    <tr>\n",
       "      <th>0</th>\n",
       "      <td>11</td>\n",
       "      <td>26</td>\n",
       "      <td>0.757591</td>\n",
       "      <td>Ahmad</td>\n",
       "      <td>0.6</td>\n",
       "      <td>67.6</td>\n",
       "    </tr>\n",
       "    <tr>\n",
       "      <th>1</th>\n",
       "      <td>70</td>\n",
       "      <td>31</td>\n",
       "      <td>0.179638</td>\n",
       "      <td>Ahmad</td>\n",
       "      <td>1.1</td>\n",
       "      <td>96.1</td>\n",
       "    </tr>\n",
       "    <tr>\n",
       "      <th>2</th>\n",
       "      <td>31</td>\n",
       "      <td>33</td>\n",
       "      <td>0.308120</td>\n",
       "      <td>Ahmad</td>\n",
       "      <td>1.3</td>\n",
       "      <td>108.9</td>\n",
       "    </tr>\n",
       "  </tbody>\n",
       "</table>\n",
       "</div>"
      ],
      "text/plain": [
       "   Column1  Column2   Column3   Name  Column5  Column6\n",
       "0       11       26  0.757591  Ahmad      0.6     67.6\n",
       "1       70       31  0.179638  Ahmad      1.1     96.1\n",
       "2       31       33  0.308120  Ahmad      1.3    108.9"
      ]
     },
     "execution_count": 20,
     "metadata": {
      "tags": []
     },
     "output_type": "execute_result"
    }
   ],
   "source": [
    "def transFunc(x):\n",
    "  y=x**2/10\n",
    "  return y \n",
    "\n",
    "DF['Column6']=DF['Column2'].apply(transFunc)\n",
    "DF.head(3)"
   ]
  },
  {
   "cell_type": "code",
   "execution_count": null,
   "metadata": {
    "colab": {
     "base_uri": "https://localhost:8080/",
     "height": 282
    },
    "executionInfo": {
     "elapsed": 3701,
     "status": "ok",
     "timestamp": 1606824282862,
     "user": {
      "displayName": "Ibrahim Abu Alhaol",
      "photoUrl": "https://lh3.googleusercontent.com/a-/AOh14GjRvrebxMDZgnHVVgf2jggVAk9E6ufnpjzPPcXJ=s64",
      "userId": "00373072729262931595"
     },
     "user_tz": -120
    },
    "id": "8KTUxacY6S2U",
    "outputId": "9f653148-3bb0-4e9f-d2e4-154ca98337ad"
   },
   "outputs": [
    {
     "data": {
      "text/plain": [
       "<matplotlib.legend.Legend at 0x7f27d792d908>"
      ]
     },
     "execution_count": 21,
     "metadata": {
      "tags": []
     },
     "output_type": "execute_result"
    },
    {
     "data": {
      "image/png": "[encoded data removed]",
      "text/plain": [
       "<Figure size 432x288 with 1 Axes>"
      ]
     },
     "metadata": {
      "needs_background": "light",
      "tags": []
     },
     "output_type": "display_data"
    }
   ],
   "source": [
    "import matplotlib.pyplot as plt \n",
    "\n",
    "ax = DF[DF.Name=='Heba']['Column1'].plot.hist(bins=10, alpha=0.5)\n",
    "ax = DF[DF.Name=='Salem']['Column1'].plot.hist(bins=10, alpha=0.5)\n",
    "plt.legend(['Heba','Salem'])"
   ]
  },
  {
   "cell_type": "markdown",
   "metadata": {
    "id": "kL7ig0rK8F2n"
   },
   "source": [
    "####write: Returns the contents of this :class:`DataFrame` as Pandas ``pandas.DataFrame``."
   ]
  },
  {
   "cell_type": "code",
   "execution_count": null,
   "metadata": {
    "id": "K0H35uUP8F2n"
   },
   "outputs": [],
   "source": [
    "df.write?"
   ]
  },
  {
   "cell_type": "code",
   "execution_count": null,
   "metadata": {
    "colab": {
     "base_uri": "https://localhost:8080/",
     "height": 130
    },
    "executionInfo": {
     "elapsed": 3509,
     "status": "error",
     "timestamp": 1606824283322,
     "user": {
      "displayName": "Ibrahim Abu Alhaol",
      "photoUrl": "https://lh3.googleusercontent.com/a-/AOh14GjRvrebxMDZgnHVVgf2jggVAk9E6ufnpjzPPcXJ=s64",
      "userId": "00373072729262931595"
     },
     "user_tz": -120
    },
    "id": "LameISF-9Qf1",
    "outputId": "e6e7b8f0-687e-43f4-cd50-0bbbd248c51c"
   },
   "outputs": [
    {
     "ename": "SyntaxError",
     "evalue": "ignored",
     "output_type": "error",
     "traceback": [
      "\u001b[0;36m  File \u001b[0;32m\"<ipython-input-23-2e7d574b803b>\"\u001b[0;36m, line \u001b[0;32m1\u001b[0m\n\u001b[0;31m    df.write.\u001b[0m\n\u001b[0m             ^\u001b[0m\n\u001b[0;31mSyntaxError\u001b[0m\u001b[0;31m:\u001b[0m invalid syntax\n"
     ]
    }
   ],
   "source": [
    "df.write.s"
   ]
  },
  {
   "cell_type": "code",
   "execution_count": null,
   "metadata": {
    "id": "Xs5e7LaI9YZk"
   },
   "outputs": [],
   "source": [
    "df.write.save?"
   ]
  },
  {
   "cell_type": "code",
   "execution_count": null,
   "metadata": {
    "id": "2_dKfOCk8Oaf"
   },
   "outputs": [],
   "source": [
    "df.write.save(path='MyProcessed', format='csv')\n"
   ]
  },
  {
   "cell_type": "code",
   "execution_count": null,
   "metadata": {
    "colab": {
     "base_uri": "https://localhost:8080/"
    },
    "executionInfo": {
     "elapsed": 2930,
     "status": "ok",
     "timestamp": 1606838908954,
     "user": {
      "displayName": "Ibrahim Abu Alhaol",
      "photoUrl": "https://lh3.googleusercontent.com/a-/AOh14GjRvrebxMDZgnHVVgf2jggVAk9E6ufnpjzPPcXJ=s64",
      "userId": "00373072729262931595"
     },
     "user_tz": -120
    },
    "id": "IiKx8Dvk8aDU",
    "outputId": "0dc5442a-2c84-4101-f764-0c2ca0b0f0f1"
   },
   "outputs": [
    {
     "name": "stdout",
     "output_type": "stream",
     "text": [
      "total 32K\n",
      "-rw-r--r-- 1 root root 16K Dec  1 16:07 part-00000-105eec4e-65c6-407a-a635-a311612d3dcf-c000.csv\n",
      "-rw-r--r-- 1 root root 16K Dec  1 16:07 part-00001-105eec4e-65c6-407a-a635-a311612d3dcf-c000.csv\n",
      "-rw-r--r-- 1 root root   0 Dec  1 16:07 _SUCCESS\n"
     ]
    }
   ],
   "source": [
    "!ls -lh MyProcessed"
   ]
  },
  {
   "cell_type": "code",
   "execution_count": null,
   "metadata": {
    "colab": {
     "base_uri": "https://localhost:8080/"
    },
    "executionInfo": {
     "elapsed": 1011,
     "status": "ok",
     "timestamp": 1606838959359,
     "user": {
      "displayName": "Ibrahim Abu Alhaol",
      "photoUrl": "https://lh3.googleusercontent.com/a-/AOh14GjRvrebxMDZgnHVVgf2jggVAk9E6ufnpjzPPcXJ=s64",
      "userId": "00373072729262931595"
     },
     "user_tz": -120
    },
    "id": "-J2_4G2Y8tB2",
    "outputId": "571aa8f9-ba35-4862-e039-096666a29ddd"
   },
   "outputs": [
    {
     "name": "stdout",
     "output_type": "stream",
     "text": [
      "14,32,0.7450478648089105,Ahmad\n",
      "78,33,0.6252066002346331,Heba\n",
      "1,24,0.7735847706241884,Salem\n",
      "62,32,0.03857488466435954,Ahmad\n",
      "6,29,0.9144743569281736,Salem\n",
      "2,27,0.27016203510613923,Noor\n",
      "17,27,0.07240106604230823,Salem\n",
      "16,28,0.3942327952082627,Ahmad\n",
      "82,33,0.0989762432650948,Ahmad\n",
      "77,29,0.45762229801327703,Salem\n"
     ]
    }
   ],
   "source": [
    "!head -n 10 MyProcessed/part-00000-105eec4e-65c6-407a-a635-a311612d3dcf-c000.csv"
   ]
  },
  {
   "cell_type": "code",
   "execution_count": null,
   "metadata": {
    "colab": {
     "base_uri": "https://localhost:8080/"
    },
    "executionInfo": {
     "elapsed": 1012,
     "status": "ok",
     "timestamp": 1606838977546,
     "user": {
      "displayName": "Ibrahim Abu Alhaol",
      "photoUrl": "https://lh3.googleusercontent.com/a-/AOh14GjRvrebxMDZgnHVVgf2jggVAk9E6ufnpjzPPcXJ=s64",
      "userId": "00373072729262931595"
     },
     "user_tz": -120
    },
    "id": "54vW7Vp19os6",
    "outputId": "bb939960-0239-4e5b-a07a-78b805941def"
   },
   "outputs": [
    {
     "name": "stdout",
     "output_type": "stream",
     "text": [
      "17,27,0.4153742301338724,Noor\n",
      "92,25,0.06784011834008685,Salem\n",
      "49,30,0.628063782847626,Ahmad\n",
      "31,25,0.9186347039451526,Ahmad\n",
      "14,33,0.1722807290145556,Heba\n",
      "95,28,0.8167028632991697,Ahmad\n",
      "84,34,0.7464602574965479,Ahmad\n",
      "28,29,0.7110750625936457,Heba\n",
      "32,31,0.3160117576392396,Ahmad\n",
      "34,25,0.3624774373037485,Ahmad\n"
     ]
    }
   ],
   "source": [
    "!head -n 10 MyProcessed/part-00001-105eec4e-65c6-407a-a635-a311612d3dcf-c000.csv"
   ]
  },
  {
   "cell_type": "markdown",
   "metadata": {
    "id": "1IYCYwqH-2hk"
   },
   "source": [
    "One important parameter is the number of partitions to cut the dataset into. Typically you want 2-4 partitions for each CPU in your cluster. Normally, Spark tries to set the number of partitions automatically based on your cluster. However, you can also set it manually. Lets do that "
   ]
  },
  {
   "cell_type": "code",
   "execution_count": null,
   "metadata": {
    "colab": {
     "base_uri": "https://localhost:8080/"
    },
    "executionInfo": {
     "elapsed": 1088,
     "status": "ok",
     "timestamp": 1606839048612,
     "user": {
      "displayName": "Ibrahim Abu Alhaol",
      "photoUrl": "https://lh3.googleusercontent.com/a-/AOh14GjRvrebxMDZgnHVVgf2jggVAk9E6ufnpjzPPcXJ=s64",
      "userId": "00373072729262931595"
     },
     "user_tz": -120
    },
    "id": "1DMXQ2In9604",
    "outputId": "31741967-805c-4c51-b237-0cbacfac3e92"
   },
   "outputs": [
    {
     "data": {
      "text/plain": [
       "2"
      ]
     },
     "execution_count": 76,
     "metadata": {
      "tags": []
     },
     "output_type": "execute_result"
    }
   ],
   "source": [
    "df.rdd.getNumPartitions()"
   ]
  },
  {
   "cell_type": "code",
   "execution_count": null,
   "metadata": {
    "id": "7pGZqJh2_suz"
   },
   "outputs": [],
   "source": [
    "df.coalesce?"
   ]
  },
  {
   "cell_type": "code",
   "execution_count": null,
   "metadata": {
    "id": "uk5m3lEV_1XT"
   },
   "outputs": [],
   "source": [
    "df.write.mode?"
   ]
  },
  {
   "cell_type": "code",
   "execution_count": null,
   "metadata": {
    "id": "P644BbVfADpP"
   },
   "outputs": [],
   "source": [
    "df2 = df.coalesce(1)"
   ]
  },
  {
   "cell_type": "code",
   "execution_count": null,
   "metadata": {
    "colab": {
     "base_uri": "https://localhost:8080/"
    },
    "executionInfo": {
     "elapsed": 1523,
     "status": "ok",
     "timestamp": 1606839115042,
     "user": {
      "displayName": "Ibrahim Abu Alhaol",
      "photoUrl": "https://lh3.googleusercontent.com/a-/AOh14GjRvrebxMDZgnHVVgf2jggVAk9E6ufnpjzPPcXJ=s64",
      "userId": "00373072729262931595"
     },
     "user_tz": -120
    },
    "id": "7LdS9KUtAFkb",
    "outputId": "ea48066a-fc36-4dfd-c9fa-8df4c643c4fb"
   },
   "outputs": [
    {
     "data": {
      "text/plain": [
       "1"
      ]
     },
     "execution_count": 79,
     "metadata": {
      "tags": []
     },
     "output_type": "execute_result"
    }
   ],
   "source": [
    "df2.rdd.getNumPartitions()"
   ]
  },
  {
   "cell_type": "code",
   "execution_count": null,
   "metadata": {
    "id": "NrtlgDOQ_G2e"
   },
   "outputs": [],
   "source": [
    "df.write.mode(\"overwrite\").csv(\"MyProcessed\", header=True)"
   ]
  },
  {
   "cell_type": "code",
   "execution_count": null,
   "metadata": {
    "colab": {
     "base_uri": "https://localhost:8080/"
    },
    "executionInfo": {
     "elapsed": 1857,
     "status": "ok",
     "timestamp": 1606839140588,
     "user": {
      "displayName": "Ibrahim Abu Alhaol",
      "photoUrl": "https://lh3.googleusercontent.com/a-/AOh14GjRvrebxMDZgnHVVgf2jggVAk9E6ufnpjzPPcXJ=s64",
      "userId": "00373072729262931595"
     },
     "user_tz": -120
    },
    "id": "JyEwrkwHAOg_",
    "outputId": "de7fd3ba-c917-4d78-bdc6-aa17a16580bc"
   },
   "outputs": [
    {
     "name": "stdout",
     "output_type": "stream",
     "text": [
      "part-00000-e9804d0c-a6cb-4e0f-8eca-063204228651-c000.csv  _SUCCESS\n",
      "part-00001-e9804d0c-a6cb-4e0f-8eca-063204228651-c000.csv\n"
     ]
    }
   ],
   "source": [
    "!ls MyProcessed"
   ]
  },
  {
   "cell_type": "code",
   "execution_count": null,
   "metadata": {
    "id": "vAdXoofRAR2B"
   },
   "outputs": [],
   "source": [
    "df2.write.mode(\"overwrite\").csv(\"MyProcessed\", header=True)"
   ]
  },
  {
   "cell_type": "code",
   "execution_count": null,
   "metadata": {
    "colab": {
     "base_uri": "https://localhost:8080/"
    },
    "executionInfo": {
     "elapsed": 1348,
     "status": "ok",
     "timestamp": 1606839163645,
     "user": {
      "displayName": "Ibrahim Abu Alhaol",
      "photoUrl": "https://lh3.googleusercontent.com/a-/AOh14GjRvrebxMDZgnHVVgf2jggVAk9E6ufnpjzPPcXJ=s64",
      "userId": "00373072729262931595"
     },
     "user_tz": -120
    },
    "id": "HIgdJ8MBAbCh",
    "outputId": "cb1248ab-ce87-48ff-f7ae-f5bf833990ec"
   },
   "outputs": [
    {
     "name": "stdout",
     "output_type": "stream",
     "text": [
      "part-00000-c5961de6-f606-4a4e-bcbf-1683c66752b0-c000.csv  _SUCCESS\n"
     ]
    }
   ],
   "source": [
    "!ls MyProcessed"
   ]
  },
  {
   "cell_type": "code",
   "execution_count": null,
   "metadata": {
    "id": "f6uEjdaEA4z1"
   },
   "outputs": [],
   "source": []
  },
  {
   "cell_type": "markdown",
   "metadata": {
    "id": "n34zl3lOA5jI"
   },
   "source": [
    "##Properties"
   ]
  },
  {
   "cell_type": "markdown",
   "metadata": {
    "id": "igVu17kbA5jI"
   },
   "source": [
    "####columns: Returns the number of rows in this DataFrame"
   ]
  },
  {
   "cell_type": "code",
   "execution_count": null,
   "metadata": {
    "id": "ZzlwfL2WA5jI"
   },
   "outputs": [],
   "source": [
    "df.columns?"
   ]
  },
  {
   "cell_type": "markdown",
   "metadata": {
    "id": "Kl9BZHxAMO4X"
   },
   "source": []
  },
  {
   "cell_type": "code",
   "execution_count": null,
   "metadata": {
    "colab": {
     "base_uri": "https://localhost:8080/"
    },
    "executionInfo": {
     "elapsed": 3733,
     "status": "ok",
     "timestamp": 1606804860672,
     "user": {
      "displayName": "Ibrahim Abu Alhaol",
      "photoUrl": "https://lh3.googleusercontent.com/a-/AOh14GjRvrebxMDZgnHVVgf2jggVAk9E6ufnpjzPPcXJ=s64",
      "userId": "00373072729262931595"
     },
     "user_tz": -120
    },
    "id": "MFC4GrZiB2TF",
    "outputId": "358fb01f-6af5-4f67-ac1e-dbeed11aa891"
   },
   "outputs": [
    {
     "data": {
      "text/plain": [
       "['Column1', 'Column2', 'Column3', 'Name']"
      ]
     },
     "execution_count": 114,
     "metadata": {
      "tags": []
     },
     "output_type": "execute_result"
    }
   ],
   "source": [
    "df.columns"
   ]
  },
  {
   "cell_type": "code",
   "execution_count": null,
   "metadata": {
    "id": "81VMXYKNCGAg"
   },
   "outputs": [],
   "source": []
  },
  {
   "cell_type": "markdown",
   "metadata": {
    "id": "qgPoors_CKmO"
   },
   "source": [
    "####dtypes: eturns all column names and their data types as a list.\n",
    "\n",
    "---\n",
    "\n"
   ]
  },
  {
   "cell_type": "code",
   "execution_count": null,
   "metadata": {
    "id": "nSDBVlSeCKmO"
   },
   "outputs": [],
   "source": [
    "df.dtypes?"
   ]
  },
  {
   "cell_type": "code",
   "execution_count": null,
   "metadata": {
    "colab": {
     "base_uri": "https://localhost:8080/"
    },
    "executionInfo": {
     "elapsed": 1531,
     "status": "ok",
     "timestamp": 1606804925879,
     "user": {
      "displayName": "Ibrahim Abu Alhaol",
      "photoUrl": "https://lh3.googleusercontent.com/a-/AOh14GjRvrebxMDZgnHVVgf2jggVAk9E6ufnpjzPPcXJ=s64",
      "userId": "00373072729262931595"
     },
     "user_tz": -120
    },
    "id": "o78lgYKKCQ6O",
    "outputId": "c3827325-7d02-4678-db07-366adb683a6d"
   },
   "outputs": [
    {
     "data": {
      "text/plain": [
       "[('Column1', 'bigint'),\n",
       " ('Column2', 'bigint'),\n",
       " ('Column3', 'double'),\n",
       " ('Name', 'string')]"
      ]
     },
     "execution_count": 116,
     "metadata": {
      "tags": []
     },
     "output_type": "execute_result"
    }
   ],
   "source": [
    "df.dtypes"
   ]
  },
  {
   "cell_type": "markdown",
   "metadata": {
    "id": "GPqy_-yNCi1T"
   },
   "source": [
    "####isLocal:  Returns ``True`` if the :func:`collect` and :func:`take` methods can be run locally without any Spark executors.\n",
    "\n",
    "---\n",
    "\n"
   ]
  },
  {
   "cell_type": "code",
   "execution_count": null,
   "metadata": {
    "id": "z3sHgXPBCi1T"
   },
   "outputs": [],
   "source": [
    "df.isLocal?"
   ]
  },
  {
   "cell_type": "code",
   "execution_count": null,
   "metadata": {
    "colab": {
     "base_uri": "https://localhost:8080/"
    },
    "executionInfo": {
     "elapsed": 937,
     "status": "ok",
     "timestamp": 1606805714340,
     "user": {
      "displayName": "Ibrahim Abu Alhaol",
      "photoUrl": "https://lh3.googleusercontent.com/a-/AOh14GjRvrebxMDZgnHVVgf2jggVAk9E6ufnpjzPPcXJ=s64",
      "userId": "00373072729262931595"
     },
     "user_tz": -120
    },
    "id": "GxOSnAfqCmy2",
    "outputId": "37f39dde-1f97-4829-82e0-f263418a7286"
   },
   "outputs": [
    {
     "data": {
      "text/plain": [
       "False"
      ]
     },
     "execution_count": 138,
     "metadata": {
      "tags": []
     },
     "output_type": "execute_result"
    }
   ],
   "source": [
    "df.isLocal()"
   ]
  },
  {
   "cell_type": "markdown",
   "metadata": {
    "id": "Ol9gXqhsFIS3"
   },
   "source": [
    "####*isStreaming*: Returns true if this :class:Dataset contains one or more sources that continuouslyreturn data as it arrives.\n",
    "---\n",
    "\n"
   ]
  },
  {
   "cell_type": "code",
   "execution_count": null,
   "metadata": {
    "id": "EpKnjTqYFIS3"
   },
   "outputs": [],
   "source": [
    "df.isStreaming?"
   ]
  },
  {
   "cell_type": "code",
   "execution_count": null,
   "metadata": {
    "colab": {
     "base_uri": "https://localhost:8080/"
    },
    "executionInfo": {
     "elapsed": 1286,
     "status": "ok",
     "timestamp": 1606805746446,
     "user": {
      "displayName": "Ibrahim Abu Alhaol",
      "photoUrl": "https://lh3.googleusercontent.com/a-/AOh14GjRvrebxMDZgnHVVgf2jggVAk9E6ufnpjzPPcXJ=s64",
      "userId": "00373072729262931595"
     },
     "user_tz": -120
    },
    "id": "wFUNFj15FIS3",
    "outputId": "ef0f97b3-f6c3-4d98-f439-c5d40c590862"
   },
   "outputs": [
    {
     "data": {
      "text/plain": [
       "False"
      ]
     },
     "execution_count": 141,
     "metadata": {
      "tags": []
     },
     "output_type": "execute_result"
    }
   ],
   "source": [
    "df.isStreaming"
   ]
  },
  {
   "cell_type": "code",
   "execution_count": null,
   "metadata": {
    "id": "9Bfq-mzAFU8Z"
   },
   "outputs": [],
   "source": []
  },
  {
   "cell_type": "markdown",
   "metadata": {
    "id": "iHIiayEDFgwx"
   },
   "source": [
    "####*na*: Returns a :class:DataFrameNaFunctions for handling missing values.\n",
    "---\n",
    "\n"
   ]
  },
  {
   "cell_type": "code",
   "execution_count": null,
   "metadata": {
    "id": "Pl8B8z6kFgwx"
   },
   "outputs": [],
   "source": [
    "df.na?"
   ]
  },
  {
   "cell_type": "code",
   "execution_count": null,
   "metadata": {
    "id": "U8kBUmBIFgwx"
   },
   "outputs": [],
   "source": [
    "df.na.drop()"
   ]
  },
  {
   "cell_type": "code",
   "execution_count": null,
   "metadata": {
    "id": "KkxMFIfYFxqV"
   },
   "outputs": [],
   "source": [
    "df.na.fill?"
   ]
  },
  {
   "cell_type": "code",
   "execution_count": null,
   "metadata": {
    "id": "wKzw-FqaF4Oj"
   },
   "outputs": [],
   "source": [
    "df.na.replace?"
   ]
  },
  {
   "cell_type": "code",
   "execution_count": null,
   "metadata": {
    "colab": {
     "base_uri": "https://localhost:8080/"
    },
    "executionInfo": {
     "elapsed": 2959,
     "status": "ok",
     "timestamp": 1606841555713,
     "user": {
      "displayName": "Ibrahim Abu Alhaol",
      "photoUrl": "https://lh3.googleusercontent.com/a-/AOh14GjRvrebxMDZgnHVVgf2jggVAk9E6ufnpjzPPcXJ=s64",
      "userId": "00373072729262931595"
     },
     "user_tz": -120
    },
    "id": "6rRfmQTuGCLz",
    "outputId": "382424cc-834e-40cf-a19d-4326901cf69c"
   },
   "outputs": [
    {
     "data": {
      "text/plain": [
       "1.0"
      ]
     },
     "execution_count": 88,
     "metadata": {
      "tags": []
     },
     "output_type": "execute_result"
    }
   ],
   "source": [
    "df.na.drop().count()/df.count()\n"
   ]
  },
  {
   "cell_type": "code",
   "execution_count": null,
   "metadata": {
    "colab": {
     "base_uri": "https://localhost:8080/"
    },
    "executionInfo": {
     "elapsed": 1669,
     "status": "ok",
     "timestamp": 1606841817766,
     "user": {
      "displayName": "Ibrahim Abu Alhaol",
      "photoUrl": "https://lh3.googleusercontent.com/a-/AOh14GjRvrebxMDZgnHVVgf2jggVAk9E6ufnpjzPPcXJ=s64",
      "userId": "00373072729262931595"
     },
     "user_tz": -120
    },
    "id": "dygVGgNFOoeB",
    "outputId": "67a2e194-8956-4931-d0e0-f1d94db2af3f"
   },
   "outputs": [
    {
     "name": "stderr",
     "output_type": "stream",
     "text": [
      "/content/spark-2.4.7-bin-hadoop2.7/python/pyspark/sql/session.py:346: UserWarning: inferring schema from dict is deprecated,please use pyspark.sql.Row instead\n",
      "  warnings.warn(\"inferring schema from dict is deprecated,\"\n"
     ]
    }
   ],
   "source": [
    "df2 = spark.createDataFrame([{\"Column1\": np.nan, \n",
    "                             \"Column2\":np.random.randint(24,35), \n",
    "                             \"Column3\":np.random.random(),\n",
    "                             \"Name\":str(np.random.choice(NameList,p=[.5,.2,.1,.2])),\n",
    "                             }\n",
    "                              for i in range(NumberOfSamples)])"
   ]
  },
  {
   "cell_type": "code",
   "execution_count": null,
   "metadata": {
    "colab": {
     "base_uri": "https://localhost:8080/"
    },
    "executionInfo": {
     "elapsed": 1674,
     "status": "ok",
     "timestamp": 1606841820692,
     "user": {
      "displayName": "Ibrahim Abu Alhaol",
      "photoUrl": "https://lh3.googleusercontent.com/a-/AOh14GjRvrebxMDZgnHVVgf2jggVAk9E6ufnpjzPPcXJ=s64",
      "userId": "00373072729262931595"
     },
     "user_tz": -120
    },
    "id": "ojCD2qO_GeZp",
    "outputId": "b8de3a4c-e43c-488e-f16b-014ae173fa4e"
   },
   "outputs": [
    {
     "name": "stdout",
     "output_type": "stream",
     "text": [
      "+-------+-------+-------------------+-----+\n",
      "|Column1|Column2|            Column3| Name|\n",
      "+-------+-------+-------------------+-----+\n",
      "|    NaN|     27| 0.5596384790816511| Heba|\n",
      "|    NaN|     34| 0.6884967554001484| Noor|\n",
      "|    NaN|     32| 0.5867967193416846|Ahmad|\n",
      "|    NaN|     24| 0.8561223772883259|Salem|\n",
      "|    NaN|     30| 0.5155133979853461|Ahmad|\n",
      "|    NaN|     33| 0.6127564301125038| Heba|\n",
      "|    NaN|     31| 0.9573683659447731| Noor|\n",
      "|    NaN|     31|  0.820694730736622| Noor|\n",
      "|    NaN|     31|0.12704662195146266|Ahmad|\n",
      "|    NaN|     34|0.07295763530486976|Ahmad|\n",
      "+-------+-------+-------------------+-----+\n",
      "only showing top 10 rows\n",
      "\n"
     ]
    }
   ],
   "source": [
    "df2.show(10)"
   ]
  },
  {
   "cell_type": "code",
   "execution_count": null,
   "metadata": {
    "colab": {
     "base_uri": "https://localhost:8080/"
    },
    "executionInfo": {
     "elapsed": 1755,
     "status": "ok",
     "timestamp": 1606841849458,
     "user": {
      "displayName": "Ibrahim Abu Alhaol",
      "photoUrl": "https://lh3.googleusercontent.com/a-/AOh14GjRvrebxMDZgnHVVgf2jggVAk9E6ufnpjzPPcXJ=s64",
      "userId": "00373072729262931595"
     },
     "user_tz": -120
    },
    "id": "DBIRlJQoOv15",
    "outputId": "98974772-08ba-4341-f389-d28171e4b86f"
   },
   "outputs": [
    {
     "data": {
      "text/plain": [
       "0.0"
      ]
     },
     "execution_count": 92,
     "metadata": {
      "tags": []
     },
     "output_type": "execute_result"
    }
   ],
   "source": [
    "df2.na.drop().count()/df2.count()"
   ]
  },
  {
   "cell_type": "code",
   "execution_count": null,
   "metadata": {
    "colab": {
     "base_uri": "https://localhost:8080/"
    },
    "executionInfo": {
     "elapsed": 1268,
     "status": "ok",
     "timestamp": 1606841890079,
     "user": {
      "displayName": "Ibrahim Abu Alhaol",
      "photoUrl": "https://lh3.googleusercontent.com/a-/AOh14GjRvrebxMDZgnHVVgf2jggVAk9E6ufnpjzPPcXJ=s64",
      "userId": "00373072729262931595"
     },
     "user_tz": -120
    },
    "id": "KIkMLqUFOz6S",
    "outputId": "cadba62d-ae05-4fb1-d52f-d522cec2ae07"
   },
   "outputs": [
    {
     "name": "stdout",
     "output_type": "stream",
     "text": [
      "+-------+-------+-------------------+-----+\n",
      "|Column1|Column2|            Column3| Name|\n",
      "+-------+-------+-------------------+-----+\n",
      "|-9999.0|     27| 0.5596384790816511| Heba|\n",
      "|-9999.0|     34| 0.6884967554001484| Noor|\n",
      "|-9999.0|     32| 0.5867967193416846|Ahmad|\n",
      "|-9999.0|     24| 0.8561223772883259|Salem|\n",
      "|-9999.0|     30| 0.5155133979853461|Ahmad|\n",
      "|-9999.0|     33| 0.6127564301125038| Heba|\n",
      "|-9999.0|     31| 0.9573683659447731| Noor|\n",
      "|-9999.0|     31|  0.820694730736622| Noor|\n",
      "|-9999.0|     31|0.12704662195146266|Ahmad|\n",
      "|-9999.0|     34|0.07295763530486976|Ahmad|\n",
      "+-------+-------+-------------------+-----+\n",
      "only showing top 10 rows\n",
      "\n"
     ]
    }
   ],
   "source": [
    "df2.na.fill(-9999).show(10)"
   ]
  },
  {
   "cell_type": "code",
   "execution_count": null,
   "metadata": {
    "colab": {
     "base_uri": "https://localhost:8080/"
    },
    "executionInfo": {
     "elapsed": 1222,
     "status": "ok",
     "timestamp": 1606808322560,
     "user": {
      "displayName": "Ibrahim Abu Alhaol",
      "photoUrl": "https://lh3.googleusercontent.com/a-/AOh14GjRvrebxMDZgnHVVgf2jggVAk9E6ufnpjzPPcXJ=s64",
      "userId": "00373072729262931595"
     },
     "user_tz": -120
    },
    "id": "8Tg5QmBFO4pE",
    "outputId": "030fa76c-4551-46ae-d7cb-a968cada732b"
   },
   "outputs": [
    {
     "name": "stdout",
     "output_type": "stream",
     "text": [
      "+-------+-------+-------------------+-----+\n",
      "|Column1|Column2|            Column3| Name|\n",
      "+-------+-------+-------------------+-----+\n",
      "|    NaN|     32| 0.7080262575520004| Heba|\n",
      "|    NaN|     34| 0.7122079990543421| Heba|\n",
      "|    NaN|     26| 0.8336070761958216| Heba|\n",
      "|    NaN|     25| 0.5156740587411996|Salem|\n",
      "|    NaN|     34| 0.7666367561653991| Heba|\n",
      "|    NaN|     31| 0.9957398142291887|Salem|\n",
      "|    NaN|     31| 0.9846253423522289| Heba|\n",
      "|    NaN|     26|0.38380717974306056|Ahmad|\n",
      "|    NaN|     29| 0.6651554382082097|Ahmad|\n",
      "|    NaN|     28| 0.9543318847399165|Ahmad|\n",
      "+-------+-------+-------------------+-----+\n",
      "only showing top 10 rows\n",
      "\n"
     ]
    }
   ],
   "source": [
    "df2.show(10)"
   ]
  },
  {
   "cell_type": "code",
   "execution_count": null,
   "metadata": {
    "colab": {
     "base_uri": "https://localhost:8080/",
     "height": 295
    },
    "executionInfo": {
     "elapsed": 3171,
     "status": "ok",
     "timestamp": 1606842225461,
     "user": {
      "displayName": "Ibrahim Abu Alhaol",
      "photoUrl": "https://lh3.googleusercontent.com/a-/AOh14GjRvrebxMDZgnHVVgf2jggVAk9E6ufnpjzPPcXJ=s64",
      "userId": "00373072729262931595"
     },
     "user_tz": -120
    },
    "id": "EZhPEdiTPmlC",
    "outputId": "11c42e04-8d5a-4d80-a2c1-023d7d3c309b"
   },
   "outputs": [
    {
     "data": {
      "text/html": [
       "<div>\n",
       "<style scoped>\n",
       "    .dataframe tbody tr th:only-of-type {\n",
       "        vertical-align: middle;\n",
       "    }\n",
       "\n",
       "    .dataframe tbody tr th {\n",
       "        vertical-align: top;\n",
       "    }\n",
       "\n",
       "    .dataframe thead th {\n",
       "        text-align: right;\n",
       "    }\n",
       "</style>\n",
       "<table border=\"1\" class=\"dataframe\">\n",
       "  <thead>\n",
       "    <tr style=\"text-align: right;\">\n",
       "      <th></th>\n",
       "      <th>Column2</th>\n",
       "    </tr>\n",
       "  </thead>\n",
       "  <tbody>\n",
       "    <tr>\n",
       "      <th>count</th>\n",
       "      <td>115.000000</td>\n",
       "    </tr>\n",
       "    <tr>\n",
       "      <th>mean</th>\n",
       "      <td>29.017391</td>\n",
       "    </tr>\n",
       "    <tr>\n",
       "      <th>std</th>\n",
       "      <td>3.214503</td>\n",
       "    </tr>\n",
       "    <tr>\n",
       "      <th>min</th>\n",
       "      <td>24.000000</td>\n",
       "    </tr>\n",
       "    <tr>\n",
       "      <th>25%</th>\n",
       "      <td>26.000000</td>\n",
       "    </tr>\n",
       "    <tr>\n",
       "      <th>50%</th>\n",
       "      <td>29.000000</td>\n",
       "    </tr>\n",
       "    <tr>\n",
       "      <th>75%</th>\n",
       "      <td>32.000000</td>\n",
       "    </tr>\n",
       "    <tr>\n",
       "      <th>max</th>\n",
       "      <td>34.000000</td>\n",
       "    </tr>\n",
       "  </tbody>\n",
       "</table>\n",
       "</div>"
      ],
      "text/plain": [
       "          Column2\n",
       "count  115.000000\n",
       "mean    29.017391\n",
       "std      3.214503\n",
       "min     24.000000\n",
       "25%     26.000000\n",
       "50%     29.000000\n",
       "75%     32.000000\n",
       "max     34.000000"
      ]
     },
     "execution_count": 100,
     "metadata": {
      "tags": []
     },
     "output_type": "execute_result"
    }
   ],
   "source": [
    "df2.sample(0.1).select('Column2').toPandas()['Column2'].median()\n",
    "\n",
    "DF_sample=df2.sample(0.1).select('Column2').toPandas()\n",
    "DF_sample.describe()"
   ]
  },
  {
   "cell_type": "code",
   "execution_count": null,
   "metadata": {
    "colab": {
     "base_uri": "https://localhost:8080/"
    },
    "executionInfo": {
     "elapsed": 1178,
     "status": "ok",
     "timestamp": 1606808324463,
     "user": {
      "displayName": "Ibrahim Abu Alhaol",
      "photoUrl": "https://lh3.googleusercontent.com/a-/AOh14GjRvrebxMDZgnHVVgf2jggVAk9E6ufnpjzPPcXJ=s64",
      "userId": "00373072729262931595"
     },
     "user_tz": -120
    },
    "id": "TOQLR0ANPATJ",
    "outputId": "c725aef4-29a1-4914-a602-aaf7c4e2f1b2"
   },
   "outputs": [
    {
     "name": "stdout",
     "output_type": "stream",
     "text": [
      "+-------+-------+-------------------+-----+\n",
      "|Column1|Column2|            Column3| Name|\n",
      "+-------+-------+-------------------+-----+\n",
      "|   10.0|     32| 0.7080262575520004| Heba|\n",
      "|   10.0|     34| 0.7122079990543421| Heba|\n",
      "|   10.0|     26| 0.8336070761958216| Heba|\n",
      "|   10.0|     25| 0.5156740587411996|Salem|\n",
      "|   10.0|     34| 0.7666367561653991| Heba|\n",
      "|   10.0|     31| 0.9957398142291887|Salem|\n",
      "|   10.0|     31| 0.9846253423522289| Heba|\n",
      "|   10.0|     26|0.38380717974306056|Ahmad|\n",
      "|   10.0|     29| 0.6651554382082097|Ahmad|\n",
      "|   10.0|     28| 0.9543318847399165|Ahmad|\n",
      "+-------+-------+-------------------+-----+\n",
      "only showing top 10 rows\n",
      "\n"
     ]
    }
   ],
   "source": [
    "df2=df2.na.fill(10)\n",
    "df2.show(10)"
   ]
  },
  {
   "cell_type": "code",
   "execution_count": null,
   "metadata": {
    "id": "NzRNrw5YPFYr"
   },
   "outputs": [],
   "source": []
  },
  {
   "cell_type": "markdown",
   "metadata": {
    "id": "QzsW0VTqPX8F"
   },
   "source": [
    "####*describe*: Computes basic statistics for numeric and string columns.\n",
    "---\n",
    "\n"
   ]
  },
  {
   "cell_type": "code",
   "execution_count": null,
   "metadata": {
    "id": "oC0O510jPX8F"
   },
   "outputs": [],
   "source": [
    "df.describe?"
   ]
  },
  {
   "cell_type": "code",
   "execution_count": null,
   "metadata": {
    "colab": {
     "base_uri": "https://localhost:8080/"
    },
    "executionInfo": {
     "elapsed": 1637,
     "status": "ok",
     "timestamp": 1606842272039,
     "user": {
      "displayName": "Ibrahim Abu Alhaol",
      "photoUrl": "https://lh3.googleusercontent.com/a-/AOh14GjRvrebxMDZgnHVVgf2jggVAk9E6ufnpjzPPcXJ=s64",
      "userId": "00373072729262931595"
     },
     "user_tz": -120
    },
    "id": "7I5jvF_NPqe3",
    "outputId": "c3ee3555-863a-445c-8bf9-a002ec62f394"
   },
   "outputs": [
    {
     "name": "stdout",
     "output_type": "stream",
     "text": [
      "+-------+------------------+------------------+--------------------+-----+\n",
      "|summary|           Column1|           Column2|             Column3| Name|\n",
      "+-------+------------------+------------------+--------------------+-----+\n",
      "|  count|              1000|              1000|                1000| 1000|\n",
      "|   mean|            49.732|              29.0|  0.5003272785229772| null|\n",
      "| stddev|28.585718800116247|3.1831010244935882|  0.2917833088460784| null|\n",
      "|    min|                 1|                24|0.001997877328159814|Ahmad|\n",
      "|    max|                99|                34|  0.9993740055802905|Salem|\n",
      "+-------+------------------+------------------+--------------------+-----+\n",
      "\n"
     ]
    }
   ],
   "source": [
    "df.describe().show()"
   ]
  },
  {
   "cell_type": "code",
   "execution_count": null,
   "metadata": {
    "colab": {
     "base_uri": "https://localhost:8080/"
    },
    "executionInfo": {
     "elapsed": 3892,
     "status": "ok",
     "timestamp": 1606842317389,
     "user": {
      "displayName": "Ibrahim Abu Alhaol",
      "photoUrl": "https://lh3.googleusercontent.com/a-/AOh14GjRvrebxMDZgnHVVgf2jggVAk9E6ufnpjzPPcXJ=s64",
      "userId": "00373072729262931595"
     },
     "user_tz": -120
    },
    "id": "WP4oMOGKQZsN",
    "outputId": "ad612977-ea0b-4101-b006-a7732570a5d7"
   },
   "outputs": [
    {
     "name": "stdout",
     "output_type": "stream",
     "text": [
      "+-------+------------------+\n",
      "|summary|           Column1|\n",
      "+-------+------------------+\n",
      "|  count|              1000|\n",
      "|   mean|            49.732|\n",
      "| stddev|28.585718800116247|\n",
      "|    min|                 1|\n",
      "|    max|                99|\n",
      "+-------+------------------+\n",
      "\n"
     ]
    }
   ],
   "source": [
    "df.describe(['Column1']).show()"
   ]
  },
  {
   "cell_type": "code",
   "execution_count": null,
   "metadata": {
    "id": "aOF2RzwEPtXj"
   },
   "outputs": [],
   "source": []
  },
  {
   "cell_type": "markdown",
   "metadata": {
    "id": "wCj7DcZVQE5Z"
   },
   "source": [
    "####*distinct*: Returns a new :class:DataFrame containing the distinct rows in this :class:DataFrame.\n",
    "---\n",
    "\n"
   ]
  },
  {
   "cell_type": "code",
   "execution_count": null,
   "metadata": {
    "id": "2-kYz23sQE5a"
   },
   "outputs": [],
   "source": [
    "df.distinct?"
   ]
  },
  {
   "cell_type": "code",
   "execution_count": null,
   "metadata": {
    "colab": {
     "base_uri": "https://localhost:8080/"
    },
    "executionInfo": {
     "elapsed": 2083,
     "status": "ok",
     "timestamp": 1606842491925,
     "user": {
      "displayName": "Ibrahim Abu Alhaol",
      "photoUrl": "https://lh3.googleusercontent.com/a-/AOh14GjRvrebxMDZgnHVVgf2jggVAk9E6ufnpjzPPcXJ=s64",
      "userId": "00373072729262931595"
     },
     "user_tz": -120
    },
    "id": "zOJhksl0QO6Z",
    "outputId": "70dc442d-2050-42ae-d741-39a878cd77bd"
   },
   "outputs": [
    {
     "name": "stdout",
     "output_type": "stream",
     "text": [
      "+-------+-------+--------------------+-----+\n",
      "|Column1|Column2|             Column3| Name|\n",
      "+-------+-------+--------------------+-----+\n",
      "|     94|     29|  0.8495723650348299|Ahmad|\n",
      "|     13|     28| 0.16560010860797036| Noor|\n",
      "|     59|     26|  0.5310600268819183|Ahmad|\n",
      "|     77|     24|  0.7373484717357396|Ahmad|\n",
      "|     69|     24|  0.7590036524728969|Salem|\n",
      "|     69|     31| 0.42940288617129097|Salem|\n",
      "|      8|     24|  0.9866124616116961|Ahmad|\n",
      "|     45|     32|  0.3872620291211263|Ahmad|\n",
      "|     93|     25|  0.5778495928350084|Ahmad|\n",
      "|     41|     24|  0.5355274847601205|Ahmad|\n",
      "|     86|     24|  0.2964078000774001|Ahmad|\n",
      "|      1|     31| 0.17691905157898846| Heba|\n",
      "|     50|     29| 0.30030100840536644|Salem|\n",
      "|     59|     24|  0.6059844251715806| Heba|\n",
      "|     63|     24| 0.06881758546974137|Salem|\n",
      "|     33|     30|  0.3900674421410443|Ahmad|\n",
      "|     55|     32|  0.7610307560762561|Ahmad|\n",
      "|     19|     24|  0.1939214011251451|Ahmad|\n",
      "|     38|     24|0.013484079390625237| Noor|\n",
      "|     55|     24|  0.6231824061451413|Salem|\n",
      "+-------+-------+--------------------+-----+\n",
      "only showing top 20 rows\n",
      "\n"
     ]
    }
   ],
   "source": [
    "df.distinct().show()"
   ]
  },
  {
   "cell_type": "code",
   "execution_count": null,
   "metadata": {
    "colab": {
     "base_uri": "https://localhost:8080/"
    },
    "executionInfo": {
     "elapsed": 6904,
     "status": "ok",
     "timestamp": 1606842740037,
     "user": {
      "displayName": "Ibrahim Abu Alhaol",
      "photoUrl": "https://lh3.googleusercontent.com/a-/AOh14GjRvrebxMDZgnHVVgf2jggVAk9E6ufnpjzPPcXJ=s64",
      "userId": "00373072729262931595"
     },
     "user_tz": -120
    },
    "id": "tif9JDPeShSB",
    "outputId": "c501017e-589b-44ca-b9e7-8a07ec14ac45"
   },
   "outputs": [
    {
     "name": "stdout",
     "output_type": "stream",
     "text": [
      "10 loops, best of 3: 108 ms per loop\n"
     ]
    }
   ],
   "source": [
    "%timeit df.count()"
   ]
  },
  {
   "cell_type": "code",
   "execution_count": null,
   "metadata": {
    "colab": {
     "base_uri": "https://localhost:8080/"
    },
    "executionInfo": {
     "elapsed": 9392,
     "status": "ok",
     "timestamp": 1606842718357,
     "user": {
      "displayName": "Ibrahim Abu Alhaol",
      "photoUrl": "https://lh3.googleusercontent.com/a-/AOh14GjRvrebxMDZgnHVVgf2jggVAk9E6ufnpjzPPcXJ=s64",
      "userId": "00373072729262931595"
     },
     "user_tz": -120
    },
    "id": "ADRDwcSpQTGw",
    "outputId": "14b2b31d-af3a-4c9b-a452-de2e08f35dcd"
   },
   "outputs": [
    {
     "name": "stdout",
     "output_type": "stream",
     "text": [
      "1 loop, best of 3: 1.36 s per loop\n"
     ]
    }
   ],
   "source": [
    "%timeit df.distinct().count()"
   ]
  },
  {
   "cell_type": "code",
   "execution_count": null,
   "metadata": {
    "colab": {
     "base_uri": "https://localhost:8080/"
    },
    "executionInfo": {
     "elapsed": 3140,
     "status": "ok",
     "timestamp": 1606824435712,
     "user": {
      "displayName": "Ibrahim Abu Alhaol",
      "photoUrl": "https://lh3.googleusercontent.com/a-/AOh14GjRvrebxMDZgnHVVgf2jggVAk9E6ufnpjzPPcXJ=s64",
      "userId": "00373072729262931595"
     },
     "user_tz": -120
    },
    "id": "zt5tW1CUQyKC",
    "outputId": "f1a15aa4-b055-40cf-e455-7d4f5b726b59"
   },
   "outputs": [
    {
     "name": "stdout",
     "output_type": "stream",
     "text": [
      "+-----+\n",
      "| Name|\n",
      "+-----+\n",
      "|Ahmad|\n",
      "|Salem|\n",
      "| Heba|\n",
      "| Noor|\n",
      "+-----+\n",
      "\n"
     ]
    }
   ],
   "source": [
    "df.select('Name').distinct().show()"
   ]
  },
  {
   "cell_type": "code",
   "execution_count": null,
   "metadata": {
    "colab": {
     "base_uri": "https://localhost:8080/"
    },
    "executionInfo": {
     "elapsed": 2009,
     "status": "ok",
     "timestamp": 1606842806652,
     "user": {
      "displayName": "Ibrahim Abu Alhaol",
      "photoUrl": "https://lh3.googleusercontent.com/a-/AOh14GjRvrebxMDZgnHVVgf2jggVAk9E6ufnpjzPPcXJ=s64",
      "userId": "00373072729262931595"
     },
     "user_tz": -120
    },
    "id": "npXwplfdSAzR",
    "outputId": "d07e4fab-2e47-49b5-a800-4ea57462110c"
   },
   "outputs": [
    {
     "data": {
      "text/plain": [
       "['Ahmad', 'Salem', 'Heba', 'Noor']"
      ]
     },
     "execution_count": 114,
     "metadata": {
      "tags": []
     },
     "output_type": "execute_result"
    }
   ],
   "source": [
    "df.select('Name').distinct().toPandas()['Name'].to_list()"
   ]
  },
  {
   "cell_type": "code",
   "execution_count": null,
   "metadata": {
    "colab": {
     "base_uri": "https://localhost:8080/"
    },
    "executionInfo": {
     "elapsed": 3344,
     "status": "ok",
     "timestamp": 1606824438936,
     "user": {
      "displayName": "Ibrahim Abu Alhaol",
      "photoUrl": "https://lh3.googleusercontent.com/a-/AOh14GjRvrebxMDZgnHVVgf2jggVAk9E6ufnpjzPPcXJ=s64",
      "userId": "00373072729262931595"
     },
     "user_tz": -120
    },
    "id": "FZPIcy2yQpwV",
    "outputId": "362659c3-1f79-48b2-de96-71ebe9b61c01"
   },
   "outputs": [
    {
     "data": {
      "text/plain": [
       "4"
      ]
     },
     "execution_count": 28,
     "metadata": {
      "tags": []
     },
     "output_type": "execute_result"
    }
   ],
   "source": [
    "df.select('Name').distinct().count()"
   ]
  },
  {
   "cell_type": "code",
   "execution_count": null,
   "metadata": {
    "id": "LJpwDTAXQvNE"
   },
   "outputs": [],
   "source": []
  },
  {
   "cell_type": "markdown",
   "metadata": {
    "id": "63HISiWbM4ED"
   },
   "source": [
    "####*drop*: Returns a new :class:DataFrame that drops the specified column. This is a no-op if schema doesn't contain the given column name(s).\n",
    "---\n",
    "\n"
   ]
  },
  {
   "cell_type": "code",
   "execution_count": null,
   "metadata": {
    "id": "Oi8OEDTYM4ED"
   },
   "outputs": [],
   "source": [
    "df.drop?"
   ]
  },
  {
   "cell_type": "code",
   "execution_count": null,
   "metadata": {
    "colab": {
     "base_uri": "https://localhost:8080/"
    },
    "executionInfo": {
     "elapsed": 1146,
     "status": "ok",
     "timestamp": 1606824578708,
     "user": {
      "displayName": "Ibrahim Abu Alhaol",
      "photoUrl": "https://lh3.googleusercontent.com/a-/AOh14GjRvrebxMDZgnHVVgf2jggVAk9E6ufnpjzPPcXJ=s64",
      "userId": "00373072729262931595"
     },
     "user_tz": -120
    },
    "id": "LOy1W2xnNBmn",
    "outputId": "9805e56b-8ab9-40d9-f3d7-b91502ce1b65"
   },
   "outputs": [
    {
     "data": {
      "text/plain": [
       "['Column1', 'Column2', 'Column3', 'Name']"
      ]
     },
     "execution_count": 32,
     "metadata": {
      "tags": []
     },
     "output_type": "execute_result"
    }
   ],
   "source": [
    "df.columns"
   ]
  },
  {
   "cell_type": "code",
   "execution_count": null,
   "metadata": {
    "colab": {
     "base_uri": "https://localhost:8080/"
    },
    "executionInfo": {
     "elapsed": 1118,
     "status": "ok",
     "timestamp": 1606824635955,
     "user": {
      "displayName": "Ibrahim Abu Alhaol",
      "photoUrl": "https://lh3.googleusercontent.com/a-/AOh14GjRvrebxMDZgnHVVgf2jggVAk9E6ufnpjzPPcXJ=s64",
      "userId": "00373072729262931595"
     },
     "user_tz": -120
    },
    "id": "niJgDM2YNOoR",
    "outputId": "fd0bdcc1-28b6-4d5b-b11b-d92124f137ba"
   },
   "outputs": [
    {
     "name": "stdout",
     "output_type": "stream",
     "text": [
      "+-------+-------------------+-----+\n",
      "|Column2|            Column3| Name|\n",
      "+-------+-------------------+-----+\n",
      "|     26| 0.7575907507340062|Ahmad|\n",
      "|     31|0.17963818734322423|Ahmad|\n",
      "|     33|0.30812033890731083|Ahmad|\n",
      "+-------+-------------------+-----+\n",
      "only showing top 3 rows\n",
      "\n"
     ]
    }
   ],
   "source": [
    "df.drop('Column1').show(3)"
   ]
  },
  {
   "cell_type": "code",
   "execution_count": null,
   "metadata": {
    "colab": {
     "base_uri": "https://localhost:8080/"
    },
    "executionInfo": {
     "elapsed": 1341,
     "status": "ok",
     "timestamp": 1606842945536,
     "user": {
      "displayName": "Ibrahim Abu Alhaol",
      "photoUrl": "https://lh3.googleusercontent.com/a-/AOh14GjRvrebxMDZgnHVVgf2jggVAk9E6ufnpjzPPcXJ=s64",
      "userId": "00373072729262931595"
     },
     "user_tz": -120
    },
    "id": "HLLxcig6TRMm",
    "outputId": "df200f5a-8692-4701-d803-7ba9eab9a8ad"
   },
   "outputs": [
    {
     "name": "stdout",
     "output_type": "stream",
     "text": [
      "+-------+------------------+-----+\n",
      "|Column2|           Column3| Name|\n",
      "+-------+------------------+-----+\n",
      "|     32|0.7450478648089105|Ahmad|\n",
      "|     33|0.6252066002346331| Heba|\n",
      "|     24|0.7735847706241884|Salem|\n",
      "+-------+------------------+-----+\n",
      "only showing top 3 rows\n",
      "\n"
     ]
    }
   ],
   "source": [
    "df.select('Column2', 'Column3','Name').show(3)"
   ]
  },
  {
   "cell_type": "code",
   "execution_count": null,
   "metadata": {
    "colab": {
     "base_uri": "https://localhost:8080/"
    },
    "executionInfo": {
     "elapsed": 1041,
     "status": "ok",
     "timestamp": 1606824649071,
     "user": {
      "displayName": "Ibrahim Abu Alhaol",
      "photoUrl": "https://lh3.googleusercontent.com/a-/AOh14GjRvrebxMDZgnHVVgf2jggVAk9E6ufnpjzPPcXJ=s64",
      "userId": "00373072729262931595"
     },
     "user_tz": -120
    },
    "id": "Rda6chpLNcnH",
    "outputId": "831ccb86-d9fb-4cad-f947-956aece17e57"
   },
   "outputs": [
    {
     "name": "stdout",
     "output_type": "stream",
     "text": [
      "+-------+-------+-------------------+-----+\n",
      "|Column1|Column2|            Column3| Name|\n",
      "+-------+-------+-------------------+-----+\n",
      "|     11|     26| 0.7575907507340062|Ahmad|\n",
      "|     70|     31|0.17963818734322423|Ahmad|\n",
      "|     31|     33|0.30812033890731083|Ahmad|\n",
      "+-------+-------+-------------------+-----+\n",
      "only showing top 3 rows\n",
      "\n"
     ]
    }
   ],
   "source": [
    "df.show(3)"
   ]
  },
  {
   "cell_type": "code",
   "execution_count": null,
   "metadata": {
    "colab": {
     "base_uri": "https://localhost:8080/"
    },
    "executionInfo": {
     "elapsed": 831,
     "status": "ok",
     "timestamp": 1606824682241,
     "user": {
      "displayName": "Ibrahim Abu Alhaol",
      "photoUrl": "https://lh3.googleusercontent.com/a-/AOh14GjRvrebxMDZgnHVVgf2jggVAk9E6ufnpjzPPcXJ=s64",
      "userId": "00373072729262931595"
     },
     "user_tz": -120
    },
    "id": "51Dqf1kGNkg6",
    "outputId": "a8d94e76-2124-4563-ea58-6af99b5f2bf2"
   },
   "outputs": [
    {
     "name": "stdout",
     "output_type": "stream",
     "text": [
      "+-------+-------------------+-----+\n",
      "|Column2|            Column3| Name|\n",
      "+-------+-------------------+-----+\n",
      "|     26| 0.7575907507340062|Ahmad|\n",
      "|     31|0.17963818734322423|Ahmad|\n",
      "|     33|0.30812033890731083|Ahmad|\n",
      "+-------+-------------------+-----+\n",
      "only showing top 3 rows\n",
      "\n"
     ]
    }
   ],
   "source": [
    "df1=df.drop('Column1')\n",
    "df1.show(3)"
   ]
  },
  {
   "cell_type": "code",
   "execution_count": null,
   "metadata": {
    "id": "kQsrou-wNslb"
   },
   "outputs": [],
   "source": []
  },
  {
   "cell_type": "markdown",
   "metadata": {
    "id": "-h0xQnynN489"
   },
   "source": [
    "####*drop_duplicates* drop_duplicates is an alias for :func:dropDuplicates.\n",
    "---\n",
    "\n"
   ]
  },
  {
   "cell_type": "markdown",
   "metadata": {
    "id": "yp3P5W6rN5X7"
   },
   "source": [
    "####*dropDuplicates*: Returns a new :class:DataFrame that drops the specified column. This is a no-op if schema doesn't contain the given column name(s).\n",
    "---\n",
    "\n"
   ]
  },
  {
   "cell_type": "code",
   "execution_count": null,
   "metadata": {
    "id": "U6IXznfAN489"
   },
   "outputs": [],
   "source": [
    "df.dropDuplicates?"
   ]
  },
  {
   "cell_type": "code",
   "execution_count": null,
   "metadata": {
    "id": "kdfK80DBN5X8"
   },
   "outputs": [],
   "source": [
    "from pyspark.sql import Row\n",
    "sparkContext=spark.sparkContext\n",
    "\n",
    "df3 = sparkContext.parallelize([ \n",
    "                                Row(name='Alice', age=5, height=80), \n",
    "                                Row(name='Alice', age=5, height=80), \n",
    "                                Row(name='Alice', age=10, height=80)]).toDF()\n",
    "\n"
   ]
  },
  {
   "cell_type": "code",
   "execution_count": null,
   "metadata": {
    "colab": {
     "base_uri": "https://localhost:8080/"
    },
    "executionInfo": {
     "elapsed": 3881,
     "status": "ok",
     "timestamp": 1606843126987,
     "user": {
      "displayName": "Ibrahim Abu Alhaol",
      "photoUrl": "https://lh3.googleusercontent.com/a-/AOh14GjRvrebxMDZgnHVVgf2jggVAk9E6ufnpjzPPcXJ=s64",
      "userId": "00373072729262931595"
     },
     "user_tz": -120
    },
    "id": "jfjh-ycfUA3c",
    "outputId": "1988f7ce-4f5c-43a8-d522-1198fd3c8b28"
   },
   "outputs": [
    {
     "name": "stdout",
     "output_type": "stream",
     "text": [
      "+---+------+-----+\n",
      "|age|height| name|\n",
      "+---+------+-----+\n",
      "|  5|    80|Alice|\n",
      "|  5|    80|Alice|\n",
      "| 10|    80|Alice|\n",
      "+---+------+-----+\n",
      "\n"
     ]
    }
   ],
   "source": [
    "df3.show()"
   ]
  },
  {
   "cell_type": "code",
   "execution_count": null,
   "metadata": {
    "colab": {
     "base_uri": "https://localhost:8080/"
    },
    "executionInfo": {
     "elapsed": 2608,
     "status": "ok",
     "timestamp": 1606843195134,
     "user": {
      "displayName": "Ibrahim Abu Alhaol",
      "photoUrl": "https://lh3.googleusercontent.com/a-/AOh14GjRvrebxMDZgnHVVgf2jggVAk9E6ufnpjzPPcXJ=s64",
      "userId": "00373072729262931595"
     },
     "user_tz": -120
    },
    "id": "LnZroCAUUHeD",
    "outputId": "cc98a8dc-ad75-42aa-d514-1508adf5ad31"
   },
   "outputs": [
    {
     "name": "stdout",
     "output_type": "stream",
     "text": [
      "+---+------+-----+\n",
      "|age|height| name|\n",
      "+---+------+-----+\n",
      "|  5|    80|Alice|\n",
      "| 10|    80|Alice|\n",
      "+---+------+-----+\n",
      "\n"
     ]
    }
   ],
   "source": [
    "df3.dropDuplicates().show(3)"
   ]
  },
  {
   "cell_type": "code",
   "execution_count": null,
   "metadata": {
    "colab": {
     "base_uri": "https://localhost:8080/"
    },
    "executionInfo": {
     "elapsed": 2338,
     "status": "ok",
     "timestamp": 1606825121227,
     "user": {
      "displayName": "Ibrahim Abu Alhaol",
      "photoUrl": "https://lh3.googleusercontent.com/a-/AOh14GjRvrebxMDZgnHVVgf2jggVAk9E6ufnpjzPPcXJ=s64",
      "userId": "00373072729262931595"
     },
     "user_tz": -120
    },
    "id": "UEjp0AAFOlPv",
    "outputId": "f7eb48d4-643f-498c-8db0-fd5018a99e30"
   },
   "outputs": [
    {
     "data": {
      "text/plain": [
       "2"
      ]
     },
     "execution_count": 48,
     "metadata": {
      "tags": []
     },
     "output_type": "execute_result"
    }
   ],
   "source": [
    "df3.dropDuplicates().count()"
   ]
  },
  {
   "cell_type": "code",
   "execution_count": null,
   "metadata": {
    "colab": {
     "base_uri": "https://localhost:8080/"
    },
    "executionInfo": {
     "elapsed": 2354,
     "status": "ok",
     "timestamp": 1606825137164,
     "user": {
      "displayName": "Ibrahim Abu Alhaol",
      "photoUrl": "https://lh3.googleusercontent.com/a-/AOh14GjRvrebxMDZgnHVVgf2jggVAk9E6ufnpjzPPcXJ=s64",
      "userId": "00373072729262931595"
     },
     "user_tz": -120
    },
    "id": "du3hpgmEPYq_",
    "outputId": "660f2f0c-9b2e-4353-d3e2-b41347ebaec5"
   },
   "outputs": [
    {
     "data": {
      "text/plain": [
       "1000"
      ]
     },
     "execution_count": 49,
     "metadata": {
      "tags": []
     },
     "output_type": "execute_result"
    }
   ],
   "source": [
    "df.dropDuplicates().count()"
   ]
  },
  {
   "cell_type": "code",
   "execution_count": null,
   "metadata": {
    "colab": {
     "base_uri": "https://localhost:8080/"
    },
    "executionInfo": {
     "elapsed": 2026,
     "status": "ok",
     "timestamp": 1606825156043,
     "user": {
      "displayName": "Ibrahim Abu Alhaol",
      "photoUrl": "https://lh3.googleusercontent.com/a-/AOh14GjRvrebxMDZgnHVVgf2jggVAk9E6ufnpjzPPcXJ=s64",
      "userId": "00373072729262931595"
     },
     "user_tz": -120
    },
    "id": "PlKT8UShPcp_",
    "outputId": "056f2b4a-87c4-40af-8e73-d09f9a17a94b"
   },
   "outputs": [
    {
     "data": {
      "text/plain": [
       "4"
      ]
     },
     "execution_count": 50,
     "metadata": {
      "tags": []
     },
     "output_type": "execute_result"
    }
   ],
   "source": [
    "df.select(\"name\").dropDuplicates().count()"
   ]
  },
  {
   "cell_type": "code",
   "execution_count": null,
   "metadata": {
    "id": "sRaYZHMePhV_"
   },
   "outputs": [],
   "source": []
  },
  {
   "cell_type": "markdown",
   "metadata": {
    "id": "PjEFZAPlVzEr"
   },
   "source": [
    "####*dropna*: Returns a new :class:DataFrame that drops the specified column. This is a no-op if schema doesn't contain the given column name(s).\n",
    "---\n",
    "\n"
   ]
  },
  {
   "cell_type": "code",
   "execution_count": null,
   "metadata": {
    "id": "yX2OGqzzUiKM"
   },
   "outputs": [],
   "source": [
    "df.na.drop?\n"
   ]
  },
  {
   "cell_type": "code",
   "execution_count": null,
   "metadata": {
    "id": "2ZnXj8NGVzEs"
   },
   "outputs": [],
   "source": [
    "df.dropna?"
   ]
  },
  {
   "cell_type": "code",
   "execution_count": null,
   "metadata": {
    "colab": {
     "base_uri": "https://localhost:8080/"
    },
    "executionInfo": {
     "elapsed": 1649,
     "status": "ok",
     "timestamp": 1606843440583,
     "user": {
      "displayName": "Ibrahim Abu Alhaol",
      "photoUrl": "https://lh3.googleusercontent.com/a-/AOh14GjRvrebxMDZgnHVVgf2jggVAk9E6ufnpjzPPcXJ=s64",
      "userId": "00373072729262931595"
     },
     "user_tz": -120
    },
    "id": "tGz2dh1zV6MB",
    "outputId": "8bed5c06-5eda-4efd-b54d-b796f7e37a5a"
   },
   "outputs": [
    {
     "name": "stdout",
     "output_type": "stream",
     "text": [
      "+---+------+-----+\n",
      "|age|height| name|\n",
      "+---+------+-----+\n",
      "|  9|    80|Alice|\n",
      "|  5|    80|Frank|\n",
      "| 10|  null|Ahmad|\n",
      "+---+------+-----+\n",
      "\n"
     ]
    }
   ],
   "source": [
    "from pyspark.sql import Row\n",
    "sparkContext=spark.sparkContext\n",
    "\n",
    "df4 = sparkContext.parallelize([ \n",
    "                                Row(name='Alice', age=9, height=80), \n",
    "                                Row(name='Frank', age=5, height=80), \n",
    "                                Row(name='Ahmad', age=10, height=np.nan)]).toDF()\n",
    "df4.show(3)"
   ]
  },
  {
   "cell_type": "code",
   "execution_count": null,
   "metadata": {
    "colab": {
     "base_uri": "https://localhost:8080/"
    },
    "executionInfo": {
     "elapsed": 2088,
     "status": "ok",
     "timestamp": 1606843442134,
     "user": {
      "displayName": "Ibrahim Abu Alhaol",
      "photoUrl": "https://lh3.googleusercontent.com/a-/AOh14GjRvrebxMDZgnHVVgf2jggVAk9E6ufnpjzPPcXJ=s64",
      "userId": "00373072729262931595"
     },
     "user_tz": -120
    },
    "id": "ZEwuk3DtWMw9",
    "outputId": "87e44424-91ed-48de-ab11-42bc2dd1c9d0"
   },
   "outputs": [
    {
     "name": "stdout",
     "output_type": "stream",
     "text": [
      "+---+------+-----+\n",
      "|age|height| name|\n",
      "+---+------+-----+\n",
      "|  9|    80|Alice|\n",
      "|  5|    80|Frank|\n",
      "+---+------+-----+\n",
      "\n"
     ]
    }
   ],
   "source": [
    "df4.dropna().show()"
   ]
  },
  {
   "cell_type": "code",
   "execution_count": null,
   "metadata": {
    "id": "3kHpWF_pWo0P"
   },
   "outputs": [],
   "source": []
  },
  {
   "cell_type": "markdown",
   "metadata": {
    "id": "eQQuM462XANs"
   },
   "source": [
    "####*fillna*: Replace null values, alias for na.fill()\n",
    "---\n",
    "\n"
   ]
  },
  {
   "cell_type": "code",
   "execution_count": null,
   "metadata": {
    "colab": {
     "base_uri": "https://localhost:8080/"
    },
    "executionInfo": {
     "elapsed": 3789,
     "status": "ok",
     "timestamp": 1606843446585,
     "user": {
      "displayName": "Ibrahim Abu Alhaol",
      "photoUrl": "https://lh3.googleusercontent.com/a-/AOh14GjRvrebxMDZgnHVVgf2jggVAk9E6ufnpjzPPcXJ=s64",
      "userId": "00373072729262931595"
     },
     "user_tz": -120
    },
    "id": "H6l9aT8sXANs",
    "outputId": "ea65a42b-2859-425a-df64-cdca8ed704b4"
   },
   "outputs": [
    {
     "name": "stdout",
     "output_type": "stream",
     "text": [
      "+---+------+-----+\n",
      "|age|height| name|\n",
      "+---+------+-----+\n",
      "|  9|    80|Alice|\n",
      "|  5|    80|Frank|\n",
      "| 10|  null|Ahmad|\n",
      "+---+------+-----+\n",
      "\n"
     ]
    }
   ],
   "source": [
    "df4.show(3)"
   ]
  },
  {
   "cell_type": "code",
   "execution_count": null,
   "metadata": {
    "colab": {
     "base_uri": "https://localhost:8080/"
    },
    "executionInfo": {
     "elapsed": 3138,
     "status": "ok",
     "timestamp": 1606843446587,
     "user": {
      "displayName": "Ibrahim Abu Alhaol",
      "photoUrl": "https://lh3.googleusercontent.com/a-/AOh14GjRvrebxMDZgnHVVgf2jggVAk9E6ufnpjzPPcXJ=s64",
      "userId": "00373072729262931595"
     },
     "user_tz": -120
    },
    "id": "PxayIcf4XMaz",
    "outputId": "acdb16c7-ce27-454a-917b-00be5f482a0b"
   },
   "outputs": [
    {
     "name": "stdout",
     "output_type": "stream",
     "text": [
      "+---+------+-----+\n",
      "|age|height| name|\n",
      "+---+------+-----+\n",
      "|  9|    80|Alice|\n",
      "|  5|    80|Frank|\n",
      "| 10|     3|Ahmad|\n",
      "+---+------+-----+\n",
      "\n"
     ]
    }
   ],
   "source": [
    "df4.fillna(3).show()"
   ]
  },
  {
   "cell_type": "code",
   "execution_count": null,
   "metadata": {
    "colab": {
     "base_uri": "https://localhost:8080/"
    },
    "executionInfo": {
     "elapsed": 2917,
     "status": "ok",
     "timestamp": 1606843446588,
     "user": {
      "displayName": "Ibrahim Abu Alhaol",
      "photoUrl": "https://lh3.googleusercontent.com/a-/AOh14GjRvrebxMDZgnHVVgf2jggVAk9E6ufnpjzPPcXJ=s64",
      "userId": "00373072729262931595"
     },
     "user_tz": -120
    },
    "id": "SQiImW11XPiF",
    "outputId": "6437fcc5-2e9a-4ba6-c16e-5f21cf9c30ff"
   },
   "outputs": [
    {
     "name": "stdout",
     "output_type": "stream",
     "text": [
      "+---+------+-----+\n",
      "|age|height| name|\n",
      "+---+------+-----+\n",
      "|  9|    80|Alice|\n",
      "|  5|    80|Frank|\n",
      "| 10|    80|Ahmad|\n",
      "+---+------+-----+\n",
      "\n"
     ]
    }
   ],
   "source": [
    "fill_avg=df4.select('height').toPandas().mean()[0]\n",
    "df4.fillna(fill_avg).show()"
   ]
  },
  {
   "cell_type": "code",
   "execution_count": null,
   "metadata": {
    "id": "nPzgIAqcXjlL"
   },
   "outputs": [],
   "source": []
  },
  {
   "cell_type": "markdown",
   "metadata": {
    "id": "F1Xzx_aYYK-1"
   },
   "source": [
    "####*filter*: Filters rows using the given condition.\t\n",
    "---\n",
    "\n"
   ]
  },
  {
   "cell_type": "code",
   "execution_count": null,
   "metadata": {
    "id": "XJCHHjTpYK-1"
   },
   "outputs": [],
   "source": [
    "df4.filter?"
   ]
  },
  {
   "cell_type": "code",
   "execution_count": null,
   "metadata": {
    "colab": {
     "base_uri": "https://localhost:8080/"
    },
    "executionInfo": {
     "elapsed": 867,
     "status": "ok",
     "timestamp": 1606827513270,
     "user": {
      "displayName": "Ibrahim Abu Alhaol",
      "photoUrl": "https://lh3.googleusercontent.com/a-/AOh14GjRvrebxMDZgnHVVgf2jggVAk9E6ufnpjzPPcXJ=s64",
      "userId": "00373072729262931595"
     },
     "user_tz": -120
    },
    "id": "NF_0WtYcYTdI",
    "outputId": "9224b102-389e-469d-b1d6-fd290e29d7e3"
   },
   "outputs": [
    {
     "name": "stdout",
     "output_type": "stream",
     "text": [
      "+---+------+-----+\n",
      "|age|height| name|\n",
      "+---+------+-----+\n",
      "|  9|    80|Alice|\n",
      "|  5|    80|Frank|\n",
      "| 10|  null|Ahmad|\n",
      "+---+------+-----+\n",
      "\n"
     ]
    }
   ],
   "source": [
    "df4.show(10)"
   ]
  },
  {
   "cell_type": "code",
   "execution_count": null,
   "metadata": {
    "colab": {
     "base_uri": "https://localhost:8080/"
    },
    "executionInfo": {
     "elapsed": 1047,
     "status": "ok",
     "timestamp": 1606827550293,
     "user": {
      "displayName": "Ibrahim Abu Alhaol",
      "photoUrl": "https://lh3.googleusercontent.com/a-/AOh14GjRvrebxMDZgnHVVgf2jggVAk9E6ufnpjzPPcXJ=s64",
      "userId": "00373072729262931595"
     },
     "user_tz": -120
    },
    "id": "Sb9XBUQeYfgh",
    "outputId": "a1efb204-df45-4866-9864-fe057e1f8e65"
   },
   "outputs": [
    {
     "name": "stdout",
     "output_type": "stream",
     "text": [
      "+---+------+-----+\n",
      "|age|height| name|\n",
      "+---+------+-----+\n",
      "|  9|    80|Alice|\n",
      "| 10|  null|Ahmad|\n",
      "+---+------+-----+\n",
      "\n"
     ]
    }
   ],
   "source": [
    "df4.filter(df4.age>5).show(3)"
   ]
  },
  {
   "cell_type": "code",
   "execution_count": null,
   "metadata": {
    "colab": {
     "base_uri": "https://localhost:8080/"
    },
    "executionInfo": {
     "elapsed": 5185,
     "status": "ok",
     "timestamp": 1606843769549,
     "user": {
      "displayName": "Ibrahim Abu Alhaol",
      "photoUrl": "https://lh3.googleusercontent.com/a-/AOh14GjRvrebxMDZgnHVVgf2jggVAk9E6ufnpjzPPcXJ=s64",
      "userId": "00373072729262931595"
     },
     "user_tz": -120
    },
    "id": "ViZjRz09VyE0",
    "outputId": "6f89fd9b-773a-40c7-c2ac-55ce2e5bebf6"
   },
   "outputs": [
    {
     "name": "stdout",
     "output_type": "stream",
     "text": [
      "+---+------+-----+\n",
      "|age|height| name|\n",
      "+---+------+-----+\n",
      "|  9|    80|Alice|\n",
      "+---+------+-----+\n",
      "\n"
     ]
    }
   ],
   "source": [
    "df4.filter('age > 5') \\\n",
    ".filter('age<10') \\\n",
    ".show(3)\n",
    "\n",
    "df4.filter('age > 5') \\\n",
    ".filter('age<10') \\\n",
    ".toPandas().to_csv('results.csv')"
   ]
  },
  {
   "cell_type": "code",
   "execution_count": null,
   "metadata": {
    "colab": {
     "base_uri": "https://localhost:8080/"
    },
    "executionInfo": {
     "elapsed": 3058,
     "status": "ok",
     "timestamp": 1606843965899,
     "user": {
      "displayName": "Ibrahim Abu Alhaol",
      "photoUrl": "https://lh3.googleusercontent.com/a-/AOh14GjRvrebxMDZgnHVVgf2jggVAk9E6ufnpjzPPcXJ=s64",
      "userId": "00373072729262931595"
     },
     "user_tz": -120
    },
    "id": "xawD2tiIXQXy",
    "outputId": "a10dd950-9b50-4ec6-c5c0-5dc79d1140da"
   },
   "outputs": [
    {
     "data": {
      "text/plain": [
       "DataFrame[age: bigint, height: bigint, name: string]"
      ]
     },
     "execution_count": 137,
     "metadata": {
      "tags": []
     },
     "output_type": "execute_result"
    }
   ],
   "source": [
    "df4.filter('age > 5') \\\n",
    ".filter('age<10').show()"
   ]
  },
  {
   "cell_type": "code",
   "execution_count": null,
   "metadata": {
    "id": "keIeX0txXZG3"
   },
   "outputs": [],
   "source": []
  },
  {
   "cell_type": "code",
   "execution_count": null,
   "metadata": {
    "colab": {
     "base_uri": "https://localhost:8080/"
    },
    "executionInfo": {
     "elapsed": 969,
     "status": "ok",
     "timestamp": 1606827616846,
     "user": {
      "displayName": "Ibrahim Abu Alhaol",
      "photoUrl": "https://lh3.googleusercontent.com/a-/AOh14GjRvrebxMDZgnHVVgf2jggVAk9E6ufnpjzPPcXJ=s64",
      "userId": "00373072729262931595"
     },
     "user_tz": -120
    },
    "id": "yRvQoI7MYm_C",
    "outputId": "d56ec519-0e9f-47fa-9862-80d1fed458f8"
   },
   "outputs": [
    {
     "name": "stdout",
     "output_type": "stream",
     "text": [
      "+---+------+-----+\n",
      "|age|height| name|\n",
      "+---+------+-----+\n",
      "|  9|    80|Alice|\n",
      "+---+------+-----+\n",
      "\n"
     ]
    }
   ],
   "source": [
    "df4.filter((df4.age>5)&(df4.name=='Alice')).show(3)"
   ]
  },
  {
   "cell_type": "code",
   "execution_count": null,
   "metadata": {
    "id": "JRuEknubY8Kt"
   },
   "outputs": [],
   "source": [
    "Cond=(df4.age>5)&(df4.name=='Alice')"
   ]
  },
  {
   "cell_type": "code",
   "execution_count": null,
   "metadata": {
    "colab": {
     "base_uri": "https://localhost:8080/"
    },
    "executionInfo": {
     "elapsed": 900,
     "status": "ok",
     "timestamp": 1606827659556,
     "user": {
      "displayName": "Ibrahim Abu Alhaol",
      "photoUrl": "https://lh3.googleusercontent.com/a-/AOh14GjRvrebxMDZgnHVVgf2jggVAk9E6ufnpjzPPcXJ=s64",
      "userId": "00373072729262931595"
     },
     "user_tz": -120
    },
    "id": "xJUoGtKfY2lh",
    "outputId": "b733407c-ff5c-44df-b7bc-b2688432dde0"
   },
   "outputs": [
    {
     "data": {
      "text/plain": [
       "Column<b'((age > 5) AND (name = Alice))'>"
      ]
     },
     "execution_count": 76,
     "metadata": {
      "tags": []
     },
     "output_type": "execute_result"
    }
   ],
   "source": [
    "Cond"
   ]
  },
  {
   "cell_type": "code",
   "execution_count": null,
   "metadata": {
    "colab": {
     "base_uri": "https://localhost:8080/"
    },
    "executionInfo": {
     "elapsed": 996,
     "status": "ok",
     "timestamp": 1606827691675,
     "user": {
      "displayName": "Ibrahim Abu Alhaol",
      "photoUrl": "https://lh3.googleusercontent.com/a-/AOh14GjRvrebxMDZgnHVVgf2jggVAk9E6ufnpjzPPcXJ=s64",
      "userId": "00373072729262931595"
     },
     "user_tz": -120
    },
    "id": "PgLdRoquZBRL",
    "outputId": "0ab790eb-7c8b-4de6-a14d-c8606fd5d488"
   },
   "outputs": [
    {
     "name": "stdout",
     "output_type": "stream",
     "text": [
      "+---+------+-----+\n",
      "|age|height| name|\n",
      "+---+------+-----+\n",
      "|  9|    80|Alice|\n",
      "+---+------+-----+\n",
      "\n"
     ]
    }
   ],
   "source": [
    "df5=df4.filter(Cond)\n",
    "df5.show()"
   ]
  },
  {
   "cell_type": "code",
   "execution_count": null,
   "metadata": {
    "id": "wOSTjlgFZI7f"
   },
   "outputs": [],
   "source": []
  },
  {
   "cell_type": "markdown",
   "metadata": {
    "id": "v0-5O-6gZYI5"
   },
   "source": [
    "####*withColumn*: Returns a new :class:DataFrame by adding a column or replacing theexisting column that has the same name.\n",
    "---\n",
    "\n"
   ]
  },
  {
   "cell_type": "code",
   "execution_count": null,
   "metadata": {
    "id": "EYgf7bh4ZYI5"
   },
   "outputs": [],
   "source": [
    "df4.withColumn?"
   ]
  },
  {
   "cell_type": "code",
   "execution_count": null,
   "metadata": {
    "colab": {
     "base_uri": "https://localhost:8080/"
    },
    "executionInfo": {
     "elapsed": 2025,
     "status": "ok",
     "timestamp": 1606844201956,
     "user": {
      "displayName": "Ibrahim Abu Alhaol",
      "photoUrl": "https://lh3.googleusercontent.com/a-/AOh14GjRvrebxMDZgnHVVgf2jggVAk9E6ufnpjzPPcXJ=s64",
      "userId": "00373072729262931595"
     },
     "user_tz": -120
    },
    "id": "VR7EyTANZgBt",
    "outputId": "51b4eb06-524b-4511-afd4-de3bd7f311c4"
   },
   "outputs": [
    {
     "data": {
      "text/plain": [
       "[Row(age=9, height=80, name='Alice', age2=11),\n",
       " Row(age=5, height=80, name='Frank', age2=7),\n",
       " Row(age=10, height=None, name='Ahmad', age2=12)]"
      ]
     },
     "execution_count": 139,
     "metadata": {
      "tags": []
     },
     "output_type": "execute_result"
    }
   ],
   "source": [
    "df4 = df4.withColumn('age2', df4.age + 2)\n",
    "df4.collect()"
   ]
  },
  {
   "cell_type": "code",
   "execution_count": null,
   "metadata": {
    "colab": {
     "base_uri": "https://localhost:8080/"
    },
    "executionInfo": {
     "elapsed": 1912,
     "status": "ok",
     "timestamp": 1606844217303,
     "user": {
      "displayName": "Ibrahim Abu Alhaol",
      "photoUrl": "https://lh3.googleusercontent.com/a-/AOh14GjRvrebxMDZgnHVVgf2jggVAk9E6ufnpjzPPcXJ=s64",
      "userId": "00373072729262931595"
     },
     "user_tz": -120
    },
    "id": "ybk1T4DoaA-w",
    "outputId": "79448516-cf0b-4cdf-bec9-d8e100277d69"
   },
   "outputs": [
    {
     "name": "stdout",
     "output_type": "stream",
     "text": [
      "+---+------+-----+----+\n",
      "|age|height| name|age2|\n",
      "+---+------+-----+----+\n",
      "|  9|    80|Alice|  11|\n",
      "|  5|    80|Frank|   7|\n",
      "| 10|  null|Ahmad|  12|\n",
      "+---+------+-----+----+\n",
      "\n"
     ]
    }
   ],
   "source": [
    "df4.show(3)"
   ]
  },
  {
   "cell_type": "code",
   "execution_count": null,
   "metadata": {
    "colab": {
     "base_uri": "https://localhost:8080/"
    },
    "executionInfo": {
     "elapsed": 1254,
     "status": "ok",
     "timestamp": 1606828675544,
     "user": {
      "displayName": "Ibrahim Abu Alhaol",
      "photoUrl": "https://lh3.googleusercontent.com/a-/AOh14GjRvrebxMDZgnHVVgf2jggVAk9E6ufnpjzPPcXJ=s64",
      "userId": "00373072729262931595"
     },
     "user_tz": -120
    },
    "id": "pIJtaXUzaoBL",
    "outputId": "d5022352-b354-49b6-b462-7b88f6dc380c"
   },
   "outputs": [
    {
     "name": "stdout",
     "output_type": "stream",
     "text": [
      "+---+------+-----+----+----+------------------+\n",
      "|age|height| name|age2|age3|              age4|\n",
      "+---+------+-----+----+----+------------------+\n",
      "|  9|    80|Alice|  11|  20|              45.0|\n",
      "|  5|    80|Frank|   7|  12|41.666666666666664|\n",
      "| 10|  null|Ahmad|  12|  22| 45.45454545454545|\n",
      "+---+------+-----+----+----+------------------+\n",
      "\n"
     ]
    }
   ],
   "source": [
    "from pyspark.sql import functions as F\n",
    "\n",
    "# Create a column by adding 2 columns together\n",
    "df4 = df4.withColumn(\"age3\",F.col('age')+ F.col('age2'))\n",
    "\n",
    "# Create a column 'ratio' by dividing one by another one\n",
    "df4 = df4.withColumn(\"age4\",F.col('age')*100/ F.col('age3'))\n",
    "\n",
    "df4.show()\n"
   ]
  },
  {
   "cell_type": "code",
   "execution_count": null,
   "metadata": {
    "id": "vZgfxy_2axr5"
   },
   "outputs": [],
   "source": []
  },
  {
   "cell_type": "markdown",
   "metadata": {
    "id": "_FCVAqrudjVg"
   },
   "source": [
    "####*withColumnRenamed*: Returns a new :class:DataFrame by renaming an existing column. This is a no-op if schema doesn't contain the given column name.\n",
    "---\n",
    "\n"
   ]
  },
  {
   "cell_type": "code",
   "execution_count": null,
   "metadata": {
    "id": "VvC8OEhrdjVg"
   },
   "outputs": [],
   "source": [
    "df4.withColumnRenamed?"
   ]
  },
  {
   "cell_type": "code",
   "execution_count": null,
   "metadata": {
    "colab": {
     "base_uri": "https://localhost:8080/"
    },
    "executionInfo": {
     "elapsed": 1046,
     "status": "ok",
     "timestamp": 1606828940304,
     "user": {
      "displayName": "Ibrahim Abu Alhaol",
      "photoUrl": "https://lh3.googleusercontent.com/a-/AOh14GjRvrebxMDZgnHVVgf2jggVAk9E6ufnpjzPPcXJ=s64",
      "userId": "00373072729262931595"
     },
     "user_tz": -120
    },
    "id": "4d1oLNn6blh5",
    "outputId": "e2b010e4-f9de-45a4-de62-c854fc6ab27e"
   },
   "outputs": [
    {
     "name": "stdout",
     "output_type": "stream",
     "text": [
      "+-----------+------+-----+----+----+------------------+\n",
      "|Orignal_age|height| name|age2|age3|              age4|\n",
      "+-----------+------+-----+----+----+------------------+\n",
      "|          9|    80|Alice|  11|  20|              45.0|\n",
      "|          5|    80|Frank|   7|  12|41.666666666666664|\n",
      "|         10|  null|Ahmad|  12|  22| 45.45454545454545|\n",
      "+-----------+------+-----+----+----+------------------+\n",
      "\n"
     ]
    }
   ],
   "source": [
    "df4.withColumnRenamed('age','Orignal_age').show()"
   ]
  },
  {
   "cell_type": "code",
   "execution_count": null,
   "metadata": {
    "id": "c5IbZxxliskO"
   },
   "outputs": [],
   "source": []
  },
  {
   "cell_type": "markdown",
   "metadata": {
    "id": "jaLFahPzitAC"
   },
   "source": [
    "####*groupBy*: Groups the :class:DataFrame using the specified columns, so we can run aggregation on them.\n",
    "---\n",
    "\n"
   ]
  },
  {
   "cell_type": "code",
   "execution_count": null,
   "metadata": {
    "id": "zxWaLPLvitAC"
   },
   "outputs": [],
   "source": [
    "df4.groupBy?"
   ]
  },
  {
   "cell_type": "code",
   "execution_count": null,
   "metadata": {
    "colab": {
     "base_uri": "https://localhost:8080/"
    },
    "executionInfo": {
     "elapsed": 842,
     "status": "ok",
     "timestamp": 1606830004828,
     "user": {
      "displayName": "Ibrahim Abu Alhaol",
      "photoUrl": "https://lh3.googleusercontent.com/a-/AOh14GjRvrebxMDZgnHVVgf2jggVAk9E6ufnpjzPPcXJ=s64",
      "userId": "00373072729262931595"
     },
     "user_tz": -120
    },
    "id": "_MSONFTkd9X0",
    "outputId": "65f4cffb-293e-48e2-950e-cd8b2a589379"
   },
   "outputs": [
    {
     "name": "stdout",
     "output_type": "stream",
     "text": [
      "+-------+-------+--------------------+-----+\n",
      "|Column1|Column2|             Column3| Name|\n",
      "+-------+-------+--------------------+-----+\n",
      "|     11|     26|  0.7575907507340062|Ahmad|\n",
      "|     70|     31| 0.17963818734322423|Ahmad|\n",
      "|     31|     33| 0.30812033890731083|Ahmad|\n",
      "|     69|     34| 0.10622605366645588|Ahmad|\n",
      "|     74|     30|   0.613734613707287| Noor|\n",
      "|     70|     32|  0.7539031179555397| Heba|\n",
      "|     14|     26|  0.1516206273853422|Salem|\n",
      "|      3|     24|0.021956155600000193| Heba|\n",
      "|     86|     29|  0.9601741879157639|Ahmad|\n",
      "|     36|     26| 0.44203699216050985| Heba|\n",
      "+-------+-------+--------------------+-----+\n",
      "only showing top 10 rows\n",
      "\n"
     ]
    }
   ],
   "source": [
    "\n",
    "df.show(10)"
   ]
  },
  {
   "cell_type": "code",
   "execution_count": null,
   "metadata": {
    "colab": {
     "base_uri": "https://localhost:8080/"
    },
    "executionInfo": {
     "elapsed": 2073,
     "status": "ok",
     "timestamp": 1606831263399,
     "user": {
      "displayName": "Ibrahim Abu Alhaol",
      "photoUrl": "https://lh3.googleusercontent.com/a-/AOh14GjRvrebxMDZgnHVVgf2jggVAk9E6ufnpjzPPcXJ=s64",
      "userId": "00373072729262931595"
     },
     "user_tz": -120
    },
    "id": "fzaUZFsxmqmI",
    "outputId": "280e23b0-5340-4ca6-d43c-50cc04e986bd"
   },
   "outputs": [
    {
     "name": "stdout",
     "output_type": "stream",
     "text": [
      "+-----+------------------+------------------+------------------+\n",
      "| Name|      avg(Column1)|      avg(Column2)|      avg(Column3)|\n",
      "+-----+------------------+------------------+------------------+\n",
      "|Ahmad| 50.80482897384306|29.028169014084508|0.5011490782801336|\n",
      "|Salem|49.782222222222224|28.626666666666665|0.4734127757570887|\n",
      "| Heba|  48.2620320855615|29.058823529411764|0.5121650828496409|\n",
      "| Noor| 49.20879120879121|29.186813186813186|0.5486775425982993|\n",
      "+-----+------------------+------------------+------------------+\n",
      "\n"
     ]
    }
   ],
   "source": [
    "df.groupBy('Name').avg().show()"
   ]
  },
  {
   "cell_type": "code",
   "execution_count": null,
   "metadata": {
    "colab": {
     "base_uri": "https://localhost:8080/"
    },
    "executionInfo": {
     "elapsed": 2097,
     "status": "ok",
     "timestamp": 1606831295088,
     "user": {
      "displayName": "Ibrahim Abu Alhaol",
      "photoUrl": "https://lh3.googleusercontent.com/a-/AOh14GjRvrebxMDZgnHVVgf2jggVAk9E6ufnpjzPPcXJ=s64",
      "userId": "00373072729262931595"
     },
     "user_tz": -120
    },
    "id": "BPhoJctem5RF",
    "outputId": "22aebfbb-0a4d-4b2a-ed85-4ffa03d9354f"
   },
   "outputs": [
    {
     "name": "stdout",
     "output_type": "stream",
     "text": [
      "+-----+------------+------------+------------------+\n",
      "| Name|max(Column1)|max(Column2)|      max(Column3)|\n",
      "+-----+------------+------------+------------------+\n",
      "|Ahmad|          99|          34|0.9974437683942571|\n",
      "|Salem|          99|          34|0.9995491467625441|\n",
      "| Heba|          99|          34| 0.993471563281962|\n",
      "| Noor|          96|          34|0.9833064781023527|\n",
      "+-----+------------+------------+------------------+\n",
      "\n"
     ]
    }
   ],
   "source": [
    "df.groupBy('Name').max().show()"
   ]
  },
  {
   "cell_type": "code",
   "execution_count": null,
   "metadata": {
    "colab": {
     "base_uri": "https://localhost:8080/"
    },
    "executionInfo": {
     "elapsed": 1465,
     "status": "ok",
     "timestamp": 1606831337322,
     "user": {
      "displayName": "Ibrahim Abu Alhaol",
      "photoUrl": "https://lh3.googleusercontent.com/a-/AOh14GjRvrebxMDZgnHVVgf2jggVAk9E6ufnpjzPPcXJ=s64",
      "userId": "00373072729262931595"
     },
     "user_tz": -120
    },
    "id": "XyPEkjh0m_rU",
    "outputId": "80016aa0-df69-4244-cf45-6752ee9fbfc2"
   },
   "outputs": [
    {
     "name": "stdout",
     "output_type": "stream",
     "text": [
      "+-----+-----+\n",
      "| Name|count|\n",
      "+-----+-----+\n",
      "|Ahmad|  497|\n",
      "|Salem|  225|\n",
      "| Heba|  187|\n",
      "| Noor|   91|\n",
      "+-----+-----+\n",
      "\n"
     ]
    }
   ],
   "source": [
    "df.groupBy('Name').count().show()"
   ]
  },
  {
   "cell_type": "code",
   "execution_count": null,
   "metadata": {
    "colab": {
     "base_uri": "https://localhost:8080/"
    },
    "executionInfo": {
     "elapsed": 1665,
     "status": "ok",
     "timestamp": 1606831355123,
     "user": {
      "displayName": "Ibrahim Abu Alhaol",
      "photoUrl": "https://lh3.googleusercontent.com/a-/AOh14GjRvrebxMDZgnHVVgf2jggVAk9E6ufnpjzPPcXJ=s64",
      "userId": "00373072729262931595"
     },
     "user_tz": -120
    },
    "id": "8AOHNOPKnIBX",
    "outputId": "eda1864c-da7c-442a-89d1-e87371c4396a"
   },
   "outputs": [
    {
     "data": {
      "text/plain": [
       "[Row(Name='Ahmad', count=497),\n",
       " Row(Name='Salem', count=225),\n",
       " Row(Name='Heba', count=187),\n",
       " Row(Name='Noor', count=91)]"
      ]
     },
     "execution_count": 113,
     "metadata": {
      "tags": []
     },
     "output_type": "execute_result"
    }
   ],
   "source": [
    "df.groupBy('Name').count().collect()"
   ]
  },
  {
   "cell_type": "code",
   "execution_count": null,
   "metadata": {
    "colab": {
     "base_uri": "https://localhost:8080/",
     "height": 172
    },
    "executionInfo": {
     "elapsed": 1657,
     "status": "ok",
     "timestamp": 1606831426485,
     "user": {
      "displayName": "Ibrahim Abu Alhaol",
      "photoUrl": "https://lh3.googleusercontent.com/a-/AOh14GjRvrebxMDZgnHVVgf2jggVAk9E6ufnpjzPPcXJ=s64",
      "userId": "00373072729262931595"
     },
     "user_tz": -120
    },
    "id": "ZnFyNYk_nLfM",
    "outputId": "ceace6a2-bcfd-4f06-fc4d-dcc725e10291"
   },
   "outputs": [
    {
     "data": {
      "text/html": [
       "<div>\n",
       "<style scoped>\n",
       "    .dataframe tbody tr th:only-of-type {\n",
       "        vertical-align: middle;\n",
       "    }\n",
       "\n",
       "    .dataframe tbody tr th {\n",
       "        vertical-align: top;\n",
       "    }\n",
       "\n",
       "    .dataframe thead th {\n",
       "        text-align: right;\n",
       "    }\n",
       "</style>\n",
       "<table border=\"1\" class=\"dataframe\">\n",
       "  <thead>\n",
       "    <tr style=\"text-align: right;\">\n",
       "      <th></th>\n",
       "      <th>Name</th>\n",
       "      <th>count</th>\n",
       "    </tr>\n",
       "  </thead>\n",
       "  <tbody>\n",
       "    <tr>\n",
       "      <th>0</th>\n",
       "      <td>Ahmad</td>\n",
       "      <td>497</td>\n",
       "    </tr>\n",
       "    <tr>\n",
       "      <th>1</th>\n",
       "      <td>Salem</td>\n",
       "      <td>225</td>\n",
       "    </tr>\n",
       "    <tr>\n",
       "      <th>2</th>\n",
       "      <td>Heba</td>\n",
       "      <td>187</td>\n",
       "    </tr>\n",
       "    <tr>\n",
       "      <th>3</th>\n",
       "      <td>Noor</td>\n",
       "      <td>91</td>\n",
       "    </tr>\n",
       "  </tbody>\n",
       "</table>\n",
       "</div>"
      ],
      "text/plain": [
       "    Name  count\n",
       "0  Ahmad    497\n",
       "1  Salem    225\n",
       "2   Heba    187\n",
       "3   Noor     91"
      ]
     },
     "execution_count": 120,
     "metadata": {
      "tags": []
     },
     "output_type": "execute_result"
    }
   ],
   "source": [
    "df.groupBy('Name').count().toPandas()"
   ]
  },
  {
   "cell_type": "code",
   "execution_count": null,
   "metadata": {
    "colab": {
     "base_uri": "https://localhost:8080/"
    },
    "executionInfo": {
     "elapsed": 2139,
     "status": "ok",
     "timestamp": 1606831675024,
     "user": {
      "displayName": "Ibrahim Abu Alhaol",
      "photoUrl": "https://lh3.googleusercontent.com/a-/AOh14GjRvrebxMDZgnHVVgf2jggVAk9E6ufnpjzPPcXJ=s64",
      "userId": "00373072729262931595"
     },
     "user_tz": -120
    },
    "id": "ezEhl1NfiBZ3",
    "outputId": "45b1d444-95b8-420c-f4c9-1048b08a45bc"
   },
   "outputs": [
    {
     "data": {
      "text/plain": [
       "[Row(Name='Ahmad', avg(Column1)=50.80482897384306),\n",
       " Row(Name='Heba', avg(Column1)=48.2620320855615),\n",
       " Row(Name='Noor', avg(Column1)=49.20879120879121),\n",
       " Row(Name='Salem', avg(Column1)=49.782222222222224)]"
      ]
     },
     "execution_count": 123,
     "metadata": {
      "tags": []
     },
     "output_type": "execute_result"
    }
   ],
   "source": [
    "sorted(df.groupBy('Name').agg({'Column1': 'mean'}).collect())\n",
    "\n",
    "\n"
   ]
  },
  {
   "cell_type": "code",
   "execution_count": null,
   "metadata": {
    "colab": {
     "base_uri": "https://localhost:8080/",
     "height": 172
    },
    "executionInfo": {
     "elapsed": 1395,
     "status": "ok",
     "timestamp": 1606831701448,
     "user": {
      "displayName": "Ibrahim Abu Alhaol",
      "photoUrl": "https://lh3.googleusercontent.com/a-/AOh14GjRvrebxMDZgnHVVgf2jggVAk9E6ufnpjzPPcXJ=s64",
      "userId": "00373072729262931595"
     },
     "user_tz": -120
    },
    "id": "xqXQ9nNcoQc_",
    "outputId": "ea407582-ccad-43fc-b826-6a0de7b606ca"
   },
   "outputs": [
    {
     "data": {
      "text/html": [
       "<div>\n",
       "<style scoped>\n",
       "    .dataframe tbody tr th:only-of-type {\n",
       "        vertical-align: middle;\n",
       "    }\n",
       "\n",
       "    .dataframe tbody tr th {\n",
       "        vertical-align: top;\n",
       "    }\n",
       "\n",
       "    .dataframe thead th {\n",
       "        text-align: right;\n",
       "    }\n",
       "</style>\n",
       "<table border=\"1\" class=\"dataframe\">\n",
       "  <thead>\n",
       "    <tr style=\"text-align: right;\">\n",
       "      <th></th>\n",
       "      <th>Name</th>\n",
       "      <th>avg(Column1)</th>\n",
       "    </tr>\n",
       "  </thead>\n",
       "  <tbody>\n",
       "    <tr>\n",
       "      <th>0</th>\n",
       "      <td>Ahmad</td>\n",
       "      <td>50.804829</td>\n",
       "    </tr>\n",
       "    <tr>\n",
       "      <th>1</th>\n",
       "      <td>Salem</td>\n",
       "      <td>49.782222</td>\n",
       "    </tr>\n",
       "    <tr>\n",
       "      <th>2</th>\n",
       "      <td>Heba</td>\n",
       "      <td>48.262032</td>\n",
       "    </tr>\n",
       "    <tr>\n",
       "      <th>3</th>\n",
       "      <td>Noor</td>\n",
       "      <td>49.208791</td>\n",
       "    </tr>\n",
       "  </tbody>\n",
       "</table>\n",
       "</div>"
      ],
      "text/plain": [
       "    Name  avg(Column1)\n",
       "0  Ahmad     50.804829\n",
       "1  Salem     49.782222\n",
       "2   Heba     48.262032\n",
       "3   Noor     49.208791"
      ]
     },
     "execution_count": 125,
     "metadata": {
      "tags": []
     },
     "output_type": "execute_result"
    }
   ],
   "source": [
    "df.groupBy('Name').agg({'Column1': 'mean'}).toPandas()"
   ]
  },
  {
   "cell_type": "code",
   "execution_count": null,
   "metadata": {
    "colab": {
     "base_uri": "https://localhost:8080/",
     "height": 172
    },
    "executionInfo": {
     "elapsed": 1260,
     "status": "ok",
     "timestamp": 1606831720229,
     "user": {
      "displayName": "Ibrahim Abu Alhaol",
      "photoUrl": "https://lh3.googleusercontent.com/a-/AOh14GjRvrebxMDZgnHVVgf2jggVAk9E6ufnpjzPPcXJ=s64",
      "userId": "00373072729262931595"
     },
     "user_tz": -120
    },
    "id": "LpZ7dOYmocF5",
    "outputId": "0b109e44-5569-4662-a672-84852be8b157"
   },
   "outputs": [
    {
     "data": {
      "text/html": [
       "<div>\n",
       "<style scoped>\n",
       "    .dataframe tbody tr th:only-of-type {\n",
       "        vertical-align: middle;\n",
       "    }\n",
       "\n",
       "    .dataframe tbody tr th {\n",
       "        vertical-align: top;\n",
       "    }\n",
       "\n",
       "    .dataframe thead th {\n",
       "        text-align: right;\n",
       "    }\n",
       "</style>\n",
       "<table border=\"1\" class=\"dataframe\">\n",
       "  <thead>\n",
       "    <tr style=\"text-align: right;\">\n",
       "      <th></th>\n",
       "      <th>Name</th>\n",
       "      <th>count(Column1)</th>\n",
       "    </tr>\n",
       "  </thead>\n",
       "  <tbody>\n",
       "    <tr>\n",
       "      <th>0</th>\n",
       "      <td>Ahmad</td>\n",
       "      <td>497</td>\n",
       "    </tr>\n",
       "    <tr>\n",
       "      <th>1</th>\n",
       "      <td>Salem</td>\n",
       "      <td>225</td>\n",
       "    </tr>\n",
       "    <tr>\n",
       "      <th>2</th>\n",
       "      <td>Heba</td>\n",
       "      <td>187</td>\n",
       "    </tr>\n",
       "    <tr>\n",
       "      <th>3</th>\n",
       "      <td>Noor</td>\n",
       "      <td>91</td>\n",
       "    </tr>\n",
       "  </tbody>\n",
       "</table>\n",
       "</div>"
      ],
      "text/plain": [
       "    Name  count(Column1)\n",
       "0  Ahmad             497\n",
       "1  Salem             225\n",
       "2   Heba             187\n",
       "3   Noor              91"
      ]
     },
     "execution_count": 126,
     "metadata": {
      "tags": []
     },
     "output_type": "execute_result"
    }
   ],
   "source": [
    "df.groupBy('Name').agg({'Column1': 'count'}).toPandas()"
   ]
  },
  {
   "cell_type": "code",
   "execution_count": null,
   "metadata": {
    "colab": {
     "base_uri": "https://localhost:8080/",
     "height": 172
    },
    "executionInfo": {
     "elapsed": 1049,
     "status": "ok",
     "timestamp": 1606831909764,
     "user": {
      "displayName": "Ibrahim Abu Alhaol",
      "photoUrl": "https://lh3.googleusercontent.com/a-/AOh14GjRvrebxMDZgnHVVgf2jggVAk9E6ufnpjzPPcXJ=s64",
      "userId": "00373072729262931595"
     },
     "user_tz": -120
    },
    "id": "hf216JQHpNrf",
    "outputId": "e03d1bb9-67da-46ed-afba-3824982980ff"
   },
   "outputs": [
    {
     "data": {
      "text/html": [
       "<div>\n",
       "<style scoped>\n",
       "    .dataframe tbody tr th:only-of-type {\n",
       "        vertical-align: middle;\n",
       "    }\n",
       "\n",
       "    .dataframe tbody tr th {\n",
       "        vertical-align: top;\n",
       "    }\n",
       "\n",
       "    .dataframe thead th {\n",
       "        text-align: right;\n",
       "    }\n",
       "</style>\n",
       "<table border=\"1\" class=\"dataframe\">\n",
       "  <thead>\n",
       "    <tr style=\"text-align: right;\">\n",
       "      <th></th>\n",
       "      <th>Name</th>\n",
       "      <th>count(Column1)</th>\n",
       "    </tr>\n",
       "  </thead>\n",
       "  <tbody>\n",
       "    <tr>\n",
       "      <th>0</th>\n",
       "      <td>Ahmad</td>\n",
       "      <td>44</td>\n",
       "    </tr>\n",
       "    <tr>\n",
       "      <th>1</th>\n",
       "      <td>Noor</td>\n",
       "      <td>12</td>\n",
       "    </tr>\n",
       "    <tr>\n",
       "      <th>2</th>\n",
       "      <td>Heba</td>\n",
       "      <td>14</td>\n",
       "    </tr>\n",
       "    <tr>\n",
       "      <th>3</th>\n",
       "      <td>Salem</td>\n",
       "      <td>30</td>\n",
       "    </tr>\n",
       "  </tbody>\n",
       "</table>\n",
       "</div>"
      ],
      "text/plain": [
       "    Name  count(Column1)\n",
       "0  Ahmad              44\n",
       "1   Noor              12\n",
       "2   Heba              14\n",
       "3  Salem              30"
      ]
     },
     "execution_count": 132,
     "metadata": {
      "tags": []
     },
     "output_type": "execute_result"
    }
   ],
   "source": [
    "df.limit(100).groupBy('Name').agg({'Column1': 'count'}).toPandas()"
   ]
  },
  {
   "cell_type": "markdown",
   "metadata": {
    "id": "BTHyqx4fpF0I"
   },
   "source": [
    "####*limit*: Limits the result count to the number specified.\n",
    "---\n",
    "\n"
   ]
  },
  {
   "cell_type": "code",
   "execution_count": null,
   "metadata": {
    "id": "An4yZQAdpF0I"
   },
   "outputs": [],
   "source": [
    "df.limit?"
   ]
  },
  {
   "cell_type": "code",
   "execution_count": null,
   "metadata": {
    "colab": {
     "base_uri": "https://localhost:8080/"
    },
    "executionInfo": {
     "elapsed": 857,
     "status": "ok",
     "timestamp": 1606831975068,
     "user": {
      "displayName": "Ibrahim Abu Alhaol",
      "photoUrl": "https://lh3.googleusercontent.com/a-/AOh14GjRvrebxMDZgnHVVgf2jggVAk9E6ufnpjzPPcXJ=s64",
      "userId": "00373072729262931595"
     },
     "user_tz": -120
    },
    "id": "9h42o33Xon7J",
    "outputId": "50178200-c7da-4764-c5e9-60f4a8054aa3"
   },
   "outputs": [
    {
     "data": {
      "text/plain": [
       "100"
      ]
     },
     "execution_count": 133,
     "metadata": {
      "tags": []
     },
     "output_type": "execute_result"
    }
   ],
   "source": [
    "df.limit(100).count()"
   ]
  },
  {
   "cell_type": "code",
   "execution_count": null,
   "metadata": {
    "colab": {
     "base_uri": "https://localhost:8080/",
     "height": 357
    },
    "executionInfo": {
     "elapsed": 965,
     "status": "ok",
     "timestamp": 1606832176212,
     "user": {
      "displayName": "Ibrahim Abu Alhaol",
      "photoUrl": "https://lh3.googleusercontent.com/a-/AOh14GjRvrebxMDZgnHVVgf2jggVAk9E6ufnpjzPPcXJ=s64",
      "userId": "00373072729262931595"
     },
     "user_tz": -120
    },
    "id": "CAO3gM8JpiY4",
    "outputId": "74ceb1bb-bedd-4428-dae3-e8e76d75a686"
   },
   "outputs": [
    {
     "data": {
      "text/html": [
       "<div>\n",
       "<style scoped>\n",
       "    .dataframe tbody tr th:only-of-type {\n",
       "        vertical-align: middle;\n",
       "    }\n",
       "\n",
       "    .dataframe tbody tr th {\n",
       "        vertical-align: top;\n",
       "    }\n",
       "\n",
       "    .dataframe thead th {\n",
       "        text-align: right;\n",
       "    }\n",
       "</style>\n",
       "<table border=\"1\" class=\"dataframe\">\n",
       "  <thead>\n",
       "    <tr style=\"text-align: right;\">\n",
       "      <th></th>\n",
       "      <th>Name</th>\n",
       "      <th>Column1</th>\n",
       "    </tr>\n",
       "  </thead>\n",
       "  <tbody>\n",
       "    <tr>\n",
       "      <th>0</th>\n",
       "      <td>Ahmad</td>\n",
       "      <td>11</td>\n",
       "    </tr>\n",
       "    <tr>\n",
       "      <th>1</th>\n",
       "      <td>Ahmad</td>\n",
       "      <td>70</td>\n",
       "    </tr>\n",
       "    <tr>\n",
       "      <th>2</th>\n",
       "      <td>Ahmad</td>\n",
       "      <td>31</td>\n",
       "    </tr>\n",
       "    <tr>\n",
       "      <th>3</th>\n",
       "      <td>Ahmad</td>\n",
       "      <td>69</td>\n",
       "    </tr>\n",
       "    <tr>\n",
       "      <th>4</th>\n",
       "      <td>Noor</td>\n",
       "      <td>74</td>\n",
       "    </tr>\n",
       "    <tr>\n",
       "      <th>5</th>\n",
       "      <td>Heba</td>\n",
       "      <td>70</td>\n",
       "    </tr>\n",
       "    <tr>\n",
       "      <th>6</th>\n",
       "      <td>Salem</td>\n",
       "      <td>14</td>\n",
       "    </tr>\n",
       "    <tr>\n",
       "      <th>7</th>\n",
       "      <td>Heba</td>\n",
       "      <td>3</td>\n",
       "    </tr>\n",
       "    <tr>\n",
       "      <th>8</th>\n",
       "      <td>Ahmad</td>\n",
       "      <td>86</td>\n",
       "    </tr>\n",
       "    <tr>\n",
       "      <th>9</th>\n",
       "      <td>Heba</td>\n",
       "      <td>36</td>\n",
       "    </tr>\n",
       "  </tbody>\n",
       "</table>\n",
       "</div>"
      ],
      "text/plain": [
       "    Name  Column1\n",
       "0  Ahmad       11\n",
       "1  Ahmad       70\n",
       "2  Ahmad       31\n",
       "3  Ahmad       69\n",
       "4   Noor       74\n",
       "5   Heba       70\n",
       "6  Salem       14\n",
       "7   Heba        3\n",
       "8  Ahmad       86\n",
       "9   Heba       36"
      ]
     },
     "execution_count": 140,
     "metadata": {
      "tags": []
     },
     "output_type": "execute_result"
    }
   ],
   "source": [
    "#df.limit(100).select(['Name','Column1']).collect()\n",
    "DF_100=df.limit(100).select(['Name','Column1']).toPandas()\n",
    "DF_100.head(10)"
   ]
  },
  {
   "cell_type": "code",
   "execution_count": null,
   "metadata": {
    "colab": {
     "base_uri": "https://localhost:8080/"
    },
    "executionInfo": {
     "elapsed": 840,
     "status": "ok",
     "timestamp": 1606832201392,
     "user": {
      "displayName": "Ibrahim Abu Alhaol",
      "photoUrl": "https://lh3.googleusercontent.com/a-/AOh14GjRvrebxMDZgnHVVgf2jggVAk9E6ufnpjzPPcXJ=s64",
      "userId": "00373072729262931595"
     },
     "user_tz": -120
    },
    "id": "90F6ecWzp0ON",
    "outputId": "dcdb87d6-7577-45cd-a1a4-aab1c4eeb38e"
   },
   "outputs": [
    {
     "data": {
      "text/plain": [
       "100"
      ]
     },
     "execution_count": 141,
     "metadata": {
      "tags": []
     },
     "output_type": "execute_result"
    }
   ],
   "source": [
    "len(DF_100)"
   ]
  },
  {
   "cell_type": "code",
   "execution_count": null,
   "metadata": {
    "id": "aJx1c4K-qlgt"
   },
   "outputs": [],
   "source": []
  },
  {
   "cell_type": "markdown",
   "metadata": {
    "id": "p68GvHdeqmi2"
   },
   "source": [
    "####*sample*: Returns a sampled subset of this :class:DataFrame.\n",
    "---\n",
    "\n"
   ]
  },
  {
   "cell_type": "code",
   "execution_count": null,
   "metadata": {
    "id": "mq_JkrFQqmi2"
   },
   "outputs": [],
   "source": [
    "df.sample?"
   ]
  },
  {
   "cell_type": "code",
   "execution_count": null,
   "metadata": {
    "colab": {
     "base_uri": "https://localhost:8080/"
    },
    "executionInfo": {
     "elapsed": 1001,
     "status": "ok",
     "timestamp": 1606832382346,
     "user": {
      "displayName": "Ibrahim Abu Alhaol",
      "photoUrl": "https://lh3.googleusercontent.com/a-/AOh14GjRvrebxMDZgnHVVgf2jggVAk9E6ufnpjzPPcXJ=s64",
      "userId": "00373072729262931595"
     },
     "user_tz": -120
    },
    "id": "e6smwV_VqZq-",
    "outputId": "e190f87f-d01d-4e4b-a03a-2ebbbdbee8ae"
   },
   "outputs": [
    {
     "data": {
      "text/plain": [
       "49"
      ]
     },
     "execution_count": 145,
     "metadata": {
      "tags": []
     },
     "output_type": "execute_result"
    }
   ],
   "source": [
    "df = spark.range(100)\n",
    "\n",
    "df.sample(fraction=0.5, seed=3).count()\n"
   ]
  },
  {
   "cell_type": "code",
   "execution_count": null,
   "metadata": {
    "colab": {
     "base_uri": "https://localhost:8080/"
    },
    "executionInfo": {
     "elapsed": 894,
     "status": "ok",
     "timestamp": 1606832405078,
     "user": {
      "displayName": "Ibrahim Abu Alhaol",
      "photoUrl": "https://lh3.googleusercontent.com/a-/AOh14GjRvrebxMDZgnHVVgf2jggVAk9E6ufnpjzPPcXJ=s64",
      "userId": "00373072729262931595"
     },
     "user_tz": -120
    },
    "id": "dQXdZfKQrJix",
    "outputId": "02bdfd6e-a7a5-4141-d92d-4a731ce5cf00"
   },
   "outputs": [
    {
     "name": "stdout",
     "output_type": "stream",
     "text": [
      "+---+\n",
      "| id|\n",
      "+---+\n",
      "|  0|\n",
      "|  2|\n",
      "|  5|\n",
      "|  8|\n",
      "| 10|\n",
      "| 11|\n",
      "| 12|\n",
      "| 14|\n",
      "| 15|\n",
      "| 16|\n",
      "+---+\n",
      "only showing top 10 rows\n",
      "\n"
     ]
    }
   ],
   "source": [
    "df.sample(fraction=0.5, seed=3).show(10)\n"
   ]
  },
  {
   "cell_type": "code",
   "execution_count": null,
   "metadata": {
    "colab": {
     "base_uri": "https://localhost:8080/"
    },
    "executionInfo": {
     "elapsed": 855,
     "status": "ok",
     "timestamp": 1606832433647,
     "user": {
      "displayName": "Ibrahim Abu Alhaol",
      "photoUrl": "https://lh3.googleusercontent.com/a-/AOh14GjRvrebxMDZgnHVVgf2jggVAk9E6ufnpjzPPcXJ=s64",
      "userId": "00373072729262931595"
     },
     "user_tz": -120
    },
    "id": "on3jDM-Zq-SN",
    "outputId": "e1ab2397-b806-4c33-cde3-c231125b2440"
   },
   "outputs": [
    {
     "name": "stdout",
     "output_type": "stream",
     "text": [
      "+---+\n",
      "| id|\n",
      "+---+\n",
      "|  5|\n",
      "|  6|\n",
      "| 10|\n",
      "| 13|\n",
      "| 21|\n",
      "| 27|\n",
      "| 27|\n",
      "| 27|\n",
      "| 28|\n",
      "| 31|\n",
      "+---+\n",
      "only showing top 10 rows\n",
      "\n"
     ]
    }
   ],
   "source": [
    " df.sample(withReplacement=True, fraction=0.5, seed=3).show(10)"
   ]
  },
  {
   "cell_type": "code",
   "execution_count": null,
   "metadata": {
    "colab": {
     "base_uri": "https://localhost:8080/"
    },
    "executionInfo": {
     "elapsed": 8694,
     "status": "ok",
     "timestamp": 1606832592207,
     "user": {
      "displayName": "Ibrahim Abu Alhaol",
      "photoUrl": "https://lh3.googleusercontent.com/a-/AOh14GjRvrebxMDZgnHVVgf2jggVAk9E6ufnpjzPPcXJ=s64",
      "userId": "00373072729262931595"
     },
     "user_tz": -120
    },
    "id": "DpEctHOirPjR",
    "outputId": "78e1cfee-fdca-4c5c-f441-24bccb669884"
   },
   "outputs": [
    {
     "name": "stderr",
     "output_type": "stream",
     "text": [
      "/content/spark-2.4.7-bin-hadoop2.7/python/pyspark/sql/session.py:346: UserWarning: inferring schema from dict is deprecated,please use pyspark.sql.Row instead\n",
      "  warnings.warn(\"inferring schema from dict is deprecated,\"\n"
     ]
    }
   ],
   "source": [
    "\n",
    "NumberOfSamples=int(10000)\n",
    "\n",
    "df = spark.createDataFrame([{\"Column1\": np.random.randint(1,100), \n",
    "                             \"Column2\":np.random.randint(24,35), \n",
    "                             \"Column3\":np.random.random(),\n",
    "                             \"Name\":str(np.random.choice(NameList,p=[.5,.2,.1,.2])),\n",
    "                             }\n",
    "                              for i in range(NumberOfSamples)])"
   ]
  },
  {
   "cell_type": "code",
   "execution_count": null,
   "metadata": {
    "colab": {
     "base_uri": "https://localhost:8080/"
    },
    "executionInfo": {
     "elapsed": 3844,
     "status": "ok",
     "timestamp": 1606832601806,
     "user": {
      "displayName": "Ibrahim Abu Alhaol",
      "photoUrl": "https://lh3.googleusercontent.com/a-/AOh14GjRvrebxMDZgnHVVgf2jggVAk9E6ufnpjzPPcXJ=s64",
      "userId": "00373072729262931595"
     },
     "user_tz": -120
    },
    "id": "-yJO6LLKrb3O",
    "outputId": "94f12d5c-c007-4176-b926-8db172eb4690"
   },
   "outputs": [
    {
     "data": {
      "text/plain": [
       "10000"
      ]
     },
     "execution_count": 6,
     "metadata": {
      "tags": []
     },
     "output_type": "execute_result"
    }
   ],
   "source": [
    "df.count()"
   ]
  },
  {
   "cell_type": "code",
   "execution_count": null,
   "metadata": {
    "colab": {
     "base_uri": "https://localhost:8080/"
    },
    "executionInfo": {
     "elapsed": 1352,
     "status": "ok",
     "timestamp": 1606832649965,
     "user": {
      "displayName": "Ibrahim Abu Alhaol",
      "photoUrl": "https://lh3.googleusercontent.com/a-/AOh14GjRvrebxMDZgnHVVgf2jggVAk9E6ufnpjzPPcXJ=s64",
      "userId": "00373072729262931595"
     },
     "user_tz": -120
    },
    "id": "HsXuDdFArnpN",
    "outputId": "4c90010e-3783-4da7-d835-6609109cd5bd"
   },
   "outputs": [
    {
     "data": {
      "text/plain": [
       "4985"
      ]
     },
     "execution_count": 7,
     "metadata": {
      "tags": []
     },
     "output_type": "execute_result"
    }
   ],
   "source": [
    "df_sample=df.sample(withReplacement=False, fraction=0.5, seed=3)\n",
    "df_sample.count()"
   ]
  },
  {
   "cell_type": "code",
   "execution_count": null,
   "metadata": {
    "id": "3EHM-dKosG-u"
   },
   "outputs": [],
   "source": []
  },
  {
   "cell_type": "markdown",
   "metadata": {
    "id": "erG7X58mseHF"
   },
   "source": [
    "####*select*:Projects a set of expressions and returns a new :class:`DataFrame`\n",
    "---\n",
    "\n"
   ]
  },
  {
   "cell_type": "code",
   "execution_count": null,
   "metadata": {
    "colab": {
     "base_uri": "https://localhost:8080/"
    },
    "executionInfo": {
     "elapsed": 1239,
     "status": "ok",
     "timestamp": 1606832817710,
     "user": {
      "displayName": "Ibrahim Abu Alhaol",
      "photoUrl": "https://lh3.googleusercontent.com/a-/AOh14GjRvrebxMDZgnHVVgf2jggVAk9E6ufnpjzPPcXJ=s64",
      "userId": "00373072729262931595"
     },
     "user_tz": -120
    },
    "id": "NpagoC5EseHF",
    "outputId": "f0f96c0b-daca-4050-ea8d-869238e7a9e3"
   },
   "outputs": [
    {
     "name": "stdout",
     "output_type": "stream",
     "text": [
      "+-------+-------+-------------------+-----+\n",
      "|Column1|Column2|            Column3| Name|\n",
      "+-------+-------+-------------------+-----+\n",
      "|     63|     28|0.02113413723872215|Ahmad|\n",
      "|     54|     29| 0.9293906764118371|Ahmad|\n",
      "|     35|     26| 0.4201613793665916|Ahmad|\n",
      "|     99|     33| 0.9940863084553948|Ahmad|\n",
      "|     28|     33|0.22306393070870834|Ahmad|\n",
      "|      4|     24|0.36660420671556715|Salem|\n",
      "|     14|     26|0.11063284984252442|Ahmad|\n",
      "|      7|     29|  0.959455005531212| Heba|\n",
      "|     42|     26| 0.5130439676560561|Ahmad|\n",
      "|     26|     25| 0.4530009119451257| Noor|\n",
      "+-------+-------+-------------------+-----+\n",
      "only showing top 10 rows\n",
      "\n"
     ]
    }
   ],
   "source": [
    "df.select('*').show(10)"
   ]
  },
  {
   "cell_type": "code",
   "execution_count": null,
   "metadata": {
    "id": "4VzdJiUvsmQg"
   },
   "outputs": [],
   "source": [
    "df.select?"
   ]
  },
  {
   "cell_type": "code",
   "execution_count": null,
   "metadata": {
    "colab": {
     "base_uri": "https://localhost:8080/"
    },
    "executionInfo": {
     "elapsed": 970,
     "status": "ok",
     "timestamp": 1606833409283,
     "user": {
      "displayName": "Ibrahim Abu Alhaol",
      "photoUrl": "https://lh3.googleusercontent.com/a-/AOh14GjRvrebxMDZgnHVVgf2jggVAk9E6ufnpjzPPcXJ=s64",
      "userId": "00373072729262931595"
     },
     "user_tz": -120
    },
    "id": "vVvFV6O6s03J",
    "outputId": "9003f754-34a5-46f4-a54a-52a095e28749"
   },
   "outputs": [
    {
     "name": "stdout",
     "output_type": "stream",
     "text": [
      "+-----+-------+\n",
      "| Name|Column2|\n",
      "+-----+-------+\n",
      "|Ahmad|     33|\n",
      "|Ahmad|     33|\n",
      "| Heba|     32|\n",
      "|Salem|     32|\n",
      "|Ahmad|     34|\n",
      "| Heba|     32|\n",
      "|Salem|     33|\n",
      "|Ahmad|     33|\n",
      "|Ahmad|     32|\n",
      "| Noor|     33|\n",
      "+-----+-------+\n",
      "only showing top 10 rows\n",
      "\n"
     ]
    }
   ],
   "source": [
    "df.select('Name','Column2').filter(df.Column2>30).show(10)"
   ]
  },
  {
   "cell_type": "code",
   "execution_count": null,
   "metadata": {
    "colab": {
     "base_uri": "https://localhost:8080/"
    },
    "executionInfo": {
     "elapsed": 1116,
     "status": "ok",
     "timestamp": 1606833433923,
     "user": {
      "displayName": "Ibrahim Abu Alhaol",
      "photoUrl": "https://lh3.googleusercontent.com/a-/AOh14GjRvrebxMDZgnHVVgf2jggVAk9E6ufnpjzPPcXJ=s64",
      "userId": "00373072729262931595"
     },
     "user_tz": -120
    },
    "id": "VbZfEblhusg2",
    "outputId": "70e12cbf-8b7f-456e-cb66-3e3faf4e2d13"
   },
   "outputs": [
    {
     "name": "stdout",
     "output_type": "stream",
     "text": [
      "+-----+-------+\n",
      "| Name|Column2|\n",
      "+-----+-------+\n",
      "|Ahmad|     33|\n",
      "|Ahmad|     33|\n",
      "|Ahmad|     34|\n",
      "|Ahmad|     33|\n",
      "|Ahmad|     32|\n",
      "|Ahmad|     34|\n",
      "|Ahmad|     32|\n",
      "|Ahmad|     34|\n",
      "|Ahmad|     33|\n",
      "|Ahmad|     34|\n",
      "+-----+-------+\n",
      "only showing top 10 rows\n",
      "\n"
     ]
    }
   ],
   "source": [
    "df.select('Name','Column2').filter(df.Column2>30).filter(df.Name=='Ahmad').show(10)"
   ]
  },
  {
   "cell_type": "code",
   "execution_count": null,
   "metadata": {
    "id": "Hiwz2H3fvGh0"
   },
   "outputs": [],
   "source": [
    "DF_2=df.select('Name','Column2').filter(df.Column2>30).filter(df.Name=='Ahmad').toPandas()"
   ]
  },
  {
   "cell_type": "code",
   "execution_count": null,
   "metadata": {
    "colab": {
     "base_uri": "https://localhost:8080/",
     "height": 295
    },
    "executionInfo": {
     "elapsed": 1312,
     "status": "ok",
     "timestamp": 1606833493057,
     "user": {
      "displayName": "Ibrahim Abu Alhaol",
      "photoUrl": "https://lh3.googleusercontent.com/a-/AOh14GjRvrebxMDZgnHVVgf2jggVAk9E6ufnpjzPPcXJ=s64",
      "userId": "00373072729262931595"
     },
     "user_tz": -120
    },
    "id": "akT4yqY9vOZP",
    "outputId": "ce3dfe3e-0c11-4076-8dc8-d3062d2b47c8"
   },
   "outputs": [
    {
     "data": {
      "text/html": [
       "<div>\n",
       "<style scoped>\n",
       "    .dataframe tbody tr th:only-of-type {\n",
       "        vertical-align: middle;\n",
       "    }\n",
       "\n",
       "    .dataframe tbody tr th {\n",
       "        vertical-align: top;\n",
       "    }\n",
       "\n",
       "    .dataframe thead th {\n",
       "        text-align: right;\n",
       "    }\n",
       "</style>\n",
       "<table border=\"1\" class=\"dataframe\">\n",
       "  <thead>\n",
       "    <tr style=\"text-align: right;\">\n",
       "      <th></th>\n",
       "      <th>Column2</th>\n",
       "    </tr>\n",
       "  </thead>\n",
       "  <tbody>\n",
       "    <tr>\n",
       "      <th>count</th>\n",
       "      <td>1810.000000</td>\n",
       "    </tr>\n",
       "    <tr>\n",
       "      <th>mean</th>\n",
       "      <td>32.570166</td>\n",
       "    </tr>\n",
       "    <tr>\n",
       "      <th>std</th>\n",
       "      <td>1.134315</td>\n",
       "    </tr>\n",
       "    <tr>\n",
       "      <th>min</th>\n",
       "      <td>31.000000</td>\n",
       "    </tr>\n",
       "    <tr>\n",
       "      <th>25%</th>\n",
       "      <td>32.000000</td>\n",
       "    </tr>\n",
       "    <tr>\n",
       "      <th>50%</th>\n",
       "      <td>33.000000</td>\n",
       "    </tr>\n",
       "    <tr>\n",
       "      <th>75%</th>\n",
       "      <td>34.000000</td>\n",
       "    </tr>\n",
       "    <tr>\n",
       "      <th>max</th>\n",
       "      <td>34.000000</td>\n",
       "    </tr>\n",
       "  </tbody>\n",
       "</table>\n",
       "</div>"
      ],
      "text/plain": [
       "           Column2\n",
       "count  1810.000000\n",
       "mean     32.570166\n",
       "std       1.134315\n",
       "min      31.000000\n",
       "25%      32.000000\n",
       "50%      33.000000\n",
       "75%      34.000000\n",
       "max      34.000000"
      ]
     },
     "execution_count": 19,
     "metadata": {
      "tags": []
     },
     "output_type": "execute_result"
    }
   ],
   "source": [
    "DF_2.describe()"
   ]
  },
  {
   "cell_type": "code",
   "execution_count": null,
   "metadata": {
    "colab": {
     "base_uri": "https://localhost:8080/",
     "height": 295
    },
    "executionInfo": {
     "elapsed": 1083,
     "status": "ok",
     "timestamp": 1606833527659,
     "user": {
      "displayName": "Ibrahim Abu Alhaol",
      "photoUrl": "https://lh3.googleusercontent.com/a-/AOh14GjRvrebxMDZgnHVVgf2jggVAk9E6ufnpjzPPcXJ=s64",
      "userId": "00373072729262931595"
     },
     "user_tz": -120
    },
    "id": "LYY3rNiIvQ1l",
    "outputId": "24b423fc-5b08-4335-8290-0c783735f3d3"
   },
   "outputs": [
    {
     "data": {
      "text/html": [
       "<div>\n",
       "<style scoped>\n",
       "    .dataframe tbody tr th:only-of-type {\n",
       "        vertical-align: middle;\n",
       "    }\n",
       "\n",
       "    .dataframe tbody tr th {\n",
       "        vertical-align: top;\n",
       "    }\n",
       "\n",
       "    .dataframe thead th {\n",
       "        text-align: right;\n",
       "    }\n",
       "</style>\n",
       "<table border=\"1\" class=\"dataframe\">\n",
       "  <thead>\n",
       "    <tr style=\"text-align: right;\">\n",
       "      <th></th>\n",
       "      <th>Column2</th>\n",
       "    </tr>\n",
       "  </thead>\n",
       "  <tbody>\n",
       "    <tr>\n",
       "      <th>count</th>\n",
       "      <td>182.000000</td>\n",
       "    </tr>\n",
       "    <tr>\n",
       "      <th>mean</th>\n",
       "      <td>32.439560</td>\n",
       "    </tr>\n",
       "    <tr>\n",
       "      <th>std</th>\n",
       "      <td>1.099561</td>\n",
       "    </tr>\n",
       "    <tr>\n",
       "      <th>min</th>\n",
       "      <td>31.000000</td>\n",
       "    </tr>\n",
       "    <tr>\n",
       "      <th>25%</th>\n",
       "      <td>31.000000</td>\n",
       "    </tr>\n",
       "    <tr>\n",
       "      <th>50%</th>\n",
       "      <td>32.000000</td>\n",
       "    </tr>\n",
       "    <tr>\n",
       "      <th>75%</th>\n",
       "      <td>33.000000</td>\n",
       "    </tr>\n",
       "    <tr>\n",
       "      <th>max</th>\n",
       "      <td>34.000000</td>\n",
       "    </tr>\n",
       "  </tbody>\n",
       "</table>\n",
       "</div>"
      ],
      "text/plain": [
       "          Column2\n",
       "count  182.000000\n",
       "mean    32.439560\n",
       "std      1.099561\n",
       "min     31.000000\n",
       "25%     31.000000\n",
       "50%     32.000000\n",
       "75%     33.000000\n",
       "max     34.000000"
      ]
     },
     "execution_count": 20,
     "metadata": {
      "tags": []
     },
     "output_type": "execute_result"
    }
   ],
   "source": [
    "DF_2=df.sample(0.1).select('Name','Column2').filter(df.Column2>30).filter(df.Name=='Ahmad').toPandas()\n",
    "DF_2.describe()"
   ]
  },
  {
   "cell_type": "code",
   "execution_count": null,
   "metadata": {
    "colab": {
     "base_uri": "https://localhost:8080/"
    },
    "executionInfo": {
     "elapsed": 1328,
     "status": "ok",
     "timestamp": 1606833610634,
     "user": {
      "displayName": "Ibrahim Abu Alhaol",
      "photoUrl": "https://lh3.googleusercontent.com/a-/AOh14GjRvrebxMDZgnHVVgf2jggVAk9E6ufnpjzPPcXJ=s64",
      "userId": "00373072729262931595"
     },
     "user_tz": -120
    },
    "id": "STxCOLWjvdTJ",
    "outputId": "9b037e46-2a9b-4634-ea2e-47433a3768c4"
   },
   "outputs": [
    {
     "name": "stdout",
     "output_type": "stream",
     "text": [
      "+-------+-----+------------------+\n",
      "|summary| Name|           Column2|\n",
      "+-------+-----+------------------+\n",
      "|  count|  192|               192|\n",
      "|   mean| null|         32.578125|\n",
      "| stddev| null|1.1135249558160483|\n",
      "|    min|Ahmad|                31|\n",
      "|    25%| null|                32|\n",
      "|    50%| null|                32|\n",
      "|    75%| null|                34|\n",
      "|    max|Ahmad|                34|\n",
      "+-------+-----+------------------+\n",
      "\n"
     ]
    }
   ],
   "source": [
    "df.sample(.1).select('Name','Column2').filter(df.Column2>30).filter(df.Name=='Ahmad').summary().show()"
   ]
  },
  {
   "cell_type": "code",
   "execution_count": null,
   "metadata": {
    "colab": {
     "base_uri": "https://localhost:8080/"
    },
    "executionInfo": {
     "elapsed": 1558,
     "status": "ok",
     "timestamp": 1606833625855,
     "user": {
      "displayName": "Ibrahim Abu Alhaol",
      "photoUrl": "https://lh3.googleusercontent.com/a-/AOh14GjRvrebxMDZgnHVVgf2jggVAk9E6ufnpjzPPcXJ=s64",
      "userId": "00373072729262931595"
     },
     "user_tz": -120
    },
    "id": "KL8W8R04vpT3",
    "outputId": "5a074c1f-0252-42f9-e98b-77198b8ee677"
   },
   "outputs": [
    {
     "name": "stdout",
     "output_type": "stream",
     "text": [
      "+-------+-----+------------------+\n",
      "|summary| Name|           Column2|\n",
      "+-------+-----+------------------+\n",
      "|  count|  182|               182|\n",
      "|   mean| null|  32.5989010989011|\n",
      "| stddev| null|1.1067841530466769|\n",
      "|    min|Ahmad|                31|\n",
      "|    25%| null|                32|\n",
      "|    50%| null|                33|\n",
      "|    75%| null|                34|\n",
      "|    max|Ahmad|                34|\n",
      "+-------+-----+------------------+\n",
      "\n"
     ]
    }
   ],
   "source": [
    "df.sample(.1).select('Name','Column2').filter(df.Column2>30).filter(df.Name=='Ahmad').summary().show()"
   ]
  },
  {
   "cell_type": "code",
   "execution_count": null,
   "metadata": {
    "id": "NcN_eN06wQFX"
   },
   "outputs": [],
   "source": [
    "###Next"
   ]
  },
  {
   "cell_type": "code",
   "execution_count": null,
   "metadata": {
    "id": "Z8d0mGFtwVZr"
   },
   "outputs": [],
   "source": []
  }
 ],
 "metadata": {
  "colab": {
   "collapsed_sections": [],
   "name": "Spark_Operations.ipynb",
   "provenance": []
  },
  "kernelspec": {
   "display_name": "Python 3",
   "language": "python",
   "name": "python3"
  },
  "language_info": {
   "codemirror_mode": {
    "name": "ipython",
    "version": 3
   },
   "file_extension": ".py",
   "mimetype": "text/x-python",
   "name": "python",
   "nbconvert_exporter": "python",
   "pygments_lexer": "ipython3",
   "version": "3.8.5"
  }
 },
 "nbformat": 4,
 "nbformat_minor": 4
}
