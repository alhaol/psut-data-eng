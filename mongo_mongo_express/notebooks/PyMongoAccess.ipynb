{
 "cells": [
  {
   "cell_type": "markdown",
   "id": "polar-lesbian",
   "metadata": {},
   "source": [
    "## Install Packages"
   ]
  },
  {
   "cell_type": "code",
   "execution_count": 1,
   "id": "australian-champion",
   "metadata": {},
   "outputs": [
    {
     "name": "stdout",
     "output_type": "stream",
     "text": [
      "Collecting pymongo\n",
      "  Downloading pymongo-3.11.3-cp38-cp38-manylinux2014_x86_64.whl (531 kB)\n",
      "\u001b[K     |████████████████████████████████| 531 kB 5.1 MB/s eta 0:00:01\n",
      "\u001b[?25hInstalling collected packages: pymongo\n",
      "Successfully installed pymongo-3.11.3\n"
     ]
    }
   ],
   "source": [
    "try:\n",
    "    import pymongo\n",
    "except:\n",
    "    !pip install pymongo\n"
   ]
  },
  {
   "cell_type": "markdown",
   "id": "dedicated-organic",
   "metadata": {},
   "source": [
    "## Conncet to MongoDB"
   ]
  },
  {
   "cell_type": "code",
   "execution_count": 2,
   "id": "religious-priority",
   "metadata": {},
   "outputs": [],
   "source": [
    "from pymongo import MongoClient\n",
    "client = MongoClient('mongo:27017', \n",
    "                        username='root',\n",
    "                         password='example')\n",
    "\n",
    "# client = MongoClient('localhost:27017', username='root',password='example') # In case access from another instance  "
   ]
  },
  {
   "cell_type": "code",
   "execution_count": 3,
   "id": "exciting-bargain",
   "metadata": {},
   "outputs": [
    {
     "data": {
      "text/plain": [
       "['HOST',\n",
       " 'PORT',\n",
       " '_BaseObject__codec_options',\n",
       " '_BaseObject__read_concern',\n",
       " '_BaseObject__read_preference',\n",
       " '_BaseObject__write_concern',\n",
       " '_MongoClient__all_credentials',\n",
       " '_MongoClient__cursor_manager',\n",
       " '_MongoClient__default_database_name',\n",
       " '_MongoClient__index_cache',\n",
       " '_MongoClient__index_cache_lock',\n",
       " '_MongoClient__kill_cursors_queue',\n",
       " '_MongoClient__lock',\n",
       " '_MongoClient__options',\n",
       " '_MongoClient__start_session',\n",
       " '__class__',\n",
       " '__delattr__',\n",
       " '__dict__',\n",
       " '__dir__',\n",
       " '__doc__',\n",
       " '__enter__',\n",
       " '__eq__',\n",
       " '__exit__',\n",
       " '__format__',\n",
       " '__ge__',\n",
       " '__getattr__',\n",
       " '__getattribute__',\n",
       " '__getitem__',\n",
       " '__gt__',\n",
       " '__hash__',\n",
       " '__init__',\n",
       " '__init_subclass__',\n",
       " '__iter__',\n",
       " '__le__',\n",
       " '__lt__',\n",
       " '__module__',\n",
       " '__ne__',\n",
       " '__new__',\n",
       " '__next__',\n",
       " '__reduce__',\n",
       " '__reduce_ex__',\n",
       " '__repr__',\n",
       " '__setattr__',\n",
       " '__sizeof__',\n",
       " '__str__',\n",
       " '__subclasshook__',\n",
       " '__weakref__',\n",
       " '_cache_credentials',\n",
       " '_cache_index',\n",
       " '_cached',\n",
       " '_close_cursor',\n",
       " '_close_cursor_now',\n",
       " '_constructor_args',\n",
       " '_database_default_options',\n",
       " '_encrypter',\n",
       " '_end_sessions',\n",
       " '_ensure_session',\n",
       " '_event_listeners',\n",
       " '_get_server_session',\n",
       " '_get_socket',\n",
       " '_get_topology',\n",
       " '_handle_getlasterror',\n",
       " '_is_writable',\n",
       " '_kill_cursors',\n",
       " '_kill_cursors_executor',\n",
       " '_process_kill_cursors',\n",
       " '_process_periodic_tasks',\n",
       " '_process_response',\n",
       " '_purge_credentials',\n",
       " '_purge_index',\n",
       " '_read_preference_for',\n",
       " '_repr_helper',\n",
       " '_retry_internal',\n",
       " '_retry_with_session',\n",
       " '_retryable_read',\n",
       " '_retryable_write',\n",
       " '_return_server_session',\n",
       " '_run_operation_with_response',\n",
       " '_select_server',\n",
       " '_send_cluster_time',\n",
       " '_server_property',\n",
       " '_slaveok_for_server',\n",
       " '_socket_for_reads',\n",
       " '_socket_for_writes',\n",
       " '_tmp_session',\n",
       " '_topology',\n",
       " '_topology_settings',\n",
       " '_write_concern_for',\n",
       " 'address',\n",
       " 'arbiters',\n",
       " 'close',\n",
       " 'close_cursor',\n",
       " 'codec_options',\n",
       " 'database_names',\n",
       " 'drop_database',\n",
       " 'event_listeners',\n",
       " 'fsync',\n",
       " 'get_database',\n",
       " 'get_default_database',\n",
       " 'is_locked',\n",
       " 'is_mongos',\n",
       " 'is_primary',\n",
       " 'kill_cursors',\n",
       " 'list_database_names',\n",
       " 'list_databases',\n",
       " 'local_threshold_ms',\n",
       " 'max_bson_size',\n",
       " 'max_idle_time_ms',\n",
       " 'max_message_size',\n",
       " 'max_pool_size',\n",
       " 'max_write_batch_size',\n",
       " 'min_pool_size',\n",
       " 'next',\n",
       " 'nodes',\n",
       " 'primary',\n",
       " 'read_concern',\n",
       " 'read_preference',\n",
       " 'retry_reads',\n",
       " 'retry_writes',\n",
       " 'secondaries',\n",
       " 'server_info',\n",
       " 'server_selection_timeout',\n",
       " 'set_cursor_manager',\n",
       " 'start_session',\n",
       " 'unlock',\n",
       " 'watch',\n",
       " 'write_concern']"
      ]
     },
     "execution_count": 3,
     "metadata": {},
     "output_type": "execute_result"
    }
   ],
   "source": [
    "dir(client)"
   ]
  },
  {
   "cell_type": "markdown",
   "id": "wicked-illinois",
   "metadata": {},
   "source": [
    "## list of all databases"
   ]
  },
  {
   "cell_type": "code",
   "execution_count": 4,
   "id": "fitted-aquatic",
   "metadata": {},
   "outputs": [
    {
     "name": "stdout",
     "output_type": "stream",
     "text": [
      "{'name': 'admin', 'sizeOnDisk': 163840.0, 'empty': False}\n",
      "{'name': 'config', 'sizeOnDisk': 12288.0, 'empty': False}\n",
      "{'name': 'local', 'sizeOnDisk': 73728.0, 'empty': False}\n",
      "{'name': 'tamer', 'sizeOnDisk': 98304.0, 'empty': False}\n"
     ]
    }
   ],
   "source": [
    "for db in client.list_databases():\n",
    "    print(db)"
   ]
  },
  {
   "cell_type": "code",
   "execution_count": 5,
   "id": "renewable-tunnel",
   "metadata": {},
   "outputs": [
    {
     "name": "stdout",
     "output_type": "stream",
     "text": [
      "admin\n",
      "config\n",
      "local\n",
      "tamer\n"
     ]
    }
   ],
   "source": [
    "for db in client.list_database_names():\n",
    "    print(db)"
   ]
  },
  {
   "cell_type": "code",
   "execution_count": 11,
   "id": "pleasant-elder",
   "metadata": {},
   "outputs": [],
   "source": [
    "## Create DataBase"
   ]
  },
  {
   "cell_type": "code",
   "execution_count": 6,
   "id": "fifth-uruguay",
   "metadata": {},
   "outputs": [],
   "source": [
    "db = client['tamer']\n"
   ]
  },
  {
   "cell_type": "code",
   "execution_count": 13,
   "id": "minute-petite",
   "metadata": {},
   "outputs": [],
   "source": [
    "## Document Example"
   ]
  },
  {
   "cell_type": "code",
   "execution_count": 7,
   "id": "preliminary-biography",
   "metadata": {},
   "outputs": [],
   "source": [
    " article = {\"author\": \"Salem\",\n",
    "            \"about\": \"Introduction to MongoDB and Python\",\n",
    "            \"tags\":\n",
    "                [\"mongodb\", \"python\", \"pymongo00\"]}"
   ]
  },
  {
   "cell_type": "markdown",
   "id": "departmental-capacity",
   "metadata": {},
   "source": [
    "## Create Collection "
   ]
  },
  {
   "cell_type": "code",
   "execution_count": 8,
   "id": "experienced-arcade",
   "metadata": {},
   "outputs": [],
   "source": [
    "articles = db.random\n"
   ]
  },
  {
   "cell_type": "markdown",
   "id": "inclusive-conclusion",
   "metadata": {},
   "source": [
    "# Push documents to collection  "
   ]
  },
  {
   "cell_type": "code",
   "execution_count": 9,
   "id": "fifth-concert",
   "metadata": {},
   "outputs": [],
   "source": [
    "result = articles.insert_one(article)"
   ]
  },
  {
   "cell_type": "markdown",
   "id": "designing-trade",
   "metadata": {},
   "source": [
    "## Return all the documents in a collection in mongodb"
   ]
  },
  {
   "cell_type": "code",
   "execution_count": 10,
   "id": "compliant-franklin",
   "metadata": {},
   "outputs": [
    {
     "name": "stdout",
     "output_type": "stream",
     "text": [
      "{'_id': ObjectId('607dfbeb7119d23d9de1b159'), 'author': 'Salem', 'about': 'Introduction to MongoDB and Python', 'tags': ['mongodb', 'python', 'pymongo00']}\n"
     ]
    }
   ],
   "source": [
    "cursor = articles.find({})\n",
    "for document in cursor:\n",
    "    print(document)"
   ]
  },
  {
   "cell_type": "code",
   "execution_count": 11,
   "id": "controlled-judgment",
   "metadata": {},
   "outputs": [
    {
     "name": "stdout",
     "output_type": "stream",
     "text": [
      "{'_id': ObjectId('607dfbeb7119d23d9de1b159'), 'author': 'Salem', 'about': 'Introduction to MongoDB and Python', 'tags': ['mongodb', 'python', 'pymongo00']}\n"
     ]
    }
   ],
   "source": [
    "cursor = articles.find({'author': 'Salem'})\n",
    "for document in cursor:\n",
    "    print(document)"
   ]
  },
  {
   "cell_type": "markdown",
   "id": "about-action",
   "metadata": {},
   "source": [
    "## More examples "
   ]
  },
  {
   "cell_type": "markdown",
   "id": "better-employer",
   "metadata": {},
   "source": [
    "https://pythonexamples.org/python-mongodb-delete-database/"
   ]
  },
  {
   "cell_type": "code",
   "execution_count": null,
   "id": "diagnostic-haven",
   "metadata": {},
   "outputs": [],
   "source": []
  }
 ],
 "metadata": {
  "kernelspec": {
   "display_name": "Python 3",
   "language": "python",
   "name": "python3"
  },
  "language_info": {
   "codemirror_mode": {
    "name": "ipython",
    "version": 3
   },
   "file_extension": ".py",
   "mimetype": "text/x-python",
   "name": "python",
   "nbconvert_exporter": "python",
   "pygments_lexer": "ipython3",
   "version": "3.8.8"
  }
 },
 "nbformat": 4,
 "nbformat_minor": 5
}
