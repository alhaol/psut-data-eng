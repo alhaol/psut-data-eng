{
 "cells": [
  {
   "cell_type": "markdown",
   "metadata": {},
   "source": [
    "## Elastic search \n",
    "\n",
    "> How to Query Elasticsearch with Python\n",
    "\n",
    "> https://marcobonzanini.com/2015/02/02/how-to-query-elasticsearch-with-python/"
   ]
  },
  {
   "cell_type": "code",
   "execution_count": null,
   "metadata": {},
   "outputs": [],
   "source": [
    "http://localhost:3002"
   ]
  },
  {
   "cell_type": "code",
   "execution_count": 12,
   "metadata": {},
   "outputs": [
    {
     "name": "stdout",
     "output_type": "stream",
     "text": [
      "Collecting elasticsearch\n",
      "  Downloading elasticsearch-7.11.0-py2.py3-none-any.whl (325 kB)\n",
      "Requirement already satisfied: urllib3<2,>=1.21.1 in d:\\anaconda\\lib\\site-packages (from elasticsearch) (1.25.11)\n",
      "Requirement already satisfied: certifi in d:\\anaconda\\lib\\site-packages (from elasticsearch) (2020.6.20)\n",
      "Installing collected packages: elasticsearch\n",
      "Successfully installed elasticsearch-7.11.0\n"
     ]
    }
   ],
   "source": [
    "!pip install elasticsearch\n"
   ]
  },
  {
   "cell_type": "code",
   "execution_count": 19,
   "metadata": {},
   "outputs": [
    {
     "name": "stdout",
     "output_type": "stream",
     "text": [
      "b'{\\n  \"name\" : \"4b7ffcd6dd93\",\\n  \"cluster_name\" : \"docker-cluster\",\\n  \"cluster_uuid\" : \"seX0CblYT0eMIk0beHR_HA\",\\n  \"version\" : {\\n    \"number\" : \"7.8.1\",\\n    \"build_flavor\" : \"default\",\\n    \"build_type\" : \"docker\",\\n    \"build_hash\" : \"b5ca9c58fb664ca8bf9e4057fc229b3396bf3a89\",\\n    \"build_date\" : \"2020-07-21T16:40:44.668009Z\",\\n    \"build_snapshot\" : false,\\n    \"lucene_version\" : \"8.5.1\",\\n    \"minimum_wire_compatibility_version\" : \"6.8.0\",\\n    \"minimum_index_compatibility_version\" : \"6.0.0-beta1\"\\n  },\\n  \"tagline\" : \"You Know, for Search\"\\n}\\n'\n"
     ]
    }
   ],
   "source": [
    "# make sure ES is up and running\n",
    "import requests\n",
    "res = requests.get('http://localhost:9200')\n",
    "print(res.content)"
   ]
  },
  {
   "cell_type": "code",
   "execution_count": 24,
   "metadata": {},
   "outputs": [
    {
     "name": "stdout",
     "output_type": "stream",
     "text": [
      "{\n",
      "  \"name\" : \"4b7ffcd6dd93\",\n",
      "  \"cluster_name\" : \"docker-cluster\",\n",
      "  \"cluster_uuid\" : \"seX0CblYT0eMIk0beHR_HA\",\n",
      "  \"version\" : {\n",
      "    \"number\" : \"7.8.1\",\n",
      "    \"build_flavor\" : \"default\",\n",
      "    \"build_type\" : \"docker\",\n",
      "    \"build_hash\" : \"b5ca9c58fb664ca8bf9e4057fc229b3396bf3a89\",\n",
      "    \"build_date\" : \"2020-07-21T16:40:44.668009Z\",\n",
      "    \"build_snapshot\" : false,\n",
      "    \"lucene_version\" : \"8.5.1\",\n",
      "    \"minimum_wire_compatibility_version\" : \"6.8.0\",\n",
      "    \"minimum_index_compatibility_version\" : \"6.0.0-beta1\"\n",
      "  },\n",
      "  \"tagline\" : \"You Know, for Search\"\n",
      "}\n"
     ]
    },
    {
     "name": "stderr",
     "output_type": "stream",
     "text": [
      "  % Total    % Received % Xferd  Average Speed   Time    Time     Time  Current\n",
      "                                 Dload  Upload   Total   Spent    Left  Speed\n",
      "\n",
      "  0     0    0     0    0     0      0      0 --:--:-- --:--:-- --:--:--     0\n",
      "100   541  100   541    0     0  67625      0 --:--:-- --:--:-- --:--:-- 67625\n"
     ]
    }
   ],
   "source": [
    "!curl http://localhost:9200/"
   ]
  },
  {
   "cell_type": "code",
   "execution_count": 20,
   "metadata": {},
   "outputs": [],
   "source": [
    "#connect to our cluster\n",
    "from elasticsearch import Elasticsearch\n",
    "es = Elasticsearch([{'host': 'localhost', 'port': 9200}])"
   ]
  },
  {
   "cell_type": "code",
   "execution_count": null,
   "metadata": {},
   "outputs": [],
   "source": [
    "Data=[{\n",
    "  \"_id\": {\n",
    "    \"$oid\": \"5968dd23fc13ae04d9000001\"\n",
    "  },\n",
    "  \"product_name\": \"sildenafil citrate\",\n",
    "  \"supplier\": \"Wisozk Inc\",\n",
    "  \"quantity\": 261,\n",
    "  \"unit_cost\": \"$10.47\"\n",
    "}, {\n",
    "  \"_id\": {\n",
    "    \"$oid\": \"5968dd23fc13ae04d9000002\"\n",
    "  },\n",
    "  \"product_name\": \"Mountain Juniperus ashei\",\n",
    "  \"supplier\": \"Keebler-Hilpert\",\n",
    "  \"quantity\": 292,\n",
    "  \"unit_cost\": \"$8.74\"\n",
    "}, {\n",
    "  \"_id\": {\n",
    "    \"$oid\": \"5968dd23fc13ae04d9000003\"\n",
    "  },\n",
    "  \"product_name\": \"Dextromathorphan HBr\",\n",
    "  \"supplier\": \"Schmitt-Weissnat\",\n",
    "  \"quantity\": 211,\n",
    "  \"unit_cost\": \"$20.53\"\n",
    "}]"
   ]
  },
  {
   "cell_type": "code",
   "execution_count": 27,
   "metadata": {},
   "outputs": [
    {
     "data": {
      "text/plain": [
       "{'_index': 'test-index1',\n",
       " '_type': 'test1',\n",
       " '_id': '1',\n",
       " '_version': 1,\n",
       " 'result': 'created',\n",
       " '_shards': {'total': 2, 'successful': 1, 'failed': 0},\n",
       " '_seq_no': 0,\n",
       " '_primary_term': 1}"
      ]
     },
     "execution_count": 27,
     "metadata": {},
     "output_type": "execute_result"
    }
   ],
   "source": [
    "#index some test data\n",
    "es.index(index='sales', doc_type='sales', id=1, body={'test': 'test'})"
   ]
  },
  {
   "cell_type": "code",
   "execution_count": 29,
   "metadata": {},
   "outputs": [
    {
     "data": {
      "text/plain": [
       "{'_index': 'test-index1',\n",
       " '_type': 'test1',\n",
       " '_id': '1',\n",
       " '_version': 2,\n",
       " 'result': 'deleted',\n",
       " '_shards': {'total': 2, 'successful': 1, 'failed': 0},\n",
       " '_seq_no': 1,\n",
       " '_primary_term': 1}"
      ]
     },
     "execution_count": 29,
     "metadata": {},
     "output_type": "execute_result"
    }
   ],
   "source": [
    "\n",
    "#delete test data and try with something more interesting\n",
    "es.delete(index='test-index1', doc_type='test1', id=1)"
   ]
  },
  {
   "cell_type": "code",
   "execution_count": 35,
   "metadata": {},
   "outputs": [
    {
     "data": {
      "text/plain": [
       "{'_index': 'sw',\n",
       " '_type': 'people',\n",
       " '_id': '1',\n",
       " '_version': 5,\n",
       " 'result': 'updated',\n",
       " '_shards': {'total': 2, 'successful': 1, 'failed': 0},\n",
       " '_seq_no': 4,\n",
       " '_primary_term': 1}"
      ]
     },
     "execution_count": 35,
     "metadata": {},
     "output_type": "execute_result"
    }
   ],
   "source": [
    "es.index(index='sw', doc_type='people', id=1, body={\n",
    "\t\"name\": \"Ali Ahmad\",\n",
    "\t\"height\": \"172\",\n",
    "\t\"mass\": \"77\",\n",
    "\t\"hair_color\": \"black\",\n",
    "\t\"birth_year\": \"19111997\",\n",
    "\t\"gender\": \"male\",\n",
    "})"
   ]
  },
  {
   "cell_type": "code",
   "execution_count": 34,
   "metadata": {},
   "outputs": [],
   "source": [
    "Data=[{\n",
    "\t\"name\": \"Ali Ahmad\",\n",
    "\t\"height\": \"172\",\n",
    "\t\"mass\": \"77\",\n",
    "\t\"hair_color\": \"black\",\n",
    "\t\"birth_year\": \"19111997\",\n",
    "\t\"gender\": \"male\",\n",
    "},\n",
    "{\n",
    "\t\"name\": \"Sarah Ahmad\",\n",
    "\t\"height\": \"152\",\n",
    "\t\"mass\": \"65\",\n",
    "\t\"hair_color\": \"brown\",\n",
    "\t\"birth_year\": \"20012003\",\n",
    "\t\"gender\": \"female\",\n",
    "},{\n",
    "\t\"name\": \"Ali Salman\",\n",
    "\t\"height\": \"192\",\n",
    "\t\"mass\": \"95\",\n",
    "\t\"hair_color\": \"black\",\n",
    "\t\"birth_year\": \"19102000\",\n",
    "\t\"gender\": \"male\",\n",
    "}]"
   ]
  },
  {
   "cell_type": "code",
   "execution_count": 37,
   "metadata": {},
   "outputs": [],
   "source": [
    "#let's iterate data items\n",
    "for i, data_i in enumerate(Data,start=1):\n",
    "    es.index(index='sw', doc_type='people', id=i, body=data_i)\n",
    "    \n"
   ]
  },
  {
   "cell_type": "code",
   "execution_count": 49,
   "metadata": {},
   "outputs": [
    {
     "data": {
      "text/plain": [
       "{'_index': 'sw',\n",
       " '_type': 'people',\n",
       " '_id': '3',\n",
       " '_version': 1,\n",
       " '_seq_no': 7,\n",
       " '_primary_term': 1,\n",
       " 'found': True,\n",
       " '_source': {'name': 'Ali Salman',\n",
       "  'height': '192',\n",
       "  'mass': '95',\n",
       "  'hair_color': 'black',\n",
       "  'birth_year': '19102000',\n",
       "  'gender': 'male'}}"
      ]
     },
     "execution_count": 49,
     "metadata": {},
     "output_type": "execute_result"
    }
   ],
   "source": [
    "es.get(index='sw', doc_type='people', id=3)\n"
   ]
  },
  {
   "cell_type": "code",
   "execution_count": 57,
   "metadata": {},
   "outputs": [
    {
     "data": {
      "text/plain": [
       "{'took': 0,\n",
       " 'timed_out': False,\n",
       " '_shards': {'total': 1, 'successful': 1, 'skipped': 0, 'failed': 0},\n",
       " 'hits': {'total': {'value': 2, 'relation': 'eq'},\n",
       "  'max_score': 0.8266786,\n",
       "  'hits': [{'_index': 'sw',\n",
       "    '_type': 'people',\n",
       "    '_id': '1',\n",
       "    '_score': 0.8266786,\n",
       "    '_source': {'name': 'Ali Ahmad',\n",
       "     'height': '172',\n",
       "     'mass': '77',\n",
       "     'hair_color': 'black',\n",
       "     'birth_year': '19111997',\n",
       "     'gender': 'male'}},\n",
       "   {'_index': 'sw',\n",
       "    '_type': 'people',\n",
       "    '_id': '3',\n",
       "    '_score': 0.8266786,\n",
       "    '_source': {'name': 'Ali Salman',\n",
       "     'height': '192',\n",
       "     'mass': '95',\n",
       "     'hair_color': 'black',\n",
       "     'birth_year': '19102000',\n",
       "     'gender': 'male'}}]}}"
      ]
     },
     "execution_count": 57,
     "metadata": {},
     "output_type": "execute_result"
    }
   ],
   "source": [
    "#let's see if we find anyone with a name or surname starting with lu\n",
    "es.search(index=\"sw\", body={ \"query\": { \"match\": { \"name\": \"Ali\" } }})"
   ]
  },
  {
   "cell_type": "code",
   "execution_count": 82,
   "metadata": {},
   "outputs": [
    {
     "name": "stdout",
     "output_type": "stream",
     "text": [
      "{\n",
      "  \"took\" : 0,\n",
      "  \"timed_out\" : false,\n",
      "  \"_shards\" : {\n",
      "    \"total\" : 1,\n",
      "    \"successful\" : 1,\n",
      "    \"skipped\" : 0,\n",
      "    \"failed\" : 0\n",
      "  },\n",
      "  \"hits\" : {\n",
      "    \"total\" : {\n",
      "      \"value\" : 3,\n",
      "      \"relation\" : \"eq\"\n",
      "    },\n",
      "    \"max_score\" : 1.0,\n",
      "    \"hits\" : [\n",
      "      {\n",
      "        \"_index\" : \"sw\",\n",
      "        \"_type\" : \"people\",\n",
      "        \"_id\" : \"1\",\n",
      "        \"_score\" : 1.0,\n",
      "        \"_source\" : {\n",
      "          \"name\" : \"Ali Ahmad\",\n",
      "          \"height\" : \"172\",\n",
      "          \"mass\" : \"77\",\n",
      "          \"hair_color\" : \"black\",\n",
      "          \"birth_year\" : \"19111997\",\n",
      "          \"gender\" : \"male\"\n",
      "        }\n",
      "      },\n",
      "      {\n",
      "        \"_index\" : \"sw\",\n",
      "        \"_type\" : \"people\",\n",
      "        \"_id\" : \"2\",\n",
      "        \"_score\" : 1.0,\n",
      "        \"_source\" : {\n",
      "          \"name\" : \"Sarah Ahmad\",\n",
      "          \"height\" : \"152\",\n",
      "          \"mass\" : \"65\",\n",
      "          \"hair_color\" : \"brown\",\n",
      "          \"birth_year\" : \"20012003\",\n",
      "          \"gender\" : \"female\"\n",
      "        }\n",
      "      },\n",
      "      {\n",
      "        \"_index\" : \"sw\",\n",
      "        \"_type\" : \"people\",\n",
      "        \"_id\" : \"3\",\n",
      "        \"_score\" : 1.0,\n",
      "        \"_source\" : {\n",
      "          \"name\" : \"Ali Salman\",\n",
      "          \"height\" : \"192\",\n",
      "          \"mass\" : \"95\",\n",
      "          \"hair_color\" : \"black\",\n",
      "          \"birth_year\" : \"19102000\",\n",
      "          \"gender\" : \"male\"\n",
      "        }\n",
      "      }\n",
      "    ]\n",
      "  }\n",
      "}\n"
     ]
    },
    {
     "name": "stderr",
     "output_type": "stream",
     "text": [
      "  % Total    % Received % Xferd  Average Speed   Time    Time     Time  Current\n",
      "                                 Dload  Upload   Total   Spent    Left  Speed\n",
      "100  1261  100  1261    0     0   175k      0 --:--:-- --:--:-- --:--:--  175k\n"
     ]
    }
   ],
   "source": [
    "%%bash\n",
    "curl -XPOST http://localhost:9200/sw/people/_search?pretty=true "
   ]
  },
  {
   "cell_type": "markdown",
   "metadata": {},
   "source": [
    "## Display Kebana "
   ]
  },
  {
   "cell_type": "code",
   "execution_count": 7,
   "metadata": {},
   "outputs": [
    {
     "data": {
      "text/html": [
       "\n",
       "        <iframe\n",
       "            width=\"1600\"\n",
       "            height=\"800\"\n",
       "            src=\"http://localhost:5601\"\n",
       "            frameborder=\"0\"\n",
       "            allowfullscreen\n",
       "        ></iframe>\n",
       "        "
      ],
      "text/plain": [
       "<IPython.lib.display.IFrame at 0x1e0d80b7160>"
      ]
     },
     "execution_count": 7,
     "metadata": {},
     "output_type": "execute_result"
    }
   ],
   "source": [
    "from IPython.display import IFrame\n",
    "HTML=\"http://localhost:5601\"\n",
    "IFrame(HTML, width=1600, height=800)"
   ]
  },
  {
   "cell_type": "markdown",
   "metadata": {},
   "source": [
    "## Display a dash board link"
   ]
  },
  {
   "cell_type": "code",
   "execution_count": 6,
   "metadata": {},
   "outputs": [
    {
     "data": {
      "text/html": [
       "\n",
       "        <iframe\n",
       "            width=\"1600\"\n",
       "            height=\"800\"\n",
       "            src=\"http://localhost:5601/goto/d7f9f99dd05b33800c8e625eb5a380d6\"\n",
       "            frameborder=\"0\"\n",
       "            allowfullscreen\n",
       "        ></iframe>\n",
       "        "
      ],
      "text/plain": [
       "<IPython.lib.display.IFrame at 0x1e0d80b7b80>"
      ]
     },
     "execution_count": 6,
     "metadata": {},
     "output_type": "execute_result"
    }
   ],
   "source": [
    "from IPython.display import IFrame\n",
    "HTML=\"http://localhost:5601/goto/d7f9f99dd05b33800c8e625eb5a380d6\"\n",
    "IFrame(HTML, width=1600, height=800)"
   ]
  },
  {
   "cell_type": "code",
   "execution_count": null,
   "metadata": {},
   "outputs": [],
   "source": []
  }
 ],
 "metadata": {
  "kernelspec": {
   "display_name": "Python 3",
   "language": "python",
   "name": "python3"
  },
  "language_info": {
   "codemirror_mode": {
    "name": "ipython",
    "version": 3
   },
   "file_extension": ".py",
   "mimetype": "text/x-python",
   "name": "python",
   "nbconvert_exporter": "python",
   "pygments_lexer": "ipython3",
   "version": "3.8.5"
  }
 },
 "nbformat": 4,
 "nbformat_minor": 4
}
