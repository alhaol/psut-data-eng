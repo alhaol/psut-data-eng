{
 "cells": [
  {
   "cell_type": "markdown",
   "metadata": {},
   "source": [
    "## Elastic search \n",
    "\n",
    "> How to Query Elasticsearch with Python\n",
    "\n",
    "> https://marcobonzanini.com/2015/02/02/how-to-query-elasticsearch-with-python/"
   ]
  },
  {
   "cell_type": "code",
   "execution_count": 1,
   "metadata": {},
   "outputs": [
    {
     "ename": "SyntaxError",
     "evalue": "invalid syntax (4064426444.py, line 1)",
     "output_type": "error",
     "traceback": [
      "\u001b[0;36m  File \u001b[0;32m\"/var/folders/24/dw8lrqts5y7930djlkfrj16w0000gn/T/ipykernel_11606/4064426444.py\"\u001b[0;36m, line \u001b[0;32m1\u001b[0m\n\u001b[0;31m    http://localhost:3002\u001b[0m\n\u001b[0m         ^\u001b[0m\n\u001b[0;31mSyntaxError\u001b[0m\u001b[0;31m:\u001b[0m invalid syntax\n"
     ]
    }
   ],
   "source": [
    "http://localhost:3002"
   ]
  },
  {
   "cell_type": "code",
   "execution_count": 40,
   "metadata": {},
   "outputs": [
    {
     "name": "stdout",
     "output_type": "stream",
     "text": [
      "Requirement already satisfied: elasticsearch==7.11 in /Users/hema/opt/anaconda3/lib/python3.9/site-packages (7.11.0)\n",
      "Requirement already satisfied: certifi in /Users/hema/opt/anaconda3/lib/python3.9/site-packages (from elasticsearch==7.11) (2021.10.8)\n",
      "Requirement already satisfied: urllib3<2,>=1.21.1 in /Users/hema/opt/anaconda3/lib/python3.9/site-packages (from elasticsearch==7.11) (1.25.11)\n",
      "Requirement already satisfied: pandas_profiling in /Users/hema/opt/anaconda3/lib/python3.9/site-packages (3.1.0)\n",
      "Requirement already satisfied: joblib~=1.0.1 in /Users/hema/opt/anaconda3/lib/python3.9/site-packages (from pandas_profiling) (1.0.1)\n",
      "Requirement already satisfied: tangled-up-in-unicode==0.1.0 in /Users/hema/opt/anaconda3/lib/python3.9/site-packages (from pandas_profiling) (0.1.0)\n",
      "Requirement already satisfied: htmlmin>=0.1.12 in /Users/hema/opt/anaconda3/lib/python3.9/site-packages (from pandas_profiling) (0.1.12)\n",
      "Requirement already satisfied: visions[type_image_path]==0.7.4 in /Users/hema/opt/anaconda3/lib/python3.9/site-packages (from pandas_profiling) (0.7.4)\n",
      "Requirement already satisfied: requests>=2.24.0 in /Users/hema/opt/anaconda3/lib/python3.9/site-packages (from pandas_profiling) (2.26.0)\n",
      "Requirement already satisfied: seaborn>=0.10.1 in /Users/hema/opt/anaconda3/lib/python3.9/site-packages (from pandas_profiling) (0.11.2)\n",
      "Requirement already satisfied: scipy>=1.4.1 in /Users/hema/opt/anaconda3/lib/python3.9/site-packages (from pandas_profiling) (1.7.1)\n",
      "Requirement already satisfied: PyYAML>=5.0.0 in /Users/hema/opt/anaconda3/lib/python3.9/site-packages (from pandas_profiling) (6.0)\n",
      "Requirement already satisfied: numpy>=1.16.0 in /Users/hema/opt/anaconda3/lib/python3.9/site-packages (from pandas_profiling) (1.20.3)\n",
      "Requirement already satisfied: pydantic>=1.8.1 in /Users/hema/opt/anaconda3/lib/python3.9/site-packages (from pandas_profiling) (1.9.0)\n",
      "Requirement already satisfied: multimethod>=1.4 in /Users/hema/opt/anaconda3/lib/python3.9/site-packages (from pandas_profiling) (1.8)\n",
      "Requirement already satisfied: phik>=0.11.1 in /Users/hema/opt/anaconda3/lib/python3.9/site-packages (from pandas_profiling) (0.12.2)\n",
      "Requirement already satisfied: missingno>=0.4.2 in /Users/hema/opt/anaconda3/lib/python3.9/site-packages (from pandas_profiling) (0.5.1)\n",
      "Requirement already satisfied: jinja2>=2.11.1 in /Users/hema/opt/anaconda3/lib/python3.9/site-packages (from pandas_profiling) (2.11.3)\n",
      "Requirement already satisfied: markupsafe~=2.0.1 in /Users/hema/opt/anaconda3/lib/python3.9/site-packages (from pandas_profiling) (2.0.1)\n",
      "Requirement already satisfied: tqdm>=4.48.2 in /Users/hema/opt/anaconda3/lib/python3.9/site-packages (from pandas_profiling) (4.62.3)\n",
      "Requirement already satisfied: matplotlib>=3.2.0 in /Users/hema/opt/anaconda3/lib/python3.9/site-packages (from pandas_profiling) (3.4.3)\n",
      "Requirement already satisfied: pandas!=1.0.0,!=1.0.1,!=1.0.2,!=1.1.0,>=0.25.3 in /Users/hema/opt/anaconda3/lib/python3.9/site-packages (from pandas_profiling) (1.3.4)\n",
      "Requirement already satisfied: networkx>=2.4 in /Users/hema/opt/anaconda3/lib/python3.9/site-packages (from visions[type_image_path]==0.7.4->pandas_profiling) (2.6.3)\n",
      "Requirement already satisfied: attrs>=19.3.0 in /Users/hema/opt/anaconda3/lib/python3.9/site-packages (from visions[type_image_path]==0.7.4->pandas_profiling) (21.2.0)\n",
      "Requirement already satisfied: Pillow in /Users/hema/opt/anaconda3/lib/python3.9/site-packages (from visions[type_image_path]==0.7.4->pandas_profiling) (8.4.0)\n",
      "Requirement already satisfied: imagehash in /Users/hema/opt/anaconda3/lib/python3.9/site-packages (from visions[type_image_path]==0.7.4->pandas_profiling) (4.2.1)\n",
      "Requirement already satisfied: cycler>=0.10 in /Users/hema/opt/anaconda3/lib/python3.9/site-packages (from matplotlib>=3.2.0->pandas_profiling) (0.10.0)\n",
      "Requirement already satisfied: python-dateutil>=2.7 in /Users/hema/opt/anaconda3/lib/python3.9/site-packages (from matplotlib>=3.2.0->pandas_profiling) (2.8.2)\n",
      "Requirement already satisfied: pyparsing>=2.2.1 in /Users/hema/opt/anaconda3/lib/python3.9/site-packages (from matplotlib>=3.2.0->pandas_profiling) (3.0.4)\n",
      "Requirement already satisfied: kiwisolver>=1.0.1 in /Users/hema/opt/anaconda3/lib/python3.9/site-packages (from matplotlib>=3.2.0->pandas_profiling) (1.3.1)\n",
      "Requirement already satisfied: six in /Users/hema/opt/anaconda3/lib/python3.9/site-packages (from cycler>=0.10->matplotlib>=3.2.0->pandas_profiling) (1.16.0)\n",
      "Requirement already satisfied: pytz>=2017.3 in /Users/hema/opt/anaconda3/lib/python3.9/site-packages (from pandas!=1.0.0,!=1.0.1,!=1.0.2,!=1.1.0,>=0.25.3->pandas_profiling) (2021.3)\n",
      "Requirement already satisfied: typing-extensions>=3.7.4.3 in /Users/hema/opt/anaconda3/lib/python3.9/site-packages (from pydantic>=1.8.1->pandas_profiling) (3.10.0.2)\n",
      "Requirement already satisfied: certifi>=2017.4.17 in /Users/hema/opt/anaconda3/lib/python3.9/site-packages (from requests>=2.24.0->pandas_profiling) (2021.10.8)\n",
      "Requirement already satisfied: charset-normalizer~=2.0.0 in /Users/hema/opt/anaconda3/lib/python3.9/site-packages (from requests>=2.24.0->pandas_profiling) (2.0.4)\n",
      "Requirement already satisfied: idna<4,>=2.5 in /Users/hema/opt/anaconda3/lib/python3.9/site-packages (from requests>=2.24.0->pandas_profiling) (3.2)\n",
      "Requirement already satisfied: urllib3<1.27,>=1.21.1 in /Users/hema/opt/anaconda3/lib/python3.9/site-packages (from requests>=2.24.0->pandas_profiling) (1.25.11)\n",
      "Requirement already satisfied: PyWavelets in /Users/hema/opt/anaconda3/lib/python3.9/site-packages (from imagehash->visions[type_image_path]==0.7.4->pandas_profiling) (1.1.1)\n",
      "\u001b[31mERROR: Could not find a version that satisfies the requirement certlifi (from versions: none)\u001b[0m\n",
      "\u001b[31mERROR: No matching distribution found for certlifi\u001b[0m\n",
      "Requirement already satisfied: urllib3 in /Users/hema/opt/anaconda3/lib/python3.9/site-packages (1.25.11)\n",
      "Collecting urllib3\n",
      "  Using cached urllib3-1.26.9-py2.py3-none-any.whl (138 kB)\n",
      "Installing collected packages: urllib3\n",
      "  Attempting uninstall: urllib3\n",
      "    Found existing installation: urllib3 1.25.11\n",
      "    Uninstalling urllib3-1.25.11:\n",
      "      Successfully uninstalled urllib3-1.25.11\n",
      "\u001b[31mERROR: pip's dependency resolver does not currently take into account all the packages that are installed. This behaviour is the source of the following dependency conflicts.\n",
      "conda-repo-cli 1.0.4 requires pathlib, which is not installed.\n",
      "anaconda-project 0.10.1 requires ruamel-yaml, which is not installed.\n",
      "cookiecutter 1.7.2 requires MarkupSafe<2.0.0, but you have markupsafe 2.0.1 which is incompatible.\u001b[0m\n",
      "Successfully installed urllib3-1.26.9\n",
      "\u001b[33mWARNING: Skipping elastic-transport as it is not installed.\u001b[0m\n"
     ]
    }
   ],
   "source": [
    "!pip install --upgrade elasticsearch==7.11\n",
    "!pip install --upgrade pandas_profiling\n",
    "!pip uninstall -y elastic-transport                  "
   ]
  },
  {
   "cell_type": "code",
   "execution_count": 2,
   "metadata": {},
   "outputs": [
    {
     "name": "stdout",
     "output_type": "stream",
     "text": [
      "elasticsearch                      7.11.0\n"
     ]
    }
   ],
   "source": [
    "!pip list | grep elastic"
   ]
  },
  {
   "cell_type": "code",
   "execution_count": 3,
   "metadata": {},
   "outputs": [
    {
     "name": "stdout",
     "output_type": "stream",
     "text": [
      "b'{\\n  \"name\" : \"043d4db4f6d5\",\\n  \"cluster_name\" : \"docker-cluster\",\\n  \"cluster_uuid\" : \"YBdqc6W3QEez-vdkWv9IoA\",\\n  \"version\" : {\\n    \"number\" : \"7.8.1\",\\n    \"build_flavor\" : \"default\",\\n    \"build_type\" : \"docker\",\\n    \"build_hash\" : \"b5ca9c58fb664ca8bf9e4057fc229b3396bf3a89\",\\n    \"build_date\" : \"2020-07-21T20:27:29.003173Z\",\\n    \"build_snapshot\" : false,\\n    \"lucene_version\" : \"8.5.1\",\\n    \"minimum_wire_compatibility_version\" : \"6.8.0\",\\n    \"minimum_index_compatibility_version\" : \"6.0.0-beta1\"\\n  },\\n  \"tagline\" : \"You Know, for Search\"\\n}\\n'\n"
     ]
    }
   ],
   "source": [
    "# make sure ES is up and running\n",
    "import requests\n",
    "res = requests.get('http://localhost:9200')\n",
    "print(res.content)"
   ]
  },
  {
   "cell_type": "code",
   "execution_count": 4,
   "metadata": {},
   "outputs": [
    {
     "name": "stdout",
     "output_type": "stream",
     "text": [
      "{\n",
      "  \"name\" : \"043d4db4f6d5\",\n",
      "  \"cluster_name\" : \"docker-cluster\",\n",
      "  \"cluster_uuid\" : \"YBdqc6W3QEez-vdkWv9IoA\",\n",
      "  \"version\" : {\n",
      "    \"number\" : \"7.8.1\",\n",
      "    \"build_flavor\" : \"default\",\n",
      "    \"build_type\" : \"docker\",\n",
      "    \"build_hash\" : \"b5ca9c58fb664ca8bf9e4057fc229b3396bf3a89\",\n",
      "    \"build_date\" : \"2020-07-21T20:27:29.003173Z\",\n",
      "    \"build_snapshot\" : false,\n",
      "    \"lucene_version\" : \"8.5.1\",\n",
      "    \"minimum_wire_compatibility_version\" : \"6.8.0\",\n",
      "    \"minimum_index_compatibility_version\" : \"6.0.0-beta1\"\n",
      "  },\n",
      "  \"tagline\" : \"You Know, for Search\"\n",
      "}\n"
     ]
    }
   ],
   "source": [
    "!curl http://localhost:9200/"
   ]
  },
  {
   "cell_type": "code",
   "execution_count": 44,
   "metadata": {},
   "outputs": [],
   "source": [
    "#connect to our cluster\n",
    "from elasticsearch import Elasticsearch\n",
    "es = Elasticsearch([{'host': 'localhost', 'port': 9200}])\n",
    "#es = Elasticsearch(\"http://localhost:9200\")\n",
    "#es"
   ]
  },
  {
   "cell_type": "code",
   "execution_count": 6,
   "metadata": {},
   "outputs": [],
   "source": [
    "Data=[{\n",
    "  \"_id\": {\n",
    "    \"$oid\": \"5968dd23fc13ae04d9000001\"\n",
    "  },\n",
    "  \"product_name\": \"sildenafil citrate\",\n",
    "  \"supplier\": \"Wisozk Inc\",\n",
    "  \"quantity\": 261,\n",
    "  \"unit_cost\": \"$10.47\"\n",
    "}, {\n",
    "  \"_id\": {\n",
    "    \"$oid\": \"5968dd23fc13ae04d9000002\"\n",
    "  },\n",
    "  \"product_name\": \"Mountain Juniperus ashei\",\n",
    "  \"supplier\": \"Keebler-Hilpert\",\n",
    "  \"quantity\": 292,\n",
    "  \"unit_cost\": \"$8.74\"\n",
    "}, {\n",
    "  \"_id\": {\n",
    "    \"$oid\": \"5968dd23fc13ae04d9000003\"\n",
    "  },\n",
    "  \"product_name\": \"Dextromathorphan HBr\",\n",
    "  \"supplier\": \"Schmitt-Weissnat\",\n",
    "  \"quantity\": 211,\n",
    "  \"unit_cost\": \"$20.53\"\n",
    "}]"
   ]
  },
  {
   "cell_type": "code",
   "execution_count": 43,
   "metadata": {},
   "outputs": [
    {
     "data": {
      "text/plain": [
       "{'_index': 'sales',\n",
       " '_type': 'sales',\n",
       " '_id': '1',\n",
       " '_version': 7,\n",
       " 'result': 'updated',\n",
       " '_shards': {'total': 2, 'successful': 1, 'failed': 0},\n",
       " '_seq_no': 6,\n",
       " '_primary_term': 1}"
      ]
     },
     "execution_count": 43,
     "metadata": {},
     "output_type": "execute_result"
    }
   ],
   "source": [
    "#index some test data\n",
    "es.index(index='sales', doc_type=\"sales\" , id=1, body={'test': 'test'})"
   ]
  },
  {
   "cell_type": "code",
   "execution_count": 12,
   "metadata": {},
   "outputs": [
    {
     "data": {
      "text/plain": [
       "{'_index': 'test-index1',\n",
       " '_type': 'test1',\n",
       " '_id': '1',\n",
       " '_version': 2,\n",
       " 'result': 'updated',\n",
       " '_shards': {'total': 2, 'successful': 1, 'failed': 0},\n",
       " '_seq_no': 1,\n",
       " '_primary_term': 1}"
      ]
     },
     "execution_count": 12,
     "metadata": {},
     "output_type": "execute_result"
    }
   ],
   "source": [
    "es.index(index='test-index1', doc_type='test1', id=1, body={'test': 'test'})"
   ]
  },
  {
   "cell_type": "code",
   "execution_count": 13,
   "metadata": {},
   "outputs": [
    {
     "name": "stderr",
     "output_type": "stream",
     "text": [
      "/Users/hema/opt/anaconda3/lib/python3.9/site-packages/elasticsearch/connection/base.py:200: ElasticsearchWarning: [types removal] Specifying types in document index requests is deprecated, use the /{index}/_doc/{id} endpoint instead.\n",
      "  warnings.warn(message, category=ElasticsearchWarning)\n"
     ]
    },
    {
     "data": {
      "text/plain": [
       "{'_index': 'test-index1',\n",
       " '_type': 'test1',\n",
       " '_id': '1',\n",
       " '_version': 3,\n",
       " 'result': 'deleted',\n",
       " '_shards': {'total': 2, 'successful': 1, 'failed': 0},\n",
       " '_seq_no': 2,\n",
       " '_primary_term': 1}"
      ]
     },
     "execution_count": 13,
     "metadata": {},
     "output_type": "execute_result"
    }
   ],
   "source": [
    "\n",
    "#delete test data and try with something more interesting\n",
    "es.delete(index='test-index1', doc_type='test1', id=1)"
   ]
  },
  {
   "cell_type": "code",
   "execution_count": 16,
   "metadata": {},
   "outputs": [
    {
     "data": {
      "text/plain": [
       "{'_index': 'sw',\n",
       " '_type': 'people',\n",
       " '_id': '1',\n",
       " '_version': 3,\n",
       " 'result': 'updated',\n",
       " '_shards': {'total': 2, 'successful': 1, 'failed': 0},\n",
       " '_seq_no': 2,\n",
       " '_primary_term': 1}"
      ]
     },
     "execution_count": 16,
     "metadata": {},
     "output_type": "execute_result"
    }
   ],
   "source": [
    "es.index(index='sw', doc_type='people', id=1, body={\n",
    "\t\"name\": \"Ali Ahmad\",\n",
    "\t\"height\": \"172\",\n",
    "\t\"mass\": \"77\",\n",
    "\t\"hair_color\": \"black\",\n",
    "\t\"birth_year\": \"19111997\",\n",
    "\t\"gender\": \"male\",\n",
    "})"
   ]
  },
  {
   "cell_type": "code",
   "execution_count": 17,
   "metadata": {},
   "outputs": [],
   "source": [
    "Data=[{\n",
    "\t\"name\": \"Ali Ahmad\",\n",
    "\t\"height\": \"172\",\n",
    "\t\"mass\": \"77\",\n",
    "\t\"hair_color\": \"black\",\n",
    "\t\"birth_year\": \"19111997\",\n",
    "\t\"gender\": \"male\",\n",
    "},\n",
    "{\n",
    "\t\"name\": \"Sarah Ahmad\",\n",
    "\t\"height\": \"152\",\n",
    "\t\"mass\": \"65\",\n",
    "\t\"hair_color\": \"brown\",\n",
    "\t\"birth_year\": \"20012003\",\n",
    "\t\"gender\": \"female\",\n",
    "},{\n",
    "\t\"name\": \"Ali Salman\",\n",
    "\t\"height\": \"192\",\n",
    "\t\"mass\": \"95\",\n",
    "\t\"hair_color\": \"black\",\n",
    "\t\"birth_year\": \"19102000\",\n",
    "\t\"gender\": \"male\",\n",
    "}]"
   ]
  },
  {
   "cell_type": "code",
   "execution_count": 18,
   "metadata": {},
   "outputs": [],
   "source": [
    "#let's iterate data items\n",
    "for i, data_i in enumerate(Data,start=1):\n",
    "    es.index(index='sw', doc_type='people', id=i, body=data_i)\n",
    "    \n"
   ]
  },
  {
   "cell_type": "code",
   "execution_count": 19,
   "metadata": {},
   "outputs": [
    {
     "name": "stderr",
     "output_type": "stream",
     "text": [
      "/Users/hema/opt/anaconda3/lib/python3.9/site-packages/elasticsearch/connection/base.py:200: ElasticsearchWarning: [types removal] Specifying types in document get requests is deprecated, use the /{index}/_doc/{id} endpoint instead.\n",
      "  warnings.warn(message, category=ElasticsearchWarning)\n"
     ]
    },
    {
     "data": {
      "text/plain": [
       "{'_index': 'sw',\n",
       " '_type': 'people',\n",
       " '_id': '3',\n",
       " '_version': 1,\n",
       " '_seq_no': 5,\n",
       " '_primary_term': 1,\n",
       " 'found': True,\n",
       " '_source': {'name': 'Ali Salman',\n",
       "  'height': '192',\n",
       "  'mass': '95',\n",
       "  'hair_color': 'black',\n",
       "  'birth_year': '19102000',\n",
       "  'gender': 'male'}}"
      ]
     },
     "execution_count": 19,
     "metadata": {},
     "output_type": "execute_result"
    }
   ],
   "source": [
    "es.get(index='sw', doc_type='people', id=3)\n"
   ]
  },
  {
   "cell_type": "code",
   "execution_count": 20,
   "metadata": {},
   "outputs": [
    {
     "data": {
      "text/plain": [
       "{'took': 8,\n",
       " 'timed_out': False,\n",
       " '_shards': {'total': 1, 'successful': 1, 'skipped': 0, 'failed': 0},\n",
       " 'hits': {'total': {'value': 2, 'relation': 'eq'},\n",
       "  'max_score': 0.24116206,\n",
       "  'hits': [{'_index': 'sw',\n",
       "    '_type': 'people',\n",
       "    '_id': '1',\n",
       "    '_score': 0.24116206,\n",
       "    '_source': {'name': 'Ali Ahmad',\n",
       "     'height': '172',\n",
       "     'mass': '77',\n",
       "     'hair_color': 'black',\n",
       "     'birth_year': '19111997',\n",
       "     'gender': 'male'}},\n",
       "   {'_index': 'sw',\n",
       "    '_type': 'people',\n",
       "    '_id': '3',\n",
       "    '_score': 0.24116206,\n",
       "    '_source': {'name': 'Ali Salman',\n",
       "     'height': '192',\n",
       "     'mass': '95',\n",
       "     'hair_color': 'black',\n",
       "     'birth_year': '19102000',\n",
       "     'gender': 'male'}}]}}"
      ]
     },
     "execution_count": 20,
     "metadata": {},
     "output_type": "execute_result"
    }
   ],
   "source": [
    "#let's see if we find anyone with a name or surname starting with lu\n",
    "es.search(index=\"sw\", body={ \"query\": { \"match\": { \"name\": \"Ali\" } }})"
   ]
  },
  {
   "cell_type": "code",
   "execution_count": 25,
   "metadata": {},
   "outputs": [
    {
     "name": "stdout",
     "output_type": "stream",
     "text": [
      "{\n",
      "  \"took\" : 2,\n",
      "  \"timed_out\" : false,\n",
      "  \"_shards\" : {\n",
      "    \"total\" : 1,\n",
      "    \"successful\" : 1,\n",
      "    \"skipped\" : 0,\n",
      "    \"failed\" : 0\n",
      "  },\n",
      "  \"hits\" : {\n",
      "    \"total\" : {\n",
      "      \"value\" : 3,\n",
      "      \"relation\" : \"eq\"\n",
      "    },\n",
      "    \"max_score\" : 1.0,\n",
      "    \"hits\" : [\n",
      "      {\n",
      "        \"_index\" : \"sw\",\n",
      "        \"_type\" : \"people\",\n",
      "        \"_id\" : \"1\",\n",
      "        \"_score\" : 1.0,\n",
      "        \"_source\" : {\n",
      "          \"name\" : \"Ali Ahmad\",\n",
      "          \"height\" : \"172\",\n",
      "          \"mass\" : \"77\",\n",
      "          \"hair_color\" : \"black\",\n",
      "          \"birth_year\" : \"19111997\",\n",
      "          \"gender\" : \"male\"\n",
      "        }\n",
      "      },\n",
      "      {\n",
      "        \"_index\" : \"sw\",\n",
      "        \"_type\" : \"people\",\n",
      "        \"_id\" : \"2\",\n",
      "        \"_score\" : 1.0,\n",
      "        \"_source\" : {\n",
      "          \"name\" : \"Sarah Ahmad\",\n",
      "          \"height\" : \"152\",\n",
      "          \"mass\" : \"65\",\n",
      "          \"hair_color\" : \"brown\",\n",
      "          \"birth_year\" : \"20012003\",\n",
      "          \"gender\" : \"female\"\n",
      "        }\n",
      "      },\n",
      "      {\n",
      "        \"_index\" : \"sw\",\n",
      "        \"_type\" : \"people\",\n",
      "        \"_id\" : \"3\",\n",
      "        \"_score\" : 1.0,\n",
      "        \"_source\" : {\n",
      "          \"name\" : \"Ali Salman\",\n",
      "          \"height\" : \"192\",\n",
      "          \"mass\" : \"95\",\n",
      "          \"hair_color\" : \"black\",\n",
      "          \"birth_year\" : \"19102000\",\n",
      "          \"gender\" : \"male\"\n",
      "        }\n",
      "      }\n",
      "    ]\n",
      "  }\n",
      "}\n",
      "Collecting pandas_profiling\n",
      "  Downloading pandas_profiling-3.1.0-py2.py3-none-any.whl (261 kB)\n",
      "Requirement already satisfied: requests>=2.24.0 in /Users/hema/opt/anaconda3/lib/python3.9/site-packages (from pandas_profiling) (2.26.0)\n",
      "Requirement already satisfied: scipy>=1.4.1 in /Users/hema/opt/anaconda3/lib/python3.9/site-packages (from pandas_profiling) (1.7.1)\n",
      "Collecting markupsafe~=2.0.1\n",
      "  Downloading MarkupSafe-2.0.1-cp39-cp39-macosx_10_9_x86_64.whl (13 kB)\n",
      "Collecting tangled-up-in-unicode==0.1.0\n",
      "  Downloading tangled_up_in_unicode-0.1.0-py3-none-any.whl (3.1 MB)\n",
      "Requirement already satisfied: tqdm>=4.48.2 in /Users/hema/opt/anaconda3/lib/python3.9/site-packages (from pandas_profiling) (4.62.3)\n",
      "Collecting multimethod>=1.4\n",
      "  Downloading multimethod-1.8-py3-none-any.whl (9.8 kB)\n",
      "Requirement already satisfied: pandas!=1.0.0,!=1.0.1,!=1.0.2,!=1.1.0,>=0.25.3 in /Users/hema/opt/anaconda3/lib/python3.9/site-packages (from pandas_profiling) (1.3.4)\n",
      "Requirement already satisfied: numpy>=1.16.0 in /Users/hema/opt/anaconda3/lib/python3.9/site-packages (from pandas_profiling) (1.20.3)\n",
      "Requirement already satisfied: seaborn>=0.10.1 in /Users/hema/opt/anaconda3/lib/python3.9/site-packages (from pandas_profiling) (0.11.2)\n",
      "Requirement already satisfied: PyYAML>=5.0.0 in /Users/hema/opt/anaconda3/lib/python3.9/site-packages (from pandas_profiling) (6.0)\n",
      "Requirement already satisfied: matplotlib>=3.2.0 in /Users/hema/opt/anaconda3/lib/python3.9/site-packages (from pandas_profiling) (3.4.3)\n",
      "Collecting missingno>=0.4.2\n",
      "  Downloading missingno-0.5.1-py3-none-any.whl (8.7 kB)\n",
      "Collecting phik>=0.11.1\n",
      "  Downloading phik-0.12.2-cp39-cp39-macosx_10_13_x86_64.whl (694 kB)\n",
      "Collecting joblib~=1.0.1\n",
      "  Downloading joblib-1.0.1-py3-none-any.whl (303 kB)\n",
      "Collecting pydantic>=1.8.1\n",
      "  Downloading pydantic-1.9.0-cp39-cp39-macosx_10_9_x86_64.whl (2.9 MB)\n",
      "Collecting htmlmin>=0.1.12\n",
      "  Downloading htmlmin-0.1.12.tar.gz (19 kB)\n",
      "Collecting visions[type_image_path]==0.7.4\n",
      "  Downloading visions-0.7.4-py3-none-any.whl (102 kB)\n",
      "Requirement already satisfied: jinja2>=2.11.1 in /Users/hema/opt/anaconda3/lib/python3.9/site-packages (from pandas_profiling) (2.11.3)\n",
      "Requirement already satisfied: attrs>=19.3.0 in /Users/hema/opt/anaconda3/lib/python3.9/site-packages (from visions[type_image_path]==0.7.4->pandas_profiling) (21.2.0)\n",
      "Requirement already satisfied: networkx>=2.4 in /Users/hema/opt/anaconda3/lib/python3.9/site-packages (from visions[type_image_path]==0.7.4->pandas_profiling) (2.6.3)\n",
      "Requirement already satisfied: Pillow in /Users/hema/opt/anaconda3/lib/python3.9/site-packages (from visions[type_image_path]==0.7.4->pandas_profiling) (8.4.0)\n",
      "Collecting imagehash\n",
      "  Downloading ImageHash-4.2.1.tar.gz (812 kB)\n",
      "Requirement already satisfied: pyparsing>=2.2.1 in /Users/hema/opt/anaconda3/lib/python3.9/site-packages (from matplotlib>=3.2.0->pandas_profiling) (3.0.4)\n",
      "Requirement already satisfied: cycler>=0.10 in /Users/hema/opt/anaconda3/lib/python3.9/site-packages (from matplotlib>=3.2.0->pandas_profiling) (0.10.0)\n",
      "Requirement already satisfied: python-dateutil>=2.7 in /Users/hema/opt/anaconda3/lib/python3.9/site-packages (from matplotlib>=3.2.0->pandas_profiling) (2.8.2)\n",
      "Requirement already satisfied: kiwisolver>=1.0.1 in /Users/hema/opt/anaconda3/lib/python3.9/site-packages (from matplotlib>=3.2.0->pandas_profiling) (1.3.1)\n",
      "Requirement already satisfied: six in /Users/hema/opt/anaconda3/lib/python3.9/site-packages (from cycler>=0.10->matplotlib>=3.2.0->pandas_profiling) (1.16.0)\n",
      "Requirement already satisfied: pytz>=2017.3 in /Users/hema/opt/anaconda3/lib/python3.9/site-packages (from pandas!=1.0.0,!=1.0.1,!=1.0.2,!=1.1.0,>=0.25.3->pandas_profiling) (2021.3)\n",
      "Requirement already satisfied: typing-extensions>=3.7.4.3 in /Users/hema/opt/anaconda3/lib/python3.9/site-packages (from pydantic>=1.8.1->pandas_profiling) (3.10.0.2)\n",
      "Requirement already satisfied: idna<4,>=2.5 in /Users/hema/opt/anaconda3/lib/python3.9/site-packages (from requests>=2.24.0->pandas_profiling) (3.2)\n",
      "Requirement already satisfied: charset-normalizer~=2.0.0 in /Users/hema/opt/anaconda3/lib/python3.9/site-packages (from requests>=2.24.0->pandas_profiling) (2.0.4)\n",
      "Requirement already satisfied: certifi>=2017.4.17 in /Users/hema/opt/anaconda3/lib/python3.9/site-packages (from requests>=2.24.0->pandas_profiling) (2021.10.8)\n",
      "Requirement already satisfied: urllib3<1.27,>=1.21.1 in /Users/hema/opt/anaconda3/lib/python3.9/site-packages (from requests>=2.24.0->pandas_profiling) (1.25.11)\n",
      "Requirement already satisfied: PyWavelets in /Users/hema/opt/anaconda3/lib/python3.9/site-packages (from imagehash->visions[type_image_path]==0.7.4->pandas_profiling) (1.1.1)\n",
      "Building wheels for collected packages: htmlmin, imagehash\n",
      "  Building wheel for htmlmin (setup.py): started\n",
      "  Building wheel for htmlmin (setup.py): finished with status 'done'\n",
      "  Created wheel for htmlmin: filename=htmlmin-0.1.12-py3-none-any.whl size=27098 sha256=e1bda5717eec1d73e749a4c4af738e8e4a5154adde9a3d307e6be410c0bdf632\n",
      "  Stored in directory: /Users/hema/Library/Caches/pip/wheels/1d/05/04/c6d7d3b66539d9e659ac6dfe81e2d0fd4c1a8316cc5a403300\n",
      "  Building wheel for imagehash (setup.py): started\n",
      "  Building wheel for imagehash (setup.py): finished with status 'done'\n",
      "  Created wheel for imagehash: filename=ImageHash-4.2.1-py2.py3-none-any.whl size=295207 sha256=f0f92830a2acf046af438a5fc2a12b12610749c92d5f33dff508afa5c1a501c2\n",
      "  Stored in directory: /Users/hema/Library/Caches/pip/wheels/51/f9/a5/740af2fdb0ad1edf79aabdc41531be0b6f0b2e2be684c388cf\n",
      "Successfully built htmlmin imagehash\n",
      "Installing collected packages: tangled-up-in-unicode, multimethod, visions, markupsafe, joblib, imagehash, pydantic, phik, missingno, htmlmin, pandas-profiling\n",
      "  Attempting uninstall: markupsafe\n",
      "    Found existing installation: MarkupSafe 1.1.1\n",
      "    Uninstalling MarkupSafe-1.1.1:\n",
      "      Successfully uninstalled MarkupSafe-1.1.1\n",
      "  Attempting uninstall: joblib\n",
      "    Found existing installation: joblib 1.1.0\n",
      "    Uninstalling joblib-1.1.0:\n",
      "      Successfully uninstalled joblib-1.1.0\n",
      "Successfully installed htmlmin-0.1.12 imagehash-4.2.1 joblib-1.0.1 markupsafe-2.0.1 missingno-0.5.1 multimethod-1.8 pandas-profiling-3.1.0 phik-0.12.2 pydantic-1.9.0 tangled-up-in-unicode-0.1.0 visions-0.7.4\n"
     ]
    },
    {
     "name": "stderr",
     "output_type": "stream",
     "text": [
      "  % Total    % Received % Xferd  Average Speed   Time    Time     Time  Current\n",
      "                                 Dload  Upload   Total   Spent    Left  Speed\n",
      "100  1261  100  1261    0     0   133k      0 --:--:-- --:--:-- --:--:--  136k\n",
      "ERROR: pip's dependency resolver does not currently take into account all the packages that are installed. This behaviour is the source of the following dependency conflicts.\n",
      "anaconda-project 0.10.1 requires ruamel-yaml, which is not installed.\n",
      "cookiecutter 1.7.2 requires MarkupSafe<2.0.0, but you have markupsafe 2.0.1 which is incompatible.\n"
     ]
    }
   ],
   "source": [
    "%%bash\n",
    "curl -XPOST http://localhost:9200/sw/people/_search?pretty=true "
   ]
  },
  {
   "cell_type": "markdown",
   "metadata": {},
   "source": [
    "## Display Kebana "
   ]
  },
  {
   "cell_type": "code",
   "execution_count": 22,
   "metadata": {},
   "outputs": [
    {
     "data": {
      "text/html": [
       "\n",
       "        <iframe\n",
       "            width=\"1600\"\n",
       "            height=\"800\"\n",
       "            src=\"http://localhost:5601\"\n",
       "            frameborder=\"0\"\n",
       "            allowfullscreen\n",
       "            \n",
       "        ></iframe>\n",
       "        "
      ],
      "text/plain": [
       "<IPython.lib.display.IFrame at 0x7f8468d99ca0>"
      ]
     },
     "execution_count": 22,
     "metadata": {},
     "output_type": "execute_result"
    }
   ],
   "source": [
    "from IPython.display import IFrame\n",
    "HTML=\"http://localhost:5601\"\n",
    "IFrame(HTML, width=1600, height=800)"
   ]
  },
  {
   "cell_type": "markdown",
   "metadata": {},
   "source": [
    "## Display a dash board link"
   ]
  },
  {
   "cell_type": "code",
   "execution_count": 39,
   "metadata": {},
   "outputs": [
    {
     "data": {
      "text/html": [
       "\n",
       "        <iframe\n",
       "            width=\"1600\"\n",
       "            height=\"800\"\n",
       "            src=\"http://localhost:5601/goto/abafb13b1352b327883879c096c8d60d\"\n",
       "            frameborder=\"0\"\n",
       "            allowfullscreen\n",
       "            \n",
       "        ></iframe>\n",
       "        "
      ],
      "text/plain": [
       "<IPython.lib.display.IFrame at 0x7f84acf2f160>"
      ]
     },
     "execution_count": 39,
     "metadata": {},
     "output_type": "execute_result"
    }
   ],
   "source": [
    "from IPython.display import IFrame\n",
    "HTML=\"http://localhost:5601/goto/abafb13b1352b327883879c096c8d60d\"\n",
    "IFrame(HTML, width=1600, height=800)\n",
    "\n"
   ]
  },
  {
   "cell_type": "code",
   "execution_count": 37,
   "metadata": {},
   "outputs": [
    {
     "name": "stdout",
     "output_type": "stream",
     "text": [
      "Requirement already satisfied: pandas_profiling in /Users/hema/opt/anaconda3/lib/python3.9/site-packages (2.7.1)\n",
      "Collecting pandas_profiling\n",
      "  Using cached pandas_profiling-3.1.0-py2.py3-none-any.whl (261 kB)\n",
      "Requirement already satisfied: numpy>=1.16.0 in /Users/hema/opt/anaconda3/lib/python3.9/site-packages (from pandas_profiling) (1.20.3)\n",
      "Requirement already satisfied: htmlmin>=0.1.12 in /Users/hema/opt/anaconda3/lib/python3.9/site-packages (from pandas_profiling) (0.1.12)\n",
      "Requirement already satisfied: jinja2>=2.11.1 in /Users/hema/opt/anaconda3/lib/python3.9/site-packages (from pandas_profiling) (2.11.3)\n",
      "Requirement already satisfied: tangled-up-in-unicode==0.1.0 in /Users/hema/opt/anaconda3/lib/python3.9/site-packages (from pandas_profiling) (0.1.0)\n",
      "Requirement already satisfied: phik>=0.11.1 in /Users/hema/opt/anaconda3/lib/python3.9/site-packages (from pandas_profiling) (0.12.2)\n",
      "Requirement already satisfied: multimethod>=1.4 in /Users/hema/opt/anaconda3/lib/python3.9/site-packages (from pandas_profiling) (1.8)\n",
      "Requirement already satisfied: requests>=2.24.0 in /Users/hema/opt/anaconda3/lib/python3.9/site-packages (from pandas_profiling) (2.26.0)\n",
      "Requirement already satisfied: scipy>=1.4.1 in /Users/hema/opt/anaconda3/lib/python3.9/site-packages (from pandas_profiling) (1.7.1)\n",
      "Requirement already satisfied: tqdm>=4.48.2 in /Users/hema/opt/anaconda3/lib/python3.9/site-packages (from pandas_profiling) (4.62.3)\n",
      "Requirement already satisfied: pandas!=1.0.0,!=1.0.1,!=1.0.2,!=1.1.0,>=0.25.3 in /Users/hema/opt/anaconda3/lib/python3.9/site-packages (from pandas_profiling) (1.3.4)\n",
      "Requirement already satisfied: missingno>=0.4.2 in /Users/hema/opt/anaconda3/lib/python3.9/site-packages (from pandas_profiling) (0.5.1)\n",
      "Requirement already satisfied: seaborn>=0.10.1 in /Users/hema/opt/anaconda3/lib/python3.9/site-packages (from pandas_profiling) (0.11.2)\n",
      "Requirement already satisfied: pydantic>=1.8.1 in /Users/hema/opt/anaconda3/lib/python3.9/site-packages (from pandas_profiling) (1.9.0)\n",
      "Requirement already satisfied: markupsafe~=2.0.1 in /Users/hema/opt/anaconda3/lib/python3.9/site-packages (from pandas_profiling) (2.0.1)\n",
      "Requirement already satisfied: joblib~=1.0.1 in /Users/hema/opt/anaconda3/lib/python3.9/site-packages (from pandas_profiling) (1.0.1)\n",
      "Requirement already satisfied: matplotlib>=3.2.0 in /Users/hema/opt/anaconda3/lib/python3.9/site-packages (from pandas_profiling) (3.4.3)\n",
      "Requirement already satisfied: PyYAML>=5.0.0 in /Users/hema/opt/anaconda3/lib/python3.9/site-packages (from pandas_profiling) (6.0)\n",
      "Collecting visions[type_image_path]==0.7.4\n",
      "  Using cached visions-0.7.4-py3-none-any.whl (102 kB)\n",
      "Requirement already satisfied: networkx>=2.4 in /Users/hema/opt/anaconda3/lib/python3.9/site-packages (from visions[type_image_path]==0.7.4->pandas_profiling) (2.6.3)\n",
      "Requirement already satisfied: attrs>=19.3.0 in /Users/hema/opt/anaconda3/lib/python3.9/site-packages (from visions[type_image_path]==0.7.4->pandas_profiling) (21.2.0)\n",
      "Requirement already satisfied: imagehash in /Users/hema/opt/anaconda3/lib/python3.9/site-packages (from visions[type_image_path]==0.7.4->pandas_profiling) (4.2.1)\n",
      "Requirement already satisfied: Pillow in /Users/hema/opt/anaconda3/lib/python3.9/site-packages (from visions[type_image_path]==0.7.4->pandas_profiling) (8.4.0)\n",
      "Requirement already satisfied: kiwisolver>=1.0.1 in /Users/hema/opt/anaconda3/lib/python3.9/site-packages (from matplotlib>=3.2.0->pandas_profiling) (1.3.1)\n",
      "Requirement already satisfied: pyparsing>=2.2.1 in /Users/hema/opt/anaconda3/lib/python3.9/site-packages (from matplotlib>=3.2.0->pandas_profiling) (3.0.4)\n",
      "Requirement already satisfied: cycler>=0.10 in /Users/hema/opt/anaconda3/lib/python3.9/site-packages (from matplotlib>=3.2.0->pandas_profiling) (0.10.0)\n",
      "Requirement already satisfied: python-dateutil>=2.7 in /Users/hema/opt/anaconda3/lib/python3.9/site-packages (from matplotlib>=3.2.0->pandas_profiling) (2.8.2)\n",
      "Requirement already satisfied: six in /Users/hema/opt/anaconda3/lib/python3.9/site-packages (from cycler>=0.10->matplotlib>=3.2.0->pandas_profiling) (1.16.0)\n",
      "Requirement already satisfied: pytz>=2017.3 in /Users/hema/opt/anaconda3/lib/python3.9/site-packages (from pandas!=1.0.0,!=1.0.1,!=1.0.2,!=1.1.0,>=0.25.3->pandas_profiling) (2021.3)\n",
      "Requirement already satisfied: typing-extensions>=3.7.4.3 in /Users/hema/opt/anaconda3/lib/python3.9/site-packages (from pydantic>=1.8.1->pandas_profiling) (3.10.0.2)\n",
      "Requirement already satisfied: urllib3<1.27,>=1.21.1 in /Users/hema/opt/anaconda3/lib/python3.9/site-packages (from requests>=2.24.0->pandas_profiling) (1.25.11)\n",
      "Requirement already satisfied: idna<4,>=2.5 in /Users/hema/opt/anaconda3/lib/python3.9/site-packages (from requests>=2.24.0->pandas_profiling) (3.2)\n",
      "Requirement already satisfied: charset-normalizer~=2.0.0 in /Users/hema/opt/anaconda3/lib/python3.9/site-packages (from requests>=2.24.0->pandas_profiling) (2.0.4)\n",
      "Requirement already satisfied: certifi>=2017.4.17 in /Users/hema/opt/anaconda3/lib/python3.9/site-packages (from requests>=2.24.0->pandas_profiling) (2021.10.8)\n",
      "Requirement already satisfied: PyWavelets in /Users/hema/opt/anaconda3/lib/python3.9/site-packages (from imagehash->visions[type_image_path]==0.7.4->pandas_profiling) (1.1.1)\n",
      "Installing collected packages: visions, pandas-profiling\n",
      "  Attempting uninstall: visions\n",
      "    Found existing installation: visions 0.4.1\n",
      "    Uninstalling visions-0.4.1:\n",
      "      Successfully uninstalled visions-0.4.1\n",
      "  Attempting uninstall: pandas-profiling\n",
      "    Found existing installation: pandas-profiling 2.7.1\n",
      "    Uninstalling pandas-profiling-2.7.1:\n",
      "      Successfully uninstalled pandas-profiling-2.7.1\n",
      "Successfully installed pandas-profiling-3.1.0 visions-0.7.4\n"
     ]
    }
   ],
   "source": [
    "!pip install --upgrade pandas_profiling"
   ]
  },
  {
   "cell_type": "code",
   "execution_count": 38,
   "metadata": {},
   "outputs": [
    {
     "data": {
      "application/vnd.jupyter.widget-view+json": {
       "model_id": "9c9bda57675f47248964136503b84ff1",
       "version_major": 2,
       "version_minor": 0
      },
      "text/plain": [
       "Summarize dataset:   0%|          | 0/5 [00:00<?, ?it/s]"
      ]
     },
     "metadata": {},
     "output_type": "display_data"
    },
    {
     "data": {
      "application/vnd.jupyter.widget-view+json": {
       "model_id": "9e9f3d96152844aa8afe8b7cac0969c9",
       "version_major": 2,
       "version_minor": 0
      },
      "text/plain": [
       "Generate report structure:   0%|          | 0/1 [00:00<?, ?it/s]"
      ]
     },
     "metadata": {},
     "output_type": "display_data"
    },
    {
     "data": {
      "application/vnd.jupyter.widget-view+json": {
       "model_id": "c1fb4780e3da44988988c70e99be20e0",
       "version_major": 2,
       "version_minor": 0
      },
      "text/plain": [
       "Render HTML:   0%|          | 0/1 [00:00<?, ?it/s]"
      ]
     },
     "metadata": {},
     "output_type": "display_data"
    },
    {
     "data": {
      "application/vnd.jupyter.widget-view+json": {
       "model_id": "318e1a0adfd040d1aaad71e63dad496a",
       "version_major": 2,
       "version_minor": 0
      },
      "text/plain": [
       "Export report to file:   0%|          | 0/1 [00:00<?, ?it/s]"
      ]
     },
     "metadata": {},
     "output_type": "display_data"
    }
   ],
   "source": [
    "import numpy as np\n",
    "import pandas as pd\n",
    "from pandas_profiling import ProfileReport\n",
    "\n",
    "df = pd.DataFrame(\n",
    "    np.random.rand(100, 5),\n",
    "    columns=[\"a\", \"b\", \"c\", \"d\", \"e\"]\n",
    ")\n",
    "\n",
    "profile = ProfileReport(df, title=\"Pandas Profiling Report\")\n",
    "profile.to_file('test.html')"
   ]
  },
  {
   "cell_type": "code",
   "execution_count": 29,
   "metadata": {},
   "outputs": [
    {
     "data": {
      "application/vnd.jupyter.widget-view+json": {
       "model_id": "b946945c35b14f03a3a8cdeb2ec18fc2",
       "version_major": 2,
       "version_minor": 0
      },
      "text/plain": [
       "HBox(children=(HTML(value='Export report to file'), FloatProgress(value=0.0, max=1.0), HTML(value='')))"
      ]
     },
     "metadata": {},
     "output_type": "display_data"
    },
    {
     "name": "stdout",
     "output_type": "stream",
     "text": [
      "\n"
     ]
    }
   ],
   "source": []
  },
  {
   "cell_type": "code",
   "execution_count": null,
   "metadata": {},
   "outputs": [],
   "source": []
  },
  {
   "cell_type": "code",
   "execution_count": 31,
   "metadata": {},
   "outputs": [
    {
     "ename": "NameError",
     "evalue": "name 'Text' is not defined",
     "output_type": "error",
     "traceback": [
      "\u001b[0;31m---------------------------------------------------------------------------\u001b[0m",
      "\u001b[0;31mNameError\u001b[0m                                 Traceback (most recent call last)",
      "\u001b[0;32m/var/folders/24/dw8lrqts5y7930djlkfrj16w0000gn/T/ipykernel_13529/1621973040.py\u001b[0m in \u001b[0;36m<module>\u001b[0;34m\u001b[0m\n\u001b[1;32m      1\u001b[0m \u001b[0;32mimport\u001b[0m \u001b[0mre\u001b[0m\u001b[0;34m\u001b[0m\u001b[0;34m\u001b[0m\u001b[0m\n\u001b[1;32m      2\u001b[0m \u001b[0mpatt\u001b[0m\u001b[0;34m=\u001b[0m\u001b[0mre\u001b[0m\u001b[0;34m.\u001b[0m\u001b[0mcompile\u001b[0m\u001b[0;34m(\u001b[0m\u001b[0;34m'\\d+'\u001b[0m\u001b[0;34m)\u001b[0m\u001b[0;34m\u001b[0m\u001b[0;34m\u001b[0m\u001b[0m\n\u001b[0;32m----> 3\u001b[0;31m \u001b[0mList\u001b[0m\u001b[0;34m=\u001b[0m\u001b[0mre\u001b[0m\u001b[0;34m.\u001b[0m\u001b[0mfindall\u001b[0m\u001b[0;34m(\u001b[0m\u001b[0mpatt\u001b[0m\u001b[0;34m,\u001b[0m\u001b[0mText\u001b[0m\u001b[0;34m)\u001b[0m\u001b[0;34m\u001b[0m\u001b[0;34m\u001b[0m\u001b[0m\n\u001b[0m\u001b[1;32m      4\u001b[0m \u001b[0mList\u001b[0m\u001b[0;34m\u001b[0m\u001b[0;34m\u001b[0m\u001b[0m\n",
      "\u001b[0;31mNameError\u001b[0m: name 'Text' is not defined"
     ]
    }
   ],
   "source": [
    "import re\n",
    "patt=re.compile('\\d+')\n",
    "List=re.findall(patt,Text)\n",
    "List"
   ]
  },
  {
   "cell_type": "code",
   "execution_count": 61,
   "metadata": {},
   "outputs": [
    {
     "data": {
      "text/plain": [
       "'20208004'"
      ]
     },
     "execution_count": 61,
     "metadata": {},
     "output_type": "execute_result"
    }
   ],
   "source": [
    "import random\n",
    "random.choice(List)"
   ]
  },
  {
   "cell_type": "code",
   "execution_count": 56,
   "metadata": {},
   "outputs": [
    {
     "data": {
      "text/plain": [
       "'20208089'"
      ]
     },
     "execution_count": 56,
     "metadata": {},
     "output_type": "execute_result"
    }
   ],
   "source": []
  },
  {
   "cell_type": "code",
   "execution_count": null,
   "metadata": {},
   "outputs": [],
   "source": []
  }
 ],
 "metadata": {
  "kernelspec": {
   "display_name": "Python 3 (ipykernel)",
   "language": "python",
   "name": "python3"
  },
  "language_info": {
   "codemirror_mode": {
    "name": "ipython",
    "version": 3
   },
   "file_extension": ".py",
   "mimetype": "text/x-python",
   "name": "python",
   "nbconvert_exporter": "python",
   "pygments_lexer": "ipython3",
   "version": "3.9.7"
  }
 },
 "nbformat": 4,
 "nbformat_minor": 4
}
